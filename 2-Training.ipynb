{
  "cells": [
    {
      "cell_type": "markdown",
      "metadata": {
        "id": "view-in-github",
        "colab_type": "text"
      },
      "source": [
        "<a href=\"https://colab.research.google.com/github/CarlosSMWolff/ParamEst-NN/blob/main/2-Training.ipynb\" target=\"_parent\"><img src=\"https://colab.research.google.com/assets/colab-badge.svg\" alt=\"Open In Colab\"/></a>"
      ]
    },
    {
      "cell_type": "markdown",
      "id": "8537ee71",
      "metadata": {
        "id": "8537ee71"
      },
      "source": [
        "# Training of Neural Networks"
      ]
    },
    {
      "cell_type": "markdown",
      "id": "1401c37c",
      "metadata": {
        "id": "1401c37c"
      },
      "source": [
        "##  Goal"
      ]
    },
    {
      "cell_type": "markdown",
      "id": "9b620be7",
      "metadata": {
        "id": "9b620be7"
      },
      "source": [
        "In this notebook, we train neural networks (NNs) on simulated photon-counting data for the task of parameter estimation.\n",
        "\n",
        "This notebook will populate the `data\\models` folder.\n",
        "\n",
        "\n",
        "Each row in the training data $x$ consists on lists of time delays between photo-detection events of the form $D=[\\tau_1,\\ldots,\\tau_N]$.\n",
        "\n",
        "The target data $y$ consist of the true values of the parameters to be estimated (i.e., the parameters used to simulate the photon-counting data).\n",
        "\n",
        "This corresponds to $\\Delta$ in the 1D parameter estimation case, or a vector with the values $[\\Delta,\\Omega]$ in the 2D parameter estimation case."
      ]
    },
    {
      "cell_type": "markdown",
      "source": [
        "## Imports"
      ],
      "metadata": {
        "id": "X_APxnGME3yW"
      },
      "id": "X_APxnGME3yW"
    },
    {
      "cell_type": "code",
      "source": [
        "import tensorflow as tf\n",
        "from tensorflow import keras\n",
        "import matplotlib.pyplot as plt\n",
        "import pandas as pd\n",
        "import numpy as np\n",
        "from random import *\n",
        "import os\n",
        "\n",
        "from tqdm import tqdm\n",
        "\n",
        "# Find out if this notebook is running in Google Colab\n",
        "isColab= 'google.colab' in str(get_ipython())\n",
        "if isColab:\n",
        "  from google.colab import files\n",
        "import gc\n",
        "\n",
        "# We fix the random seed to ensure reproducibility\n",
        "\n",
        "my_seed_number = 42\n",
        "# Set the random seed for TensorFlow\n",
        "tf.random.set_seed(my_seed_number)\n",
        "\n",
        "# Set the random seed for NumPy (used by TensorFlow for certain operations)\n",
        "np.random.seed(my_seed_number)"
      ],
      "metadata": {
        "id": "Tx8wA3ZVE6Ob"
      },
      "id": "Tx8wA3ZVE6Ob",
      "execution_count": 1,
      "outputs": []
    },
    {
      "cell_type": "markdown",
      "metadata": {
        "id": "108b21b1"
      },
      "source": [
        "## Setup and requirements"
      ],
      "id": "108b21b1"
    },
    {
      "cell_type": "markdown",
      "metadata": {
        "id": "eaaaefc5"
      },
      "source": [
        "This notebook requires to be run in a folder containing a populated folder `[datapath]\\training-trajectories`.\n",
        "\n",
        "To populate this folder, run the notebook `1-Trajectories_generation.ipynb` in this repository, or download the datasets from [Zenodo](https://zenodo.org/)."
      ],
      "id": "eaaaefc5"
    },
    {
      "cell_type": "markdown",
      "source": [
        "### Data path"
      ],
      "metadata": {
        "id": "2Vh45Yqv2aoG"
      },
      "id": "2Vh45Yqv2aoG"
    },
    {
      "cell_type": "code",
      "source": [
        "# specify the data path\n",
        "datapath = 'data/'"
      ],
      "metadata": {
        "id": "9-K-U6Y42chF"
      },
      "execution_count": 2,
      "outputs": [],
      "id": "9-K-U6Y42chF"
    },
    {
      "cell_type": "markdown",
      "source": [
        "Create data folder in the datapath if not already present"
      ],
      "metadata": {
        "id": "yz-z6KA_3fvG"
      },
      "id": "yz-z6KA_3fvG"
    },
    {
      "cell_type": "code",
      "source": [
        "filepath = datapath\n",
        "\n",
        "import os\n",
        "\n",
        "if not os.path.exists(filepath):\n",
        "    os.makedirs(filepath)"
      ],
      "metadata": {
        "id": "6sdFul0m3eUp"
      },
      "execution_count": 3,
      "outputs": [],
      "id": "6sdFul0m3eUp"
    },
    {
      "cell_type": "markdown",
      "id": "09a2acd3",
      "metadata": {
        "id": "09a2acd3"
      },
      "source": [
        "### Colab setup"
      ]
    },
    {
      "cell_type": "markdown",
      "id": "6ae4f421",
      "metadata": {
        "id": "6ae4f421"
      },
      "source": [
        "If this notebook is run online in Google Colab, we:\n",
        "- Download the repository from GitHub to have access to our custom functions in the `src` folder.\n",
        "- Download a populated `training-trajectories` zipped folder from the link given in the variable `data_folder_address`.\n",
        "\n",
        "You can change the `data_folder_address` string by any URL pointing to your own data, hosted e.g. in Dropbox (recommended for better download speeds)."
      ]
    },
    {
      "cell_type": "code",
      "execution_count": 4,
      "id": "a0556ce9",
      "metadata": {
        "id": "a0556ce9"
      },
      "outputs": [],
      "source": [
        "# OPTION #1\n",
        "# ===========\n",
        "data_folder_link_address = 'https://www.dropbox.com/scl/fi/xqsofxal5zyoxojudexmi/training-trajectories.zip?rlkey=zbgkc2jd83bwdtl5kj7rli22e&dl=0'\n",
        "\n",
        "# OPTION #2 (Slower, link guaranteed)\n",
        "# ===========\n",
        "#data_folder_link_address = 'zenodo link'"
      ]
    },
    {
      "cell_type": "code",
      "execution_count": 5,
      "id": "8c7afbd9",
      "metadata": {
        "colab": {
          "base_uri": "https://localhost:8080/"
        },
        "id": "8c7afbd9",
        "outputId": "62093bd6-17ce-447f-dca3-62e90f2dbcc5"
      },
      "outputs": [
        {
          "output_type": "stream",
          "name": "stdout",
          "text": [
            "We are running in Colab. Downloading repository and data.\n",
            "Cloning into 'ParamEst-NN'...\n",
            "remote: Enumerating objects: 121, done.\u001b[K\n",
            "remote: Counting objects: 100% (121/121), done.\u001b[K\n",
            "remote: Compressing objects: 100% (73/73), done.\u001b[K\n",
            "remote: Total 121 (delta 55), reused 95 (delta 37), pack-reused 0\u001b[K\n",
            "Receiving objects: 100% (121/121), 1.62 MiB | 13.47 MiB/s, done.\n",
            "Resolving deltas: 100% (55/55), done.\n",
            "Repository downloaded.\n",
            "Downloading training-trajectories folder.\n",
            "training-trajectori 100%[===================>]   2.76G  19.4MB/s    in 2m 15s  \n"
          ]
        }
      ],
      "source": [
        "if isColab:\n",
        "  print('We are running in Colab. Downloading repository and data.')\n",
        "  # Download the repository (necessary to access functions in /src folder)\n",
        "  ! git clone https://github.com/CarlosSMWolff/ParamEst-NN\n",
        "\n",
        "  print('Repository downloaded.')\n",
        "  ! mv ParamEst-NN/* . && rm -r ParamEst-NN\n",
        "\n",
        "  print('Downloading training-trajectories folder.')\n",
        "  # Set URL for data\n",
        "  ! wget -q -O training-trajectories.zip --show-progress \"$data_folder_link_address\" && unzip -q training-trajectories.zip -d data &&  rm training-trajectories.zip\n"
      ]
    },
    {
      "cell_type": "markdown",
      "source": [
        "### Training strategy"
      ],
      "metadata": {
        "id": "lie8jVx6B9e8"
      },
      "id": "lie8jVx6B9e8"
    },
    {
      "cell_type": "markdown",
      "source": [
        "We check if there is a TPU available (running in Colab) and set the corresponding strategy to run on TPU. Otherwise, we use the default distribution strategy based on your hardware and environment."
      ],
      "metadata": {
        "id": "-K_DnBvtCIxw"
      },
      "id": "-K_DnBvtCIxw"
    },
    {
      "cell_type": "code",
      "source": [
        "if 'COLAB_TPU_ADDR' in os.environ:\n",
        "    print(\"Tensorflow running in TPU\")\n",
        "elif tf.config.experimental.list_physical_devices('GPU'):\n",
        "    print(\"Tensorflow running in GPU\")\n",
        "else:\n",
        "    print(\"Tensorflow running in CPU\")\n",
        "\n",
        "def setup_strategy():\n",
        "    if 'COLAB_TPU_ADDR' in os.environ:\n",
        "        # TPU setup\n",
        "        resolver = tf.distribute.cluster_resolver.TPUClusterResolver('grpc://' + os.environ['COLAB_TPU_ADDR'])\n",
        "        tf.config.experimental_connect_to_cluster(resolver)\n",
        "        tf.tpu.experimental.initialize_tpu_system(resolver)\n",
        "        print(\"Running on TPU\")\n",
        "        strategy = tf.distribute.TPUStrategy(resolver)\n",
        "    else:\n",
        "        strategy = tf.distribute.get_strategy()  # Get the default strategy\n",
        "    return strategy"
      ],
      "metadata": {
        "colab": {
          "base_uri": "https://localhost:8080/"
        },
        "id": "IQxV-rIYA3tb",
        "outputId": "72bfe764-a0b4-483a-dadf-3a0cd07b7229"
      },
      "id": "IQxV-rIYA3tb",
      "execution_count": 6,
      "outputs": [
        {
          "output_type": "stream",
          "name": "stdout",
          "text": [
            "Tensorflow running in GPU\n"
          ]
        }
      ]
    },
    {
      "cell_type": "markdown",
      "id": "e1bc8d3d",
      "metadata": {
        "id": "e1bc8d3d"
      },
      "source": [
        "## Training 1D Models <a id='1D'> </a>"
      ]
    },
    {
      "cell_type": "markdown",
      "id": "yPRXtXjZS2E6",
      "metadata": {
        "id": "yPRXtXjZS2E6"
      },
      "source": [
        "### Load training data (1D $\\Delta$ estimation) <a id='load'></a>"
      ]
    },
    {
      "cell_type": "code",
      "execution_count": 7,
      "id": "43lYZHZMS2E7",
      "metadata": {
        "id": "43lYZHZMS2E7"
      },
      "outputs": [],
      "source": [
        "path_tau= datapath + \"training-trajectories/1D-delta/taus-Delta-1D.npy\"\n",
        "path_param= datapath +\"training-trajectories/1D-delta/delta_rand_list-Delta-1D.npy\""
      ]
    },
    {
      "cell_type": "code",
      "execution_count": 8,
      "id": "zPPWDvvBYnRd",
      "metadata": {
        "colab": {
          "base_uri": "https://localhost:8080/"
        },
        "id": "zPPWDvvBYnRd",
        "outputId": "69afc6fb-1a12-4e22-b81a-ff28173d5e5d"
      },
      "outputs": [
        {
          "output_type": "stream",
          "name": "stdout",
          "text": [
            "4000000 trajectories loaded\n"
          ]
        }
      ],
      "source": [
        "tau_list = np.load(path_tau)\n",
        "Delta_list = np.load(path_param)\n",
        "\n",
        "ntraj = len(tau_list)\n",
        "\n",
        "if len(tau_list)!=len(Delta_list):\n",
        "  print(\"ERROR: Dimensions of X (tau_list) and Y (Delta_list) do not match!\")\n",
        "else:\n",
        "  print(f\"{ntraj} trajectories loaded\")"
      ]
    },
    {
      "cell_type": "markdown",
      "id": "r0stn6jga4Du",
      "metadata": {
        "id": "r0stn6jga4Du"
      },
      "source": [
        "Select the number of trajectories that we want to use for the training (equal or smaller to number of trajectories loaded)"
      ]
    },
    {
      "cell_type": "code",
      "execution_count": 16,
      "id": "Laza9HBajKaF",
      "metadata": {
        "id": "Laza9HBajKaF"
      },
      "outputs": [],
      "source": [
        "ntraj_select = 4000\n",
        "\n",
        "tau_list = tau_list[:ntraj_select].astype(np.float32)\n",
        "Delta_list = Delta_list[:ntraj_select].astype(np.float32)"
      ]
    },
    {
      "cell_type": "markdown",
      "id": "069220f7",
      "metadata": {
        "id": "069220f7"
      },
      "source": [
        "- We split the data set: 80% training, 20% validation.\n",
        "\n",
        "- We do not shuffle the data since the trajectories were already generated randomly"
      ]
    },
    {
      "cell_type": "code",
      "execution_count": 17,
      "id": "A_HXjDFbca00",
      "metadata": {
        "id": "A_HXjDFbca00"
      },
      "outputs": [],
      "source": [
        "njumps = tau_list.shape[1]\n",
        "\n",
        "# Set data generated from Monte Carlo\n",
        "X_train_full, y_train_full = tau_list, Delta_list\n",
        "\n",
        "lenTrain=int(0.8*len(X_train_full))\n",
        "X_train, X_valid = X_train_full[:lenTrain], X_train_full[lenTrain:]\n",
        "y_train, y_valid = y_train_full[:lenTrain], y_train_full[lenTrain:]"
      ]
    },
    {
      "cell_type": "markdown",
      "id": "t0SxFJysNGTH",
      "metadata": {
        "id": "t0SxFJysNGTH"
      },
      "source": [
        "### Model #1: RNN architecture\n",
        "<a id='RNN'></a>"
      ]
    },
    {
      "cell_type": "markdown",
      "id": "xp65bxd0S2E7",
      "metadata": {
        "id": "xp65bxd0S2E7"
      },
      "source": [
        "Define and train the network"
      ]
    },
    {
      "cell_type": "code",
      "execution_count": 18,
      "id": "6QHNCtumS2E7",
      "metadata": {
        "id": "6QHNCtumS2E7"
      },
      "outputs": [],
      "source": [
        "def create_model():\n",
        "  # Set the RNN\n",
        "  dropout = 0.\n",
        "  activation = \"relu\"\n",
        "  modelRNN = keras.models.Sequential(\n",
        "  [keras.layers.LSTM(17,input_shape=[None,1],return_sequences=True, activation=activation,dropout=dropout),\n",
        "  keras.layers.LSTM(17, return_sequences=False, activation=activation,dropout=dropout),\n",
        "  keras.layers.Dense(1)]\n",
        "  )\n",
        "  return modelRNN"
      ]
    },
    {
      "cell_type": "markdown",
      "id": "62b980e6",
      "metadata": {
        "id": "62b980e6"
      },
      "source": [
        "Training details"
      ]
    },
    {
      "cell_type": "code",
      "execution_count": 25,
      "id": "C2EYI-f-S2E8",
      "metadata": {
        "id": "C2EYI-f-S2E8"
      },
      "outputs": [],
      "source": [
        "epochs = 150\n",
        "batch_size = 12800\n",
        "optimizer = \"adam\"\n",
        "loss =  tf.keras.losses.MeanSquaredLogarithmicError()\n",
        "metrics = [\"MeanSquaredError\"]"
      ]
    },
    {
      "cell_type": "markdown",
      "id": "b5e346e3",
      "metadata": {
        "id": "b5e346e3"
      },
      "source": [
        "Perform training\n",
        "- If the notebook is run in Colab, it tries to use TPU.\n",
        "- Otherwise, train in local machine."
      ]
    },
    {
      "cell_type": "code",
      "source": [
        "tf.keras.backend.clear_session()\n",
        "strategy = setup_strategy()\n",
        "\n",
        "with strategy.scope():\n",
        "  modelRNN = create_model()\n",
        "  modelRNN.compile(\n",
        "      optimizer= optimizer,\n",
        "      loss=loss,\n",
        "            metrics=[metrics]\n",
        "      )\n",
        "\n",
        "  historyRNN=modelRNN.fit(np.expand_dims(X_train,axis=-1), y_train,\n",
        "      epochs=epochs,\n",
        "      batch_size = batch_size,\n",
        "      validation_data=(np.expand_dims(X_valid,axis=-1), y_valid),\n",
        "      validation_freq=1\n",
        ")"
      ],
      "metadata": {
        "colab": {
          "base_uri": "https://localhost:8080/"
        },
        "id": "dqMDtDJkCoRA",
        "outputId": "477bac0e-ac60-4887-e9c1-81fa3e5064ac"
      },
      "id": "dqMDtDJkCoRA",
      "execution_count": 26,
      "outputs": [
        {
          "output_type": "stream",
          "name": "stderr",
          "text": [
            "WARNING:tensorflow:Layer lstm will not use cuDNN kernels since it doesn't meet the criteria. It will use a generic GPU kernel as fallback when running on GPU.\n",
            "WARNING:tensorflow:Layer lstm_1 will not use cuDNN kernels since it doesn't meet the criteria. It will use a generic GPU kernel as fallback when running on GPU.\n"
          ]
        },
        {
          "output_type": "stream",
          "name": "stdout",
          "text": [
            "Epoch 1/150\n",
            "1/1 [==============================] - 4s 4s/step - loss: 1.0354 - mean_squared_error: 226.3897 - val_loss: 0.7845 - val_mean_squared_error: 93.8546\n",
            "Epoch 2/150\n",
            "1/1 [==============================] - 1s 504ms/step - loss: 0.8243 - mean_squared_error: 121.4483 - val_loss: 0.6373 - val_mean_squared_error: 44.4986\n",
            "Epoch 3/150\n",
            "1/1 [==============================] - 1s 586ms/step - loss: 0.6680 - mean_squared_error: 57.2979 - val_loss: 0.5436 - val_mean_squared_error: 20.5185\n",
            "Epoch 4/150\n",
            "1/1 [==============================] - 0s 316ms/step - loss: 0.5631 - mean_squared_error: 26.4268 - val_loss: 0.4841 - val_mean_squared_error: 10.0073\n",
            "Epoch 5/150\n",
            "1/1 [==============================] - 0s 274ms/step - loss: 0.4937 - mean_squared_error: 12.4141 - val_loss: 0.4417 - val_mean_squared_error: 5.9410\n",
            "Epoch 6/150\n",
            "1/1 [==============================] - 0s 240ms/step - loss: 0.4439 - mean_squared_error: 6.8602 - val_loss: 0.4038 - val_mean_squared_error: 4.6407\n",
            "Epoch 7/150\n",
            "1/1 [==============================] - 0s 230ms/step - loss: 0.4012 - mean_squared_error: 5.0259 - val_loss: 0.3644 - val_mean_squared_error: 4.0435\n",
            "Epoch 8/150\n",
            "1/1 [==============================] - 0s 238ms/step - loss: 0.3592 - mean_squared_error: 4.2366 - val_loss: 0.3225 - val_mean_squared_error: 3.6345\n",
            "Epoch 9/150\n",
            "1/1 [==============================] - 0s 228ms/step - loss: 0.3161 - mean_squared_error: 3.7513 - val_loss: 0.2783 - val_mean_squared_error: 3.2706\n",
            "Epoch 10/150\n",
            "1/1 [==============================] - 0s 243ms/step - loss: 0.2715 - mean_squared_error: 3.3547 - val_loss: 0.2317 - val_mean_squared_error: 2.8944\n",
            "Epoch 11/150\n",
            "1/1 [==============================] - 0s 277ms/step - loss: 0.2256 - mean_squared_error: 2.9768 - val_loss: 0.1833 - val_mean_squared_error: 2.4939\n",
            "Epoch 12/150\n",
            "1/1 [==============================] - 0s 236ms/step - loss: 0.1799 - mean_squared_error: 2.6261 - val_loss: 0.1376 - val_mean_squared_error: 2.2266\n",
            "Epoch 13/150\n",
            "1/1 [==============================] - 0s 240ms/step - loss: 0.1397 - mean_squared_error: 2.6305 - val_loss: 0.1163 - val_mean_squared_error: 3.2972\n",
            "Epoch 14/150\n",
            "1/1 [==============================] - 0s 254ms/step - loss: 0.1240 - mean_squared_error: 5.9018 - val_loss: 0.1330 - val_mean_squared_error: 8.2805\n",
            "Epoch 15/150\n",
            "1/1 [==============================] - 0s 236ms/step - loss: 0.1382 - mean_squared_error: 11.5806 - val_loss: 0.1303 - val_mean_squared_error: 8.1779\n",
            "Epoch 16/150\n",
            "1/1 [==============================] - 0s 235ms/step - loss: 0.1372 - mean_squared_error: 10.6938 - val_loss: 0.0952 - val_mean_squared_error: 3.8789\n",
            "Epoch 17/150\n",
            "1/1 [==============================] - 0s 237ms/step - loss: 0.1070 - mean_squared_error: 5.8144 - val_loss: 0.0711 - val_mean_squared_error: 1.9188\n",
            "Epoch 18/150\n",
            "1/1 [==============================] - 0s 292ms/step - loss: 0.0819 - mean_squared_error: 2.8404 - val_loss: 0.0608 - val_mean_squared_error: 1.4036\n",
            "Epoch 19/150\n",
            "1/1 [==============================] - 0s 288ms/step - loss: 0.0691 - mean_squared_error: 1.8942 - val_loss: 0.0585 - val_mean_squared_error: 1.3207\n",
            "Epoch 20/150\n",
            "1/1 [==============================] - 0s 218ms/step - loss: 0.0650 - mean_squared_error: 1.6713 - val_loss: 0.0579 - val_mean_squared_error: 1.3023\n",
            "Epoch 21/150\n",
            "1/1 [==============================] - 0s 225ms/step - loss: 0.0632 - mean_squared_error: 1.6012 - val_loss: 0.0569 - val_mean_squared_error: 1.2865\n",
            "Epoch 22/150\n",
            "1/1 [==============================] - 0s 237ms/step - loss: 0.0620 - mean_squared_error: 1.5902 - val_loss: 0.0555 - val_mean_squared_error: 1.2701\n",
            "Epoch 23/150\n",
            "1/1 [==============================] - 0s 225ms/step - loss: 0.0608 - mean_squared_error: 1.5885 - val_loss: 0.0537 - val_mean_squared_error: 1.2522\n",
            "Epoch 24/150\n",
            "1/1 [==============================] - 0s 222ms/step - loss: 0.0594 - mean_squared_error: 1.5883 - val_loss: 0.0518 - val_mean_squared_error: 1.2325\n",
            "Epoch 25/150\n",
            "1/1 [==============================] - 0s 224ms/step - loss: 0.0579 - mean_squared_error: 1.5865 - val_loss: 0.0499 - val_mean_squared_error: 1.2114\n",
            "Epoch 26/150\n",
            "1/1 [==============================] - 0s 239ms/step - loss: 0.0564 - mean_squared_error: 1.5829 - val_loss: 0.0480 - val_mean_squared_error: 1.1895\n",
            "Epoch 27/150\n",
            "1/1 [==============================] - 0s 240ms/step - loss: 0.0550 - mean_squared_error: 1.5775 - val_loss: 0.0461 - val_mean_squared_error: 1.1673\n",
            "Epoch 28/150\n",
            "1/1 [==============================] - 0s 232ms/step - loss: 0.0536 - mean_squared_error: 1.5706 - val_loss: 0.0444 - val_mean_squared_error: 1.1453\n",
            "Epoch 29/150\n",
            "1/1 [==============================] - 0s 226ms/step - loss: 0.0522 - mean_squared_error: 1.5622 - val_loss: 0.0429 - val_mean_squared_error: 1.1235\n",
            "Epoch 30/150\n",
            "1/1 [==============================] - 0s 298ms/step - loss: 0.0509 - mean_squared_error: 1.5516 - val_loss: 0.0415 - val_mean_squared_error: 1.1017\n",
            "Epoch 31/150\n",
            "1/1 [==============================] - 0s 233ms/step - loss: 0.0498 - mean_squared_error: 1.5375 - val_loss: 0.0403 - val_mean_squared_error: 1.0781\n",
            "Epoch 32/150\n",
            "1/1 [==============================] - 0s 233ms/step - loss: 0.0487 - mean_squared_error: 1.5172 - val_loss: 0.0393 - val_mean_squared_error: 1.0505\n",
            "Epoch 33/150\n",
            "1/1 [==============================] - 0s 218ms/step - loss: 0.0477 - mean_squared_error: 1.4873 - val_loss: 0.0382 - val_mean_squared_error: 1.0164\n",
            "Epoch 34/150\n",
            "1/1 [==============================] - 0s 253ms/step - loss: 0.0467 - mean_squared_error: 1.4448 - val_loss: 0.0372 - val_mean_squared_error: 0.9744\n",
            "Epoch 35/150\n",
            "1/1 [==============================] - 0s 223ms/step - loss: 0.0456 - mean_squared_error: 1.3882 - val_loss: 0.0362 - val_mean_squared_error: 0.9248\n",
            "Epoch 36/150\n",
            "1/1 [==============================] - 0s 224ms/step - loss: 0.0443 - mean_squared_error: 1.3185 - val_loss: 0.0350 - val_mean_squared_error: 0.8695\n",
            "Epoch 37/150\n",
            "1/1 [==============================] - 0s 225ms/step - loss: 0.0430 - mean_squared_error: 1.2384 - val_loss: 0.0339 - val_mean_squared_error: 0.8119\n",
            "Epoch 38/150\n",
            "1/1 [==============================] - 0s 229ms/step - loss: 0.0416 - mean_squared_error: 1.1528 - val_loss: 0.0328 - val_mean_squared_error: 0.7560\n",
            "Epoch 39/150\n",
            "1/1 [==============================] - 0s 239ms/step - loss: 0.0402 - mean_squared_error: 1.0671 - val_loss: 0.0319 - val_mean_squared_error: 0.7052\n",
            "Epoch 40/150\n",
            "1/1 [==============================] - 0s 217ms/step - loss: 0.0389 - mean_squared_error: 0.9860 - val_loss: 0.0311 - val_mean_squared_error: 0.6611\n",
            "Epoch 41/150\n",
            "1/1 [==============================] - 0s 214ms/step - loss: 0.0378 - mean_squared_error: 0.9128 - val_loss: 0.0305 - val_mean_squared_error: 0.6245\n",
            "Epoch 42/150\n",
            "1/1 [==============================] - 0s 243ms/step - loss: 0.0368 - mean_squared_error: 0.8489 - val_loss: 0.0301 - val_mean_squared_error: 0.5948\n",
            "Epoch 43/150\n",
            "1/1 [==============================] - 0s 237ms/step - loss: 0.0360 - mean_squared_error: 0.7945 - val_loss: 0.0298 - val_mean_squared_error: 0.5708\n",
            "Epoch 44/150\n",
            "1/1 [==============================] - 0s 252ms/step - loss: 0.0353 - mean_squared_error: 0.7486 - val_loss: 0.0295 - val_mean_squared_error: 0.5511\n",
            "Epoch 45/150\n",
            "1/1 [==============================] - 0s 335ms/step - loss: 0.0348 - mean_squared_error: 0.7098 - val_loss: 0.0293 - val_mean_squared_error: 0.5343\n",
            "Epoch 46/150\n",
            "1/1 [==============================] - 0s 422ms/step - loss: 0.0342 - mean_squared_error: 0.6769 - val_loss: 0.0290 - val_mean_squared_error: 0.5194\n",
            "Epoch 47/150\n",
            "1/1 [==============================] - 1s 506ms/step - loss: 0.0338 - mean_squared_error: 0.6484 - val_loss: 0.0288 - val_mean_squared_error: 0.5059\n",
            "Epoch 48/150\n",
            "1/1 [==============================] - 0s 467ms/step - loss: 0.0333 - mean_squared_error: 0.6237 - val_loss: 0.0286 - val_mean_squared_error: 0.4934\n",
            "Epoch 49/150\n",
            "1/1 [==============================] - 0s 397ms/step - loss: 0.0329 - mean_squared_error: 0.6020 - val_loss: 0.0283 - val_mean_squared_error: 0.4821\n",
            "Epoch 50/150\n",
            "1/1 [==============================] - 0s 459ms/step - loss: 0.0325 - mean_squared_error: 0.5829 - val_loss: 0.0281 - val_mean_squared_error: 0.4716\n",
            "Epoch 51/150\n",
            "1/1 [==============================] - 0s 270ms/step - loss: 0.0322 - mean_squared_error: 0.5659 - val_loss: 0.0279 - val_mean_squared_error: 0.4616\n",
            "Epoch 52/150\n",
            "1/1 [==============================] - 0s 247ms/step - loss: 0.0318 - mean_squared_error: 0.5501 - val_loss: 0.0277 - val_mean_squared_error: 0.4516\n",
            "Epoch 53/150\n",
            "1/1 [==============================] - 0s 233ms/step - loss: 0.0315 - mean_squared_error: 0.5349 - val_loss: 0.0275 - val_mean_squared_error: 0.4411\n",
            "Epoch 54/150\n",
            "1/1 [==============================] - 0s 217ms/step - loss: 0.0311 - mean_squared_error: 0.5195 - val_loss: 0.0272 - val_mean_squared_error: 0.4301\n",
            "Epoch 55/150\n",
            "1/1 [==============================] - 0s 234ms/step - loss: 0.0307 - mean_squared_error: 0.5038 - val_loss: 0.0268 - val_mean_squared_error: 0.4189\n",
            "Epoch 56/150\n",
            "1/1 [==============================] - 0s 203ms/step - loss: 0.0302 - mean_squared_error: 0.4880 - val_loss: 0.0265 - val_mean_squared_error: 0.4077\n",
            "Epoch 57/150\n",
            "1/1 [==============================] - 0s 211ms/step - loss: 0.0298 - mean_squared_error: 0.4725 - val_loss: 0.0262 - val_mean_squared_error: 0.3971\n",
            "Epoch 58/150\n",
            "1/1 [==============================] - 0s 240ms/step - loss: 0.0293 - mean_squared_error: 0.4579 - val_loss: 0.0259 - val_mean_squared_error: 0.3872\n",
            "Epoch 59/150\n",
            "1/1 [==============================] - 0s 225ms/step - loss: 0.0289 - mean_squared_error: 0.4443 - val_loss: 0.0257 - val_mean_squared_error: 0.3782\n",
            "Epoch 60/150\n",
            "1/1 [==============================] - 0s 259ms/step - loss: 0.0286 - mean_squared_error: 0.4318 - val_loss: 0.0254 - val_mean_squared_error: 0.3699\n",
            "Epoch 61/150\n",
            "1/1 [==============================] - 0s 209ms/step - loss: 0.0282 - mean_squared_error: 0.4204 - val_loss: 0.0252 - val_mean_squared_error: 0.3622\n",
            "Epoch 62/150\n",
            "1/1 [==============================] - 0s 220ms/step - loss: 0.0279 - mean_squared_error: 0.4098 - val_loss: 0.0250 - val_mean_squared_error: 0.3548\n",
            "Epoch 63/150\n",
            "1/1 [==============================] - 0s 232ms/step - loss: 0.0276 - mean_squared_error: 0.3999 - val_loss: 0.0248 - val_mean_squared_error: 0.3478\n",
            "Epoch 64/150\n",
            "1/1 [==============================] - 0s 244ms/step - loss: 0.0273 - mean_squared_error: 0.3906 - val_loss: 0.0246 - val_mean_squared_error: 0.3411\n",
            "Epoch 65/150\n",
            "1/1 [==============================] - 0s 221ms/step - loss: 0.0271 - mean_squared_error: 0.3817 - val_loss: 0.0244 - val_mean_squared_error: 0.3346\n",
            "Epoch 66/150\n",
            "1/1 [==============================] - 0s 247ms/step - loss: 0.0268 - mean_squared_error: 0.3731 - val_loss: 0.0241 - val_mean_squared_error: 0.3283\n",
            "Epoch 67/150\n",
            "1/1 [==============================] - 0s 224ms/step - loss: 0.0265 - mean_squared_error: 0.3648 - val_loss: 0.0239 - val_mean_squared_error: 0.3221\n",
            "Epoch 68/150\n",
            "1/1 [==============================] - 0s 264ms/step - loss: 0.0262 - mean_squared_error: 0.3568 - val_loss: 0.0237 - val_mean_squared_error: 0.3160\n",
            "Epoch 69/150\n",
            "1/1 [==============================] - 0s 226ms/step - loss: 0.0260 - mean_squared_error: 0.3488 - val_loss: 0.0235 - val_mean_squared_error: 0.3099\n",
            "Epoch 70/150\n",
            "1/1 [==============================] - 0s 243ms/step - loss: 0.0257 - mean_squared_error: 0.3410 - val_loss: 0.0234 - val_mean_squared_error: 0.3039\n",
            "Epoch 71/150\n",
            "1/1 [==============================] - 0s 271ms/step - loss: 0.0255 - mean_squared_error: 0.3333 - val_loss: 0.0232 - val_mean_squared_error: 0.2980\n",
            "Epoch 72/150\n",
            "1/1 [==============================] - 0s 249ms/step - loss: 0.0253 - mean_squared_error: 0.3257 - val_loss: 0.0230 - val_mean_squared_error: 0.2922\n",
            "Epoch 73/150\n",
            "1/1 [==============================] - 0s 231ms/step - loss: 0.0250 - mean_squared_error: 0.3183 - val_loss: 0.0228 - val_mean_squared_error: 0.2867\n",
            "Epoch 74/150\n",
            "1/1 [==============================] - 0s 226ms/step - loss: 0.0248 - mean_squared_error: 0.3112 - val_loss: 0.0227 - val_mean_squared_error: 0.2814\n",
            "Epoch 75/150\n",
            "1/1 [==============================] - 0s 227ms/step - loss: 0.0246 - mean_squared_error: 0.3045 - val_loss: 0.0225 - val_mean_squared_error: 0.2764\n",
            "Epoch 76/150\n",
            "1/1 [==============================] - 0s 321ms/step - loss: 0.0244 - mean_squared_error: 0.2980 - val_loss: 0.0224 - val_mean_squared_error: 0.2716\n",
            "Epoch 77/150\n",
            "1/1 [==============================] - 0s 290ms/step - loss: 0.0242 - mean_squared_error: 0.2919 - val_loss: 0.0222 - val_mean_squared_error: 0.2670\n",
            "Epoch 78/150\n",
            "1/1 [==============================] - 0s 276ms/step - loss: 0.0240 - mean_squared_error: 0.2860 - val_loss: 0.0221 - val_mean_squared_error: 0.2625\n",
            "Epoch 79/150\n",
            "1/1 [==============================] - 0s 241ms/step - loss: 0.0238 - mean_squared_error: 0.2804 - val_loss: 0.0220 - val_mean_squared_error: 0.2582\n",
            "Epoch 80/150\n",
            "1/1 [==============================] - 0s 242ms/step - loss: 0.0236 - mean_squared_error: 0.2749 - val_loss: 0.0218 - val_mean_squared_error: 0.2540\n",
            "Epoch 81/150\n",
            "1/1 [==============================] - 0s 299ms/step - loss: 0.0234 - mean_squared_error: 0.2697 - val_loss: 0.0217 - val_mean_squared_error: 0.2499\n",
            "Epoch 82/150\n",
            "1/1 [==============================] - 0s 235ms/step - loss: 0.0232 - mean_squared_error: 0.2647 - val_loss: 0.0215 - val_mean_squared_error: 0.2460\n",
            "Epoch 83/150\n",
            "1/1 [==============================] - 0s 334ms/step - loss: 0.0230 - mean_squared_error: 0.2599 - val_loss: 0.0214 - val_mean_squared_error: 0.2423\n",
            "Epoch 84/150\n",
            "1/1 [==============================] - 0s 280ms/step - loss: 0.0228 - mean_squared_error: 0.2553 - val_loss: 0.0212 - val_mean_squared_error: 0.2388\n",
            "Epoch 85/150\n",
            "1/1 [==============================] - 0s 226ms/step - loss: 0.0227 - mean_squared_error: 0.2510 - val_loss: 0.0211 - val_mean_squared_error: 0.2353\n",
            "Epoch 86/150\n",
            "1/1 [==============================] - 0s 260ms/step - loss: 0.0225 - mean_squared_error: 0.2469 - val_loss: 0.0210 - val_mean_squared_error: 0.2320\n",
            "Epoch 87/150\n",
            "1/1 [==============================] - 0s 289ms/step - loss: 0.0223 - mean_squared_error: 0.2429 - val_loss: 0.0209 - val_mean_squared_error: 0.2288\n",
            "Epoch 88/150\n",
            "1/1 [==============================] - 0s 218ms/step - loss: 0.0222 - mean_squared_error: 0.2390 - val_loss: 0.0208 - val_mean_squared_error: 0.2256\n",
            "Epoch 89/150\n",
            "1/1 [==============================] - 0s 214ms/step - loss: 0.0220 - mean_squared_error: 0.2353 - val_loss: 0.0206 - val_mean_squared_error: 0.2224\n",
            "Epoch 90/150\n",
            "1/1 [==============================] - 0s 264ms/step - loss: 0.0219 - mean_squared_error: 0.2317 - val_loss: 0.0205 - val_mean_squared_error: 0.2193\n",
            "Epoch 91/150\n",
            "1/1 [==============================] - 0s 458ms/step - loss: 0.0217 - mean_squared_error: 0.2283 - val_loss: 0.0204 - val_mean_squared_error: 0.2163\n",
            "Epoch 92/150\n",
            "1/1 [==============================] - 1s 532ms/step - loss: 0.0216 - mean_squared_error: 0.2249 - val_loss: 0.0203 - val_mean_squared_error: 0.2133\n",
            "Epoch 93/150\n",
            "1/1 [==============================] - 1s 536ms/step - loss: 0.0214 - mean_squared_error: 0.2217 - val_loss: 0.0202 - val_mean_squared_error: 0.2104\n",
            "Epoch 94/150\n",
            "1/1 [==============================] - 1s 510ms/step - loss: 0.0213 - mean_squared_error: 0.2186 - val_loss: 0.0201 - val_mean_squared_error: 0.2076\n",
            "Epoch 95/150\n",
            "1/1 [==============================] - 0s 445ms/step - loss: 0.0212 - mean_squared_error: 0.2156 - val_loss: 0.0200 - val_mean_squared_error: 0.2048\n",
            "Epoch 96/150\n",
            "1/1 [==============================] - 0s 252ms/step - loss: 0.0210 - mean_squared_error: 0.2127 - val_loss: 0.0198 - val_mean_squared_error: 0.2022\n",
            "Epoch 97/150\n",
            "1/1 [==============================] - 0s 222ms/step - loss: 0.0209 - mean_squared_error: 0.2100 - val_loss: 0.0197 - val_mean_squared_error: 0.1996\n",
            "Epoch 98/150\n",
            "1/1 [==============================] - 0s 215ms/step - loss: 0.0208 - mean_squared_error: 0.2074 - val_loss: 0.0196 - val_mean_squared_error: 0.1971\n",
            "Epoch 99/150\n",
            "1/1 [==============================] - 0s 236ms/step - loss: 0.0206 - mean_squared_error: 0.2048 - val_loss: 0.0195 - val_mean_squared_error: 0.1946\n",
            "Epoch 100/150\n",
            "1/1 [==============================] - 0s 233ms/step - loss: 0.0205 - mean_squared_error: 0.2024 - val_loss: 0.0194 - val_mean_squared_error: 0.1923\n",
            "Epoch 101/150\n",
            "1/1 [==============================] - 0s 213ms/step - loss: 0.0204 - mean_squared_error: 0.2000 - val_loss: 0.0193 - val_mean_squared_error: 0.1899\n",
            "Epoch 102/150\n",
            "1/1 [==============================] - 0s 242ms/step - loss: 0.0203 - mean_squared_error: 0.1977 - val_loss: 0.0192 - val_mean_squared_error: 0.1877\n",
            "Epoch 103/150\n",
            "1/1 [==============================] - 0s 208ms/step - loss: 0.0202 - mean_squared_error: 0.1954 - val_loss: 0.0191 - val_mean_squared_error: 0.1854\n",
            "Epoch 104/150\n",
            "1/1 [==============================] - 0s 291ms/step - loss: 0.0200 - mean_squared_error: 0.1932 - val_loss: 0.0190 - val_mean_squared_error: 0.1833\n",
            "Epoch 105/150\n",
            "1/1 [==============================] - 0s 231ms/step - loss: 0.0199 - mean_squared_error: 0.1911 - val_loss: 0.0189 - val_mean_squared_error: 0.1812\n",
            "Epoch 106/150\n",
            "1/1 [==============================] - 0s 251ms/step - loss: 0.0198 - mean_squared_error: 0.1890 - val_loss: 0.0188 - val_mean_squared_error: 0.1792\n",
            "Epoch 107/150\n",
            "1/1 [==============================] - 0s 238ms/step - loss: 0.0197 - mean_squared_error: 0.1870 - val_loss: 0.0187 - val_mean_squared_error: 0.1773\n",
            "Epoch 108/150\n",
            "1/1 [==============================] - 0s 235ms/step - loss: 0.0196 - mean_squared_error: 0.1851 - val_loss: 0.0186 - val_mean_squared_error: 0.1754\n",
            "Epoch 109/150\n",
            "1/1 [==============================] - 0s 236ms/step - loss: 0.0195 - mean_squared_error: 0.1833 - val_loss: 0.0185 - val_mean_squared_error: 0.1736\n",
            "Epoch 110/150\n",
            "1/1 [==============================] - 0s 221ms/step - loss: 0.0194 - mean_squared_error: 0.1815 - val_loss: 0.0185 - val_mean_squared_error: 0.1719\n",
            "Epoch 111/150\n",
            "1/1 [==============================] - 0s 238ms/step - loss: 0.0193 - mean_squared_error: 0.1798 - val_loss: 0.0184 - val_mean_squared_error: 0.1701\n",
            "Epoch 112/150\n",
            "1/1 [==============================] - 0s 239ms/step - loss: 0.0192 - mean_squared_error: 0.1781 - val_loss: 0.0183 - val_mean_squared_error: 0.1685\n",
            "Epoch 113/150\n",
            "1/1 [==============================] - 0s 232ms/step - loss: 0.0191 - mean_squared_error: 0.1764 - val_loss: 0.0182 - val_mean_squared_error: 0.1669\n",
            "Epoch 114/150\n",
            "1/1 [==============================] - 0s 226ms/step - loss: 0.0190 - mean_squared_error: 0.1749 - val_loss: 0.0181 - val_mean_squared_error: 0.1653\n",
            "Epoch 115/150\n",
            "1/1 [==============================] - 0s 243ms/step - loss: 0.0189 - mean_squared_error: 0.1733 - val_loss: 0.0180 - val_mean_squared_error: 0.1637\n",
            "Epoch 116/150\n",
            "1/1 [==============================] - 0s 229ms/step - loss: 0.0189 - mean_squared_error: 0.1718 - val_loss: 0.0180 - val_mean_squared_error: 0.1622\n",
            "Epoch 117/150\n",
            "1/1 [==============================] - 0s 218ms/step - loss: 0.0188 - mean_squared_error: 0.1703 - val_loss: 0.0179 - val_mean_squared_error: 0.1608\n",
            "Epoch 118/150\n",
            "1/1 [==============================] - 0s 214ms/step - loss: 0.0187 - mean_squared_error: 0.1689 - val_loss: 0.0178 - val_mean_squared_error: 0.1594\n",
            "Epoch 119/150\n",
            "1/1 [==============================] - 0s 260ms/step - loss: 0.0186 - mean_squared_error: 0.1675 - val_loss: 0.0177 - val_mean_squared_error: 0.1580\n",
            "Epoch 120/150\n",
            "1/1 [==============================] - 0s 278ms/step - loss: 0.0185 - mean_squared_error: 0.1661 - val_loss: 0.0177 - val_mean_squared_error: 0.1567\n",
            "Epoch 121/150\n",
            "1/1 [==============================] - 0s 232ms/step - loss: 0.0184 - mean_squared_error: 0.1648 - val_loss: 0.0176 - val_mean_squared_error: 0.1554\n",
            "Epoch 122/150\n",
            "1/1 [==============================] - 0s 228ms/step - loss: 0.0183 - mean_squared_error: 0.1635 - val_loss: 0.0175 - val_mean_squared_error: 0.1542\n",
            "Epoch 123/150\n",
            "1/1 [==============================] - 0s 228ms/step - loss: 0.0183 - mean_squared_error: 0.1623 - val_loss: 0.0175 - val_mean_squared_error: 0.1530\n",
            "Epoch 124/150\n",
            "1/1 [==============================] - 0s 241ms/step - loss: 0.0182 - mean_squared_error: 0.1611 - val_loss: 0.0174 - val_mean_squared_error: 0.1518\n",
            "Epoch 125/150\n",
            "1/1 [==============================] - 0s 270ms/step - loss: 0.0181 - mean_squared_error: 0.1599 - val_loss: 0.0173 - val_mean_squared_error: 0.1506\n",
            "Epoch 126/150\n",
            "1/1 [==============================] - 0s 229ms/step - loss: 0.0180 - mean_squared_error: 0.1588 - val_loss: 0.0172 - val_mean_squared_error: 0.1495\n",
            "Epoch 127/150\n",
            "1/1 [==============================] - 0s 206ms/step - loss: 0.0180 - mean_squared_error: 0.1577 - val_loss: 0.0172 - val_mean_squared_error: 0.1484\n",
            "Epoch 128/150\n",
            "1/1 [==============================] - 0s 233ms/step - loss: 0.0179 - mean_squared_error: 0.1566 - val_loss: 0.0171 - val_mean_squared_error: 0.1473\n",
            "Epoch 129/150\n",
            "1/1 [==============================] - 0s 238ms/step - loss: 0.0178 - mean_squared_error: 0.1555 - val_loss: 0.0171 - val_mean_squared_error: 0.1462\n",
            "Epoch 130/150\n",
            "1/1 [==============================] - 0s 238ms/step - loss: 0.0177 - mean_squared_error: 0.1545 - val_loss: 0.0170 - val_mean_squared_error: 0.1452\n",
            "Epoch 131/150\n",
            "1/1 [==============================] - 0s 242ms/step - loss: 0.0177 - mean_squared_error: 0.1535 - val_loss: 0.0169 - val_mean_squared_error: 0.1442\n",
            "Epoch 132/150\n",
            "1/1 [==============================] - 0s 296ms/step - loss: 0.0176 - mean_squared_error: 0.1525 - val_loss: 0.0169 - val_mean_squared_error: 0.1432\n",
            "Epoch 133/150\n",
            "1/1 [==============================] - 0s 227ms/step - loss: 0.0175 - mean_squared_error: 0.1516 - val_loss: 0.0168 - val_mean_squared_error: 0.1422\n",
            "Epoch 134/150\n",
            "1/1 [==============================] - 0s 270ms/step - loss: 0.0174 - mean_squared_error: 0.1506 - val_loss: 0.0167 - val_mean_squared_error: 0.1413\n",
            "Epoch 135/150\n",
            "1/1 [==============================] - 0s 219ms/step - loss: 0.0174 - mean_squared_error: 0.1497 - val_loss: 0.0167 - val_mean_squared_error: 0.1404\n",
            "Epoch 136/150\n",
            "1/1 [==============================] - 0s 243ms/step - loss: 0.0173 - mean_squared_error: 0.1488 - val_loss: 0.0166 - val_mean_squared_error: 0.1394\n",
            "Epoch 137/150\n",
            "1/1 [==============================] - 0s 400ms/step - loss: 0.0172 - mean_squared_error: 0.1480 - val_loss: 0.0166 - val_mean_squared_error: 0.1386\n",
            "Epoch 138/150\n",
            "1/1 [==============================] - 0s 398ms/step - loss: 0.0172 - mean_squared_error: 0.1471 - val_loss: 0.0165 - val_mean_squared_error: 0.1377\n",
            "Epoch 139/150\n",
            "1/1 [==============================] - 1s 514ms/step - loss: 0.0171 - mean_squared_error: 0.1463 - val_loss: 0.0164 - val_mean_squared_error: 0.1369\n",
            "Epoch 140/150\n",
            "1/1 [==============================] - 0s 461ms/step - loss: 0.0170 - mean_squared_error: 0.1455 - val_loss: 0.0164 - val_mean_squared_error: 0.1360\n",
            "Epoch 141/150\n",
            "1/1 [==============================] - 0s 484ms/step - loss: 0.0170 - mean_squared_error: 0.1447 - val_loss: 0.0163 - val_mean_squared_error: 0.1352\n",
            "Epoch 142/150\n",
            "1/1 [==============================] - 0s 439ms/step - loss: 0.0169 - mean_squared_error: 0.1439 - val_loss: 0.0163 - val_mean_squared_error: 0.1345\n",
            "Epoch 143/150\n",
            "1/1 [==============================] - 0s 263ms/step - loss: 0.0168 - mean_squared_error: 0.1431 - val_loss: 0.0162 - val_mean_squared_error: 0.1337\n",
            "Epoch 144/150\n",
            "1/1 [==============================] - 0s 305ms/step - loss: 0.0168 - mean_squared_error: 0.1424 - val_loss: 0.0162 - val_mean_squared_error: 0.1329\n",
            "Epoch 145/150\n",
            "1/1 [==============================] - 0s 227ms/step - loss: 0.0167 - mean_squared_error: 0.1416 - val_loss: 0.0161 - val_mean_squared_error: 0.1322\n",
            "Epoch 146/150\n",
            "1/1 [==============================] - 0s 228ms/step - loss: 0.0167 - mean_squared_error: 0.1409 - val_loss: 0.0161 - val_mean_squared_error: 0.1315\n",
            "Epoch 147/150\n",
            "1/1 [==============================] - 0s 224ms/step - loss: 0.0166 - mean_squared_error: 0.1402 - val_loss: 0.0160 - val_mean_squared_error: 0.1308\n",
            "Epoch 148/150\n",
            "1/1 [==============================] - 0s 218ms/step - loss: 0.0165 - mean_squared_error: 0.1395 - val_loss: 0.0160 - val_mean_squared_error: 0.1301\n",
            "Epoch 149/150\n",
            "1/1 [==============================] - 0s 265ms/step - loss: 0.0165 - mean_squared_error: 0.1388 - val_loss: 0.0159 - val_mean_squared_error: 0.1294\n",
            "Epoch 150/150\n",
            "1/1 [==============================] - 0s 258ms/step - loss: 0.0164 - mean_squared_error: 0.1381 - val_loss: 0.0158 - val_mean_squared_error: 0.1287\n"
          ]
        }
      ]
    },
    {
      "cell_type": "code",
      "execution_count": 27,
      "id": "HvQ5etZES2E8",
      "metadata": {
        "colab": {
          "base_uri": "https://localhost:8080/",
          "height": 487
        },
        "id": "HvQ5etZES2E8",
        "outputId": "a5246855-687c-40fc-d02c-c2fd70da3a20"
      },
      "outputs": [
        {
          "output_type": "display_data",
          "data": {
            "text/plain": [
              "<Figure size 800x500 with 1 Axes>"
            ],
            "image/png": "[encoded data removed]"
          },
          "metadata": {}
        }
      ],
      "source": [
        "pd.DataFrame(historyRNN.history).plot(figsize=(8, 5))\n",
        "plt.xlabel(\"Epochs\")\n",
        "plt.title(\"Training\")\n",
        "plt.grid(True)\n",
        "plt.yscale(\"log\")\n",
        "plt.show()"
      ]
    },
    {
      "cell_type": "markdown",
      "id": "83e81505",
      "metadata": {
        "id": "83e81505"
      },
      "source": [
        "\n",
        "Visualize the predictions made by the model in the validation set"
      ]
    },
    {
      "cell_type": "code",
      "execution_count": 28,
      "id": "LiYDCo3RlGXm",
      "metadata": {
        "colab": {
          "base_uri": "https://localhost:8080/",
          "height": 696
        },
        "id": "LiYDCo3RlGXm",
        "outputId": "853ca0ad-b5e7-4974-b13e-dceb08e883f8"
      },
      "outputs": [
        {
          "output_type": "display_data",
          "data": {
            "text/plain": [
              "<Figure size 500x800 with 2 Axes>"
            ],
            "image/png": "[encoded data removed]"
          },
          "metadata": {}
        }
      ],
      "source": [
        "nsel = 1000\n",
        "x_values = X_valid[np.argsort(y_valid[:nsel])]\n",
        "output = modelRNN(x_values)[:,0]\n",
        "\n",
        "input = np.sort(y_valid[:nsel])\n",
        "\n",
        "fig, axes = plt.subplots(nrows = 2, figsize = (5,8))\n",
        "ax = axes[0]\n",
        "ax.hexbin(input,output, gridsize=50, cmap = 'magma')\n",
        "ax.plot(input,input,'--',color=\"gray\",alpha=0.8)\n",
        "ax.set_xlabel(\"$\\Delta$\"); ax.set_ylabel(\"Estimation $\\hat \\Delta$\")\n",
        "\n",
        "ax = axes[1]\n",
        "ax.hist(input,bins = 50, alpha = 0.5, label = \"Input data\")\n",
        "ax.hist(output,bins = 50, alpha = 0.5, label = \"Output data\")\n",
        "ax.set_xlabel(\"$\\Delta$\"); ax.set_ylabel(\"Counts\")\n",
        "ax.legend()\n",
        "plt.show()"
      ]
    },
    {
      "cell_type": "markdown",
      "id": "HdPMqneOS2E8",
      "metadata": {
        "id": "HdPMqneOS2E8"
      },
      "source": [
        "Save the model"
      ]
    },
    {
      "cell_type": "code",
      "execution_count": 30,
      "id": "hKCE2LZFS2E8",
      "metadata": {
        "colab": {
          "base_uri": "https://localhost:8080/",
          "height": 17
        },
        "id": "hKCE2LZFS2E8",
        "outputId": "1e5a2845-a510-4b1a-ad1e-f3b757884bfc"
      },
      "outputs": [
        {
          "output_type": "display_data",
          "data": {
            "text/plain": [
              "<IPython.core.display.Javascript object>"
            ],
            "application/javascript": [
              "\n",
              "    async function download(id, filename, size) {\n",
              "      if (!google.colab.kernel.accessAllowed) {\n",
              "        return;\n",
              "      }\n",
              "      const div = document.createElement('div');\n",
              "      const label = document.createElement('label');\n",
              "      label.textContent = `Downloading \"${filename}\": `;\n",
              "      div.appendChild(label);\n",
              "      const progress = document.createElement('progress');\n",
              "      progress.max = size;\n",
              "      div.appendChild(progress);\n",
              "      document.body.appendChild(div);\n",
              "\n",
              "      const buffers = [];\n",
              "      let downloaded = 0;\n",
              "\n",
              "      const channel = await google.colab.kernel.comms.open(id);\n",
              "      // Send a message to notify the kernel that we're ready.\n",
              "      channel.send({})\n",
              "\n",
              "      for await (const message of channel.messages) {\n",
              "        // Send a message to notify the kernel that we're ready.\n",
              "        channel.send({})\n",
              "        if (message.buffers) {\n",
              "          for (const buffer of message.buffers) {\n",
              "            buffers.push(buffer);\n",
              "            downloaded += buffer.byteLength;\n",
              "            progress.value = downloaded;\n",
              "          }\n",
              "        }\n",
              "      }\n",
              "      const blob = new Blob(buffers, {type: 'application/binary'});\n",
              "      const a = document.createElement('a');\n",
              "      a.href = window.URL.createObjectURL(blob);\n",
              "      a.download = filename;\n",
              "      div.appendChild(a);\n",
              "      a.click();\n",
              "      div.remove();\n",
              "    }\n",
              "  "
            ]
          },
          "metadata": {}
        },
        {
          "output_type": "display_data",
          "data": {
            "text/plain": [
              "<IPython.core.display.Javascript object>"
            ],
            "application/javascript": [
              "download(\"download_0a04a36f-4c85-4073-9364-02fd2ccd5443\", \"model-RNN.h5\", 88064)"
            ]
          },
          "metadata": {}
        }
      ],
      "source": [
        "modelTrainName = f'model-RNN.h5'\n",
        "\n",
        "save_dir = datapath+\"models/1D/\"\n",
        "save_path = save_dir + modelTrainName\n",
        "if not os.path.exists(save_dir):\n",
        "  os.makedirs(save_dir)\n",
        "\n",
        "modelRNN.save(save_path)\n",
        "\n",
        "if isColab:\n",
        "    from google.colab import files\n",
        "    files.download(save_path)"
      ]
    },
    {
      "cell_type": "markdown",
      "id": "Dx-6hR__cHbM",
      "metadata": {
        "id": "Dx-6hR__cHbM"
      },
      "source": [
        "### Model #2: Hist-Dense architecture\n",
        "<a id='Hist'></a>"
      ]
    },
    {
      "cell_type": "markdown",
      "id": "TuLcWjHJcVE7",
      "metadata": {
        "id": "TuLcWjHJcVE7"
      },
      "source": [
        "Define the model\n"
      ]
    },
    {
      "cell_type": "code",
      "execution_count": 31,
      "id": "WaNB202IcHbO",
      "metadata": {
        "id": "WaNB202IcHbO"
      },
      "outputs": [],
      "source": [
        "from src.custom_layers import MyHistogramLayer_Sigmoid\n",
        "\n",
        "nbins = 700\n",
        "taumax = 100\n",
        "width = taumax/nbins\n",
        "\n",
        "\n",
        "def create_model_Hist():\n",
        "  # Set the model\n",
        "  activation = \"relu\"\n",
        "  droprate = 0.\n",
        "  modelHist = keras.models.Sequential(\n",
        "  [\n",
        "  MyHistogramLayer_Sigmoid(nbins, taumax, trainable = False),\n",
        "  keras.layers.Dense(100, activation=activation),\n",
        "   keras.layers.Dropout(droprate),\n",
        "  keras.layers.Dense(50, activation=activation),\n",
        "   keras.layers.Dropout(droprate),\n",
        "     keras.layers.Dense(30, activation=activation),\n",
        "   keras.layers.Dropout(droprate),\n",
        "      keras.layers.Dense(1)\n",
        "   ]\n",
        "  )\n",
        "  return modelHist"
      ]
    },
    {
      "cell_type": "markdown",
      "id": "1f73a83d",
      "metadata": {
        "id": "1f73a83d"
      },
      "source": [
        "Setup the training"
      ]
    },
    {
      "cell_type": "code",
      "execution_count": 32,
      "id": "d2ZSk8wZcHbO",
      "metadata": {
        "id": "d2ZSk8wZcHbO"
      },
      "outputs": [],
      "source": [
        "  epochs = 100\n",
        "  batch_size = 12800\n",
        "  optimizer = \"adam\"\n",
        "  loss = tf.keras.losses.MeanSquaredLogarithmicError()\n",
        "  metrics = [\"MeanSquaredError\"]"
      ]
    },
    {
      "cell_type": "markdown",
      "id": "c9feb436",
      "metadata": {
        "id": "c9feb436"
      },
      "source": [
        "Training"
      ]
    },
    {
      "cell_type": "code",
      "execution_count": 34,
      "id": "emoXkrAWdwUs",
      "metadata": {
        "colab": {
          "base_uri": "https://localhost:8080/"
        },
        "id": "emoXkrAWdwUs",
        "outputId": "72fce4cf-3549-46ce-b7c7-7ddc01bc351a"
      },
      "outputs": [
        {
          "output_type": "stream",
          "name": "stdout",
          "text": [
            "Epoch 1/100\n",
            "1/1 [==============================] - 2s 2s/step - loss: 1.1891 - mean_squared_error: 7.3598 - val_loss: 0.9487 - val_mean_squared_error: 6.7920\n",
            "Epoch 2/100\n",
            "1/1 [==============================] - 0s 61ms/step - loss: 0.9066 - mean_squared_error: 6.4451 - val_loss: 0.7461 - val_mean_squared_error: 5.9898\n",
            "Epoch 3/100\n",
            "1/1 [==============================] - 0s 61ms/step - loss: 0.7089 - mean_squared_error: 5.6620 - val_loss: 0.5902 - val_mean_squared_error: 5.2316\n",
            "Epoch 4/100\n",
            "1/1 [==============================] - 0s 66ms/step - loss: 0.5569 - mean_squared_error: 4.9242 - val_loss: 0.4634 - val_mean_squared_error: 4.4783\n",
            "Epoch 5/100\n",
            "1/1 [==============================] - 0s 57ms/step - loss: 0.4337 - mean_squared_error: 4.1942 - val_loss: 0.3633 - val_mean_squared_error: 3.7467\n",
            "Epoch 6/100\n",
            "1/1 [==============================] - 0s 60ms/step - loss: 0.3367 - mean_squared_error: 3.4879 - val_loss: 0.2889 - val_mean_squared_error: 3.0688\n",
            "Epoch 7/100\n",
            "1/1 [==============================] - 0s 62ms/step - loss: 0.2648 - mean_squared_error: 2.8371 - val_loss: 0.2371 - val_mean_squared_error: 2.4740\n",
            "Epoch 8/100\n",
            "1/1 [==============================] - 0s 78ms/step - loss: 0.2157 - mean_squared_error: 2.2745 - val_loss: 0.2036 - val_mean_squared_error: 1.9861\n",
            "Epoch 9/100\n",
            "1/1 [==============================] - 0s 62ms/step - loss: 0.1850 - mean_squared_error: 1.8238 - val_loss: 0.1833 - val_mean_squared_error: 1.6133\n",
            "Epoch 10/100\n",
            "1/1 [==============================] - 0s 59ms/step - loss: 0.1673 - mean_squared_error: 1.4900 - val_loss: 0.1706 - val_mean_squared_error: 1.3453\n",
            "Epoch 11/100\n",
            "1/1 [==============================] - 0s 64ms/step - loss: 0.1573 - mean_squared_error: 1.2609 - val_loss: 0.1607 - val_mean_squared_error: 1.1562\n",
            "Epoch 12/100\n",
            "1/1 [==============================] - 0s 62ms/step - loss: 0.1498 - mean_squared_error: 1.1069 - val_loss: 0.1502 - val_mean_squared_error: 1.0139\n",
            "Epoch 13/100\n",
            "1/1 [==============================] - 0s 60ms/step - loss: 0.1414 - mean_squared_error: 0.9935 - val_loss: 0.1370 - val_mean_squared_error: 0.8916\n",
            "Epoch 14/100\n",
            "1/1 [==============================] - 0s 63ms/step - loss: 0.1300 - mean_squared_error: 0.8927 - val_loss: 0.1209 - val_mean_squared_error: 0.7717\n",
            "Epoch 15/100\n",
            "1/1 [==============================] - 0s 74ms/step - loss: 0.1155 - mean_squared_error: 0.7880 - val_loss: 0.1026 - val_mean_squared_error: 0.6494\n",
            "Epoch 16/100\n",
            "1/1 [==============================] - 0s 67ms/step - loss: 0.0985 - mean_squared_error: 0.6744 - val_loss: 0.0836 - val_mean_squared_error: 0.5293\n",
            "Epoch 17/100\n",
            "1/1 [==============================] - 0s 60ms/step - loss: 0.0805 - mean_squared_error: 0.5569 - val_loss: 0.0654 - val_mean_squared_error: 0.4189\n",
            "Epoch 18/100\n",
            "1/1 [==============================] - 0s 63ms/step - loss: 0.0630 - mean_squared_error: 0.4446 - val_loss: 0.0493 - val_mean_squared_error: 0.3260\n",
            "Epoch 19/100\n",
            "1/1 [==============================] - 0s 60ms/step - loss: 0.0474 - mean_squared_error: 0.3476 - val_loss: 0.0363 - val_mean_squared_error: 0.2576\n",
            "Epoch 20/100\n",
            "1/1 [==============================] - 0s 72ms/step - loss: 0.0349 - mean_squared_error: 0.2744 - val_loss: 0.0273 - val_mean_squared_error: 0.2169\n",
            "Epoch 21/100\n",
            "1/1 [==============================] - 0s 77ms/step - loss: 0.0264 - mean_squared_error: 0.2302 - val_loss: 0.0226 - val_mean_squared_error: 0.2037\n",
            "Epoch 22/100\n",
            "1/1 [==============================] - 0s 83ms/step - loss: 0.0223 - mean_squared_error: 0.2148 - val_loss: 0.0221 - val_mean_squared_error: 0.2128\n",
            "Epoch 23/100\n",
            "1/1 [==============================] - 0s 64ms/step - loss: 0.0224 - mean_squared_error: 0.2229 - val_loss: 0.0249 - val_mean_squared_error: 0.2347\n",
            "Epoch 24/100\n",
            "1/1 [==============================] - 0s 63ms/step - loss: 0.0259 - mean_squared_error: 0.2449 - val_loss: 0.0293 - val_mean_squared_error: 0.2573\n",
            "Epoch 25/100\n",
            "1/1 [==============================] - 0s 64ms/step - loss: 0.0308 - mean_squared_error: 0.2684 - val_loss: 0.0330 - val_mean_squared_error: 0.2702\n",
            "Epoch 26/100\n",
            "1/1 [==============================] - 0s 72ms/step - loss: 0.0349 - mean_squared_error: 0.2826 - val_loss: 0.0345 - val_mean_squared_error: 0.2685\n",
            "Epoch 27/100\n",
            "1/1 [==============================] - 0s 78ms/step - loss: 0.0366 - mean_squared_error: 0.2822 - val_loss: 0.0335 - val_mean_squared_error: 0.2537\n",
            "Epoch 28/100\n",
            "1/1 [==============================] - 0s 74ms/step - loss: 0.0356 - mean_squared_error: 0.2686 - val_loss: 0.0305 - val_mean_squared_error: 0.2322\n",
            "Epoch 29/100\n",
            "1/1 [==============================] - 0s 59ms/step - loss: 0.0325 - mean_squared_error: 0.2480 - val_loss: 0.0269 - val_mean_squared_error: 0.2121\n",
            "Epoch 30/100\n",
            "1/1 [==============================] - 0s 61ms/step - loss: 0.0286 - mean_squared_error: 0.2281 - val_loss: 0.0237 - val_mean_squared_error: 0.1998\n",
            "Epoch 31/100\n",
            "1/1 [==============================] - 0s 63ms/step - loss: 0.0251 - mean_squared_error: 0.2158 - val_loss: 0.0216 - val_mean_squared_error: 0.1990\n",
            "Epoch 32/100\n",
            "1/1 [==============================] - 0s 60ms/step - loss: 0.0226 - mean_squared_error: 0.2146 - val_loss: 0.0208 - val_mean_squared_error: 0.2091\n",
            "Epoch 33/100\n",
            "1/1 [==============================] - 0s 61ms/step - loss: 0.0215 - mean_squared_error: 0.2241 - val_loss: 0.0211 - val_mean_squared_error: 0.2260\n",
            "Epoch 34/100\n",
            "1/1 [==============================] - 0s 74ms/step - loss: 0.0215 - mean_squared_error: 0.2401 - val_loss: 0.0221 - val_mean_squared_error: 0.2434\n",
            "Epoch 35/100\n",
            "1/1 [==============================] - 0s 64ms/step - loss: 0.0222 - mean_squared_error: 0.2567 - val_loss: 0.0232 - val_mean_squared_error: 0.2554\n",
            "Epoch 36/100\n",
            "1/1 [==============================] - 0s 81ms/step - loss: 0.0230 - mean_squared_error: 0.2679 - val_loss: 0.0239 - val_mean_squared_error: 0.2581\n",
            "Epoch 37/100\n",
            "1/1 [==============================] - 0s 74ms/step - loss: 0.0235 - mean_squared_error: 0.2700 - val_loss: 0.0240 - val_mean_squared_error: 0.2507\n",
            "Epoch 38/100\n",
            "1/1 [==============================] - 0s 61ms/step - loss: 0.0235 - mean_squared_error: 0.2620 - val_loss: 0.0234 - val_mean_squared_error: 0.2348\n",
            "Epoch 39/100\n",
            "1/1 [==============================] - 0s 60ms/step - loss: 0.0229 - mean_squared_error: 0.2458 - val_loss: 0.0224 - val_mean_squared_error: 0.2141\n",
            "Epoch 40/100\n",
            "1/1 [==============================] - 0s 73ms/step - loss: 0.0218 - mean_squared_error: 0.2247 - val_loss: 0.0211 - val_mean_squared_error: 0.1928\n",
            "Epoch 41/100\n",
            "1/1 [==============================] - 0s 72ms/step - loss: 0.0205 - mean_squared_error: 0.2030 - val_loss: 0.0197 - val_mean_squared_error: 0.1745\n",
            "Epoch 42/100\n",
            "1/1 [==============================] - 0s 64ms/step - loss: 0.0192 - mean_squared_error: 0.1842 - val_loss: 0.0186 - val_mean_squared_error: 0.1618\n",
            "Epoch 43/100\n",
            "1/1 [==============================] - 0s 63ms/step - loss: 0.0181 - mean_squared_error: 0.1708 - val_loss: 0.0177 - val_mean_squared_error: 0.1555\n",
            "Epoch 44/100\n",
            "1/1 [==============================] - 0s 60ms/step - loss: 0.0173 - mean_squared_error: 0.1636 - val_loss: 0.0173 - val_mean_squared_error: 0.1549\n",
            "Epoch 45/100\n",
            "1/1 [==============================] - 0s 64ms/step - loss: 0.0170 - mean_squared_error: 0.1620 - val_loss: 0.0171 - val_mean_squared_error: 0.1581\n",
            "Epoch 46/100\n",
            "1/1 [==============================] - 0s 76ms/step - loss: 0.0169 - mean_squared_error: 0.1644 - val_loss: 0.0171 - val_mean_squared_error: 0.1630\n",
            "Epoch 47/100\n",
            "1/1 [==============================] - 0s 68ms/step - loss: 0.0169 - mean_squared_error: 0.1683 - val_loss: 0.0171 - val_mean_squared_error: 0.1670\n",
            "Epoch 48/100\n",
            "1/1 [==============================] - 0s 75ms/step - loss: 0.0169 - mean_squared_error: 0.1717 - val_loss: 0.0170 - val_mean_squared_error: 0.1687\n",
            "Epoch 49/100\n",
            "1/1 [==============================] - 0s 65ms/step - loss: 0.0169 - mean_squared_error: 0.1729 - val_loss: 0.0167 - val_mean_squared_error: 0.1673\n",
            "Epoch 50/100\n",
            "1/1 [==============================] - 0s 72ms/step - loss: 0.0166 - mean_squared_error: 0.1712 - val_loss: 0.0163 - val_mean_squared_error: 0.1630\n",
            "Epoch 51/100\n",
            "1/1 [==============================] - 0s 60ms/step - loss: 0.0161 - mean_squared_error: 0.1669 - val_loss: 0.0157 - val_mean_squared_error: 0.1569\n",
            "Epoch 52/100\n",
            "1/1 [==============================] - 0s 74ms/step - loss: 0.0155 - mean_squared_error: 0.1610 - val_loss: 0.0152 - val_mean_squared_error: 0.1503\n",
            "Epoch 53/100\n",
            "1/1 [==============================] - 0s 63ms/step - loss: 0.0149 - mean_squared_error: 0.1547 - val_loss: 0.0147 - val_mean_squared_error: 0.1444\n",
            "Epoch 54/100\n",
            "1/1 [==============================] - 0s 65ms/step - loss: 0.0144 - mean_squared_error: 0.1493 - val_loss: 0.0144 - val_mean_squared_error: 0.1403\n",
            "Epoch 55/100\n",
            "1/1 [==============================] - 0s 71ms/step - loss: 0.0140 - mean_squared_error: 0.1455 - val_loss: 0.0142 - val_mean_squared_error: 0.1380\n",
            "Epoch 56/100\n",
            "1/1 [==============================] - 0s 61ms/step - loss: 0.0138 - mean_squared_error: 0.1437 - val_loss: 0.0142 - val_mean_squared_error: 0.1373\n",
            "Epoch 57/100\n",
            "1/1 [==============================] - 0s 61ms/step - loss: 0.0138 - mean_squared_error: 0.1435 - val_loss: 0.0142 - val_mean_squared_error: 0.1376\n",
            "Epoch 58/100\n",
            "1/1 [==============================] - 0s 58ms/step - loss: 0.0138 - mean_squared_error: 0.1441 - val_loss: 0.0142 - val_mean_squared_error: 0.1380\n",
            "Epoch 59/100\n",
            "1/1 [==============================] - 0s 71ms/step - loss: 0.0138 - mean_squared_error: 0.1447 - val_loss: 0.0141 - val_mean_squared_error: 0.1380\n",
            "Epoch 60/100\n",
            "1/1 [==============================] - 0s 60ms/step - loss: 0.0137 - mean_squared_error: 0.1447 - val_loss: 0.0139 - val_mean_squared_error: 0.1372\n",
            "Epoch 61/100\n",
            "1/1 [==============================] - 0s 82ms/step - loss: 0.0136 - mean_squared_error: 0.1438 - val_loss: 0.0137 - val_mean_squared_error: 0.1358\n",
            "Epoch 62/100\n",
            "1/1 [==============================] - 0s 61ms/step - loss: 0.0134 - mean_squared_error: 0.1419 - val_loss: 0.0135 - val_mean_squared_error: 0.1339\n",
            "Epoch 63/100\n",
            "1/1 [==============================] - 0s 62ms/step - loss: 0.0131 - mean_squared_error: 0.1396 - val_loss: 0.0133 - val_mean_squared_error: 0.1321\n",
            "Epoch 64/100\n",
            "1/1 [==============================] - 0s 67ms/step - loss: 0.0129 - mean_squared_error: 0.1372 - val_loss: 0.0131 - val_mean_squared_error: 0.1307\n",
            "Epoch 65/100\n",
            "1/1 [==============================] - 0s 72ms/step - loss: 0.0128 - mean_squared_error: 0.1351 - val_loss: 0.0130 - val_mean_squared_error: 0.1298\n",
            "Epoch 66/100\n",
            "1/1 [==============================] - 0s 59ms/step - loss: 0.0127 - mean_squared_error: 0.1335 - val_loss: 0.0130 - val_mean_squared_error: 0.1292\n",
            "Epoch 67/100\n",
            "1/1 [==============================] - 0s 59ms/step - loss: 0.0126 - mean_squared_error: 0.1323 - val_loss: 0.0129 - val_mean_squared_error: 0.1289\n",
            "Epoch 68/100\n",
            "1/1 [==============================] - 0s 60ms/step - loss: 0.0126 - mean_squared_error: 0.1313 - val_loss: 0.0129 - val_mean_squared_error: 0.1286\n",
            "Epoch 69/100\n",
            "1/1 [==============================] - 0s 73ms/step - loss: 0.0125 - mean_squared_error: 0.1304 - val_loss: 0.0128 - val_mean_squared_error: 0.1281\n",
            "Epoch 70/100\n",
            "1/1 [==============================] - 0s 74ms/step - loss: 0.0124 - mean_squared_error: 0.1294 - val_loss: 0.0127 - val_mean_squared_error: 0.1274\n",
            "Epoch 71/100\n",
            "1/1 [==============================] - 0s 61ms/step - loss: 0.0123 - mean_squared_error: 0.1283 - val_loss: 0.0127 - val_mean_squared_error: 0.1265\n",
            "Epoch 72/100\n",
            "1/1 [==============================] - 0s 70ms/step - loss: 0.0121 - mean_squared_error: 0.1271 - val_loss: 0.0127 - val_mean_squared_error: 0.1255\n",
            "Epoch 73/100\n",
            "1/1 [==============================] - 0s 64ms/step - loss: 0.0120 - mean_squared_error: 0.1258 - val_loss: 0.0126 - val_mean_squared_error: 0.1246\n",
            "Epoch 74/100\n",
            "1/1 [==============================] - 0s 75ms/step - loss: 0.0119 - mean_squared_error: 0.1246 - val_loss: 0.0127 - val_mean_squared_error: 0.1238\n",
            "Epoch 75/100\n",
            "1/1 [==============================] - 0s 64ms/step - loss: 0.0119 - mean_squared_error: 0.1234 - val_loss: 0.0127 - val_mean_squared_error: 0.1230\n",
            "Epoch 76/100\n",
            "1/1 [==============================] - 0s 69ms/step - loss: 0.0118 - mean_squared_error: 0.1223 - val_loss: 0.0126 - val_mean_squared_error: 0.1223\n",
            "Epoch 77/100\n",
            "1/1 [==============================] - 0s 61ms/step - loss: 0.0118 - mean_squared_error: 0.1213 - val_loss: 0.0126 - val_mean_squared_error: 0.1216\n",
            "Epoch 78/100\n",
            "1/1 [==============================] - 0s 65ms/step - loss: 0.0117 - mean_squared_error: 0.1203 - val_loss: 0.0125 - val_mean_squared_error: 0.1209\n",
            "Epoch 79/100\n",
            "1/1 [==============================] - 0s 74ms/step - loss: 0.0116 - mean_squared_error: 0.1193 - val_loss: 0.0124 - val_mean_squared_error: 0.1203\n",
            "Epoch 80/100\n",
            "1/1 [==============================] - 0s 61ms/step - loss: 0.0115 - mean_squared_error: 0.1184 - val_loss: 0.0123 - val_mean_squared_error: 0.1198\n",
            "Epoch 81/100\n",
            "1/1 [==============================] - 0s 61ms/step - loss: 0.0114 - mean_squared_error: 0.1176 - val_loss: 0.0122 - val_mean_squared_error: 0.1193\n",
            "Epoch 82/100\n",
            "1/1 [==============================] - 0s 72ms/step - loss: 0.0113 - mean_squared_error: 0.1168 - val_loss: 0.0121 - val_mean_squared_error: 0.1189\n",
            "Epoch 83/100\n",
            "1/1 [==============================] - 0s 62ms/step - loss: 0.0113 - mean_squared_error: 0.1160 - val_loss: 0.0120 - val_mean_squared_error: 0.1184\n",
            "Epoch 84/100\n",
            "1/1 [==============================] - 0s 74ms/step - loss: 0.0112 - mean_squared_error: 0.1153 - val_loss: 0.0120 - val_mean_squared_error: 0.1180\n",
            "Epoch 85/100\n",
            "1/1 [==============================] - 0s 86ms/step - loss: 0.0111 - mean_squared_error: 0.1146 - val_loss: 0.0119 - val_mean_squared_error: 0.1174\n",
            "Epoch 86/100\n",
            "1/1 [==============================] - 0s 86ms/step - loss: 0.0111 - mean_squared_error: 0.1138 - val_loss: 0.0119 - val_mean_squared_error: 0.1169\n",
            "Epoch 87/100\n",
            "1/1 [==============================] - 0s 76ms/step - loss: 0.0110 - mean_squared_error: 0.1130 - val_loss: 0.0118 - val_mean_squared_error: 0.1164\n",
            "Epoch 88/100\n",
            "1/1 [==============================] - 0s 85ms/step - loss: 0.0109 - mean_squared_error: 0.1123 - val_loss: 0.0118 - val_mean_squared_error: 0.1159\n",
            "Epoch 89/100\n",
            "1/1 [==============================] - 0s 80ms/step - loss: 0.0109 - mean_squared_error: 0.1115 - val_loss: 0.0118 - val_mean_squared_error: 0.1154\n",
            "Epoch 90/100\n",
            "1/1 [==============================] - 0s 87ms/step - loss: 0.0108 - mean_squared_error: 0.1108 - val_loss: 0.0117 - val_mean_squared_error: 0.1150\n",
            "Epoch 91/100\n",
            "1/1 [==============================] - 0s 89ms/step - loss: 0.0108 - mean_squared_error: 0.1101 - val_loss: 0.0117 - val_mean_squared_error: 0.1146\n",
            "Epoch 92/100\n",
            "1/1 [==============================] - 0s 75ms/step - loss: 0.0107 - mean_squared_error: 0.1095 - val_loss: 0.0117 - val_mean_squared_error: 0.1142\n",
            "Epoch 93/100\n",
            "1/1 [==============================] - 0s 83ms/step - loss: 0.0107 - mean_squared_error: 0.1088 - val_loss: 0.0117 - val_mean_squared_error: 0.1138\n",
            "Epoch 94/100\n",
            "1/1 [==============================] - 0s 75ms/step - loss: 0.0106 - mean_squared_error: 0.1081 - val_loss: 0.0116 - val_mean_squared_error: 0.1134\n",
            "Epoch 95/100\n",
            "1/1 [==============================] - 0s 90ms/step - loss: 0.0106 - mean_squared_error: 0.1074 - val_loss: 0.0116 - val_mean_squared_error: 0.1131\n",
            "Epoch 96/100\n",
            "1/1 [==============================] - 0s 72ms/step - loss: 0.0105 - mean_squared_error: 0.1067 - val_loss: 0.0116 - val_mean_squared_error: 0.1127\n",
            "Epoch 97/100\n",
            "1/1 [==============================] - 0s 84ms/step - loss: 0.0104 - mean_squared_error: 0.1061 - val_loss: 0.0115 - val_mean_squared_error: 0.1124\n",
            "Epoch 98/100\n",
            "1/1 [==============================] - 0s 88ms/step - loss: 0.0104 - mean_squared_error: 0.1055 - val_loss: 0.0115 - val_mean_squared_error: 0.1121\n",
            "Epoch 99/100\n",
            "1/1 [==============================] - 0s 81ms/step - loss: 0.0103 - mean_squared_error: 0.1049 - val_loss: 0.0114 - val_mean_squared_error: 0.1118\n",
            "Epoch 100/100\n",
            "1/1 [==============================] - 0s 71ms/step - loss: 0.0103 - mean_squared_error: 0.1043 - val_loss: 0.0114 - val_mean_squared_error: 0.1115\n"
          ]
        }
      ],
      "source": [
        "tf.keras.backend.clear_session()\n",
        "strategy = setup_strategy()\n",
        "\n",
        "with strategy.scope():\n",
        "  modelHist = create_model_Hist()\n",
        "  modelHist.compile(\n",
        "      optimizer= optimizer,\n",
        "      loss=loss,\n",
        "            metrics=[metrics]\n",
        "      )\n",
        "\n",
        "history=modelHist.fit(\n",
        "    X_train, y_train,\n",
        "    epochs=epochs,\n",
        "    batch_size = batch_size,\n",
        "    validation_data=(X_valid, y_valid),\n",
        "    validation_freq=1)"
      ]
    },
    {
      "cell_type": "code",
      "execution_count": 35,
      "id": "pV87W28ecHbO",
      "metadata": {
        "colab": {
          "base_uri": "https://localhost:8080/",
          "height": 487
        },
        "id": "pV87W28ecHbO",
        "outputId": "f04beacb-f1c2-45f6-86a5-3a4a371364f0"
      },
      "outputs": [
        {
          "output_type": "display_data",
          "data": {
            "text/plain": [
              "<Figure size 800x500 with 1 Axes>"
            ],
            "image/png": "[encoded data removed]"
          },
          "metadata": {}
        }
      ],
      "source": [
        "pd.DataFrame(history.history).plot(figsize=(8, 5))\n",
        "plt.xlabel(\"Epochs\")\n",
        "plt.title(\"Training History\")\n",
        "plt.grid(True)\n",
        "#plt.gca().set_ylim(0, 50) # set the vertical range to [0-1]\n",
        "plt.yscale(\"log\")\n",
        "#plt.ylim(0.1,0.2)\n",
        "plt.show()"
      ]
    },
    {
      "cell_type": "code",
      "execution_count": 36,
      "id": "ecffe3b7",
      "metadata": {
        "colab": {
          "base_uri": "https://localhost:8080/",
          "height": 696
        },
        "id": "ecffe3b7",
        "outputId": "32885dbd-5532-4a4a-fcbd-1b507f474b31"
      },
      "outputs": [
        {
          "output_type": "display_data",
          "data": {
            "text/plain": [
              "<Figure size 500x800 with 2 Axes>"
            ],
            "image/png": "[encoded data removed]"
          },
          "metadata": {}
        }
      ],
      "source": [
        "nsel = 1000\n",
        "x_values = X_valid[np.argsort(y_valid[:nsel])]\n",
        "output = modelHist.predict(x_values, verbose=False)[:,0]\n",
        "\n",
        "input = np.sort(y_valid[:nsel])\n",
        "\n",
        "fig, axes = plt.subplots(nrows = 2, figsize = (5,8))\n",
        "ax = axes[0]\n",
        "ax.hexbin(input,output, gridsize=50, cmap = 'magma')\n",
        "ax.plot(input,input,'--',color=\"gray\",alpha=0.8)\n",
        "ax.set_xlabel(\"$\\Delta$\"); ax.set_ylabel(\"Estimation $\\hat \\Delta$\")\n",
        "\n",
        "ax = axes[1]\n",
        "ax.hist(input,bins = 50, alpha = 0.5, label = \"Input data\")\n",
        "ax.hist(output,bins = 50, alpha = 0.5, label = \"Output data\")\n",
        "ax.set_xlabel(\"$\\Delta$\"); ax.set_ylabel(\"Counts\")\n",
        "ax.legend()\n",
        "plt.show()"
      ]
    },
    {
      "cell_type": "markdown",
      "id": "39e423be",
      "metadata": {
        "id": "39e423be"
      },
      "source": [
        "Save the model"
      ]
    },
    {
      "cell_type": "code",
      "execution_count": 37,
      "id": "425d5e85",
      "metadata": {
        "colab": {
          "base_uri": "https://localhost:8080/",
          "height": 17
        },
        "id": "425d5e85",
        "outputId": "e2f736aa-f6aa-408c-f5b8-7c9be76b28af"
      },
      "outputs": [
        {
          "output_type": "display_data",
          "data": {
            "text/plain": [
              "<IPython.core.display.Javascript object>"
            ],
            "application/javascript": [
              "\n",
              "    async function download(id, filename, size) {\n",
              "      if (!google.colab.kernel.accessAllowed) {\n",
              "        return;\n",
              "      }\n",
              "      const div = document.createElement('div');\n",
              "      const label = document.createElement('label');\n",
              "      label.textContent = `Downloading \"${filename}\": `;\n",
              "      div.appendChild(label);\n",
              "      const progress = document.createElement('progress');\n",
              "      progress.max = size;\n",
              "      div.appendChild(progress);\n",
              "      document.body.appendChild(div);\n",
              "\n",
              "      const buffers = [];\n",
              "      let downloaded = 0;\n",
              "\n",
              "      const channel = await google.colab.kernel.comms.open(id);\n",
              "      // Send a message to notify the kernel that we're ready.\n",
              "      channel.send({})\n",
              "\n",
              "      for await (const message of channel.messages) {\n",
              "        // Send a message to notify the kernel that we're ready.\n",
              "        channel.send({})\n",
              "        if (message.buffers) {\n",
              "          for (const buffer of message.buffers) {\n",
              "            buffers.push(buffer);\n",
              "            downloaded += buffer.byteLength;\n",
              "            progress.value = downloaded;\n",
              "          }\n",
              "        }\n",
              "      }\n",
              "      const blob = new Blob(buffers, {type: 'application/binary'});\n",
              "      const a = document.createElement('a');\n",
              "      a.href = window.URL.createObjectURL(blob);\n",
              "      a.download = filename;\n",
              "      div.appendChild(a);\n",
              "      a.click();\n",
              "      div.remove();\n",
              "    }\n",
              "  "
            ]
          },
          "metadata": {}
        },
        {
          "output_type": "display_data",
          "data": {
            "text/plain": [
              "<IPython.core.display.Javascript object>"
            ],
            "application/javascript": [
              "download(\"download_6ff28085-2f11-4547-b204-c08de998b8fe\", \"model-Hist-Dense.h5\", 88064)"
            ]
          },
          "metadata": {}
        }
      ],
      "source": [
        "modelTrainName = f'model-Hist.h5'\n",
        "\n",
        "save_dir = datapath+\"models/1D/\"\n",
        "save_path = save_dir + modelTrainName\n",
        "if not os.path.exists(save_dir):\n",
        "  os.makedirs(save_dir)\n",
        "\n",
        "modelRNN.save(save_path)\n",
        "\n",
        "if isColab:\n",
        "    from google.colab import files\n",
        "    files.download(save_path)"
      ]
    },
    {
      "cell_type": "markdown",
      "id": "EiqaJjc5g736",
      "metadata": {
        "id": "EiqaJjc5g736"
      },
      "source": [
        "### Training Hist-Dense models with noise in the y_train"
      ]
    },
    {
      "cell_type": "markdown",
      "id": "46729fb0",
      "metadata": {
        "id": "46729fb0"
      },
      "source": [
        "Define the model"
      ]
    },
    {
      "cell_type": "code",
      "execution_count": 38,
      "id": "16344ca4",
      "metadata": {
        "id": "16344ca4"
      },
      "outputs": [],
      "source": [
        "from src.custom_layers import MyHistogramLayer_Sigmoid\n",
        "\n",
        "nbins = 700\n",
        "taumax = 100\n",
        "width = taumax/nbins\n",
        "\n",
        "\n",
        "def create_model_Hist():\n",
        "  # Set the model\n",
        "  activation = \"relu\"\n",
        "  droprate = 0.\n",
        "  modelHist = keras.models.Sequential(\n",
        "  [\n",
        "  MyHistogramLayer_Sigmoid(nbins, taumax, trainable = False),\n",
        "  keras.layers.Dense(100, activation=activation),\n",
        "   keras.layers.Dropout(droprate),\n",
        "  keras.layers.Dense(50, activation=activation),\n",
        "   keras.layers.Dropout(droprate),\n",
        "     keras.layers.Dense(30, activation=activation),\n",
        "   keras.layers.Dropout(droprate),\n",
        "      keras.layers.Dense(1)\n",
        "   ]\n",
        "  )\n",
        "  return modelHist"
      ]
    },
    {
      "cell_type": "markdown",
      "id": "dcd478a2",
      "metadata": {
        "id": "dcd478a2"
      },
      "source": [
        "Define $\\sigma$ interval"
      ]
    },
    {
      "cell_type": "code",
      "execution_count": 39,
      "id": "f81f15a9",
      "metadata": {
        "id": "f81f15a9"
      },
      "outputs": [],
      "source": [
        "sigma_min = 0.;sigma_max = 1.;nsigma = 30; sigma_list = np.linspace(sigma_min,sigma_max,nsigma)"
      ]
    },
    {
      "cell_type": "markdown",
      "id": "20392adb",
      "metadata": {
        "id": "20392adb"
      },
      "source": [
        "Setup the training"
      ]
    },
    {
      "cell_type": "code",
      "execution_count": 40,
      "id": "d9738e36",
      "metadata": {
        "id": "d9738e36"
      },
      "outputs": [],
      "source": [
        "  epochs = 20\n",
        "  optimizer = \"adam\"\n",
        "  loss = tf.keras.losses.MeanSquaredLogarithmicError()\n",
        "  metrics = [\"MeanSquaredError\"]"
      ]
    },
    {
      "cell_type": "markdown",
      "id": "84df75f6",
      "metadata": {
        "id": "84df75f6"
      },
      "source": [
        "Create callback to save the model of the best epoch during training"
      ]
    },
    {
      "cell_type": "code",
      "execution_count": 41,
      "id": "cd3603fe",
      "metadata": {
        "id": "cd3603fe"
      },
      "outputs": [],
      "source": [
        "file_dir = datapath+\"models/1D/noise-y-train/\"\n",
        "\n",
        "if not os.path.exists(file_dir):\n",
        "  os.makedirs(file_dir)\n",
        "\n",
        "def Create_Callback(sigma):\n",
        "  filepath= file_dir+ 'model_best_Hist-sigma_'+str(sigma)+'.hdf5'\n",
        "\n",
        "  checkpoint = keras.callbacks.ModelCheckpoint(filepath=filepath,\n",
        "                              monitor='val_loss',\n",
        "                              verbose=0,\n",
        "                              save_best_only=True,\n",
        "                              mode='min')\n",
        "\n",
        "  callbacks = [checkpoint]\n",
        "  return callbacks"
      ]
    },
    {
      "cell_type": "markdown",
      "id": "35f93cf4",
      "metadata": {
        "id": "35f93cf4"
      },
      "source": [
        "Loop over $\\sigma$"
      ]
    },
    {
      "cell_type": "code",
      "execution_count": 42,
      "id": "d660bca0",
      "metadata": {
        "colab": {
          "base_uri": "https://localhost:8080/"
        },
        "id": "d660bca0",
        "outputId": "a2424d59-72df-49f2-99c9-eac05cd3518f"
      },
      "outputs": [
        {
          "output_type": "stream",
          "name": "stdout",
          "text": [
            "rm: cannot remove 'data/models/1D/noise-y-train/*': No such file or directory\n"
          ]
        },
        {
          "output_type": "stream",
          "name": "stderr",
          "text": [
            "100%|██████████| 30/30 [02:26<00:00,  4.90s/it]\n"
          ]
        }
      ],
      "source": [
        "! rm -r \"$datapath\"models/1D/noise-y-train/*\n",
        "\n",
        "tf.keras.backend.clear_session()\n",
        "strategy = setup_strategy()\n",
        "\n",
        "with strategy.scope():\n",
        "  modelHist = create_model_Hist()\n",
        "  modelHist.compile(optimizer= optimizer, loss=loss, metrics=[metrics])\n",
        "\n",
        "with strategy.scope():\n",
        "  model_Prev = tf.keras.models.clone_model(modelHist)\n",
        "  model_Prev.compile(optimizer= optimizer, loss=loss, metrics=[metrics])\n",
        "\n",
        "# First do a very quick training to initialize the weights for later training\n",
        "sigma = 0.\n",
        "noise = np.random.normal(loc=0., scale=sigma, size=len(y_train))\n",
        "y_train_noise = np.abs(y_train + noise)\n",
        "noise_valid = np.random.normal(loc=0., scale=sigma, size=len(y_valid))\n",
        "y_valid_noise = np.abs(y_valid + noise_valid)\n",
        "\n",
        "model_Prev.fit(X_train.astype(np.float32),\n",
        "                      y_train_noise.astype(np.float32),\n",
        "                      epochs=2,\n",
        "                      callbacks=Create_Callback(sigma),\n",
        "                        batch_size = 1280, validation_data=(X_valid.astype(np.float32), y_valid_noise.astype(np.float32)), validation_freq=1,\n",
        "                        verbose = False)\n",
        "\n",
        "# Now loop over sigma\n",
        "history_list = []\n",
        "for sigma in tqdm(sigma_list):\n",
        "\n",
        "    # First we create a model cloning the partially trained one\n",
        "    with strategy.scope():\n",
        "      model = tf.keras.models.clone_model(model_Prev)\n",
        "      model.compile(optimizer= optimizer, loss=loss, metrics=[metrics])\n",
        "\n",
        "      # Add noise to data\n",
        "      noise = np.random.normal(loc=0., scale=sigma, size=len(y_train))\n",
        "      y_train_noise = np.abs(y_train + noise)\n",
        "      noise_valid = np.random.normal(loc=0., scale=sigma, size=len(y_valid))\n",
        "      y_valid_noise = np.abs(y_valid + noise_valid)\n",
        "\n",
        "      # Fit the model with noisy data\n",
        "      history = model.fit(X_train.astype(np.float32),\n",
        "                      y_train_noise.astype(np.float32),\n",
        "                      epochs=epochs,\n",
        "                      callbacks=Create_Callback(sigma),\n",
        "                        batch_size = 1280, validation_data=(X_valid.astype(np.float32), y_valid_noise.astype(np.float32)), validation_freq=1,\n",
        "                        verbose = False)\n",
        "\n",
        "      # Store the history of the training\n",
        "      history_list.append(history)"
      ]
    },
    {
      "cell_type": "code",
      "execution_count": 43,
      "id": "Am9xOncyg736",
      "metadata": {
        "colab": {
          "base_uri": "https://localhost:8080/",
          "height": 449
        },
        "id": "Am9xOncyg736",
        "outputId": "122291be-0645-4d27-a0f5-9a7fb273ccfc"
      },
      "outputs": [
        {
          "output_type": "display_data",
          "data": {
            "text/plain": [
              "<Figure size 640x480 with 1 Axes>"
            ],
            "image/png": "[encoded data removed]"
          },
          "metadata": {}
        }
      ],
      "source": [
        "histories = [pd.DataFrame(result.history) for result in history_list]\n",
        "val_loss_list = np.array([history.val_loss for history in histories])\n",
        "\n",
        "plt.plot(sigma_list,val_loss_list[:,-1],'-o', label = \"Loss (last epoch)\")\n",
        "plt.plot(sigma_list,np.min(val_loss_list,axis=1),'-ro', label = \"Loss (best epoch)\")\n",
        "plt.legend()\n",
        "plt.xlabel(\"$\\sigma$\"); plt.ylabel(\"\")\n",
        "plt.show()"
      ]
    },
    {
      "cell_type": "markdown",
      "source": [
        "If we are in Colab, we zip and download the files"
      ],
      "metadata": {
        "id": "xg2DyLb2Irx4"
      },
      "id": "xg2DyLb2Irx4"
    },
    {
      "cell_type": "code",
      "execution_count": 44,
      "id": "iq7yLHT1lya0",
      "metadata": {
        "colab": {
          "base_uri": "https://localhost:8080/",
          "height": 555
        },
        "id": "iq7yLHT1lya0",
        "outputId": "4ad946d8-eedd-415e-d6e3-f857a4dae145"
      },
      "outputs": [
        {
          "output_type": "stream",
          "name": "stdout",
          "text": [
            "  adding: data/models/1D/noise-y-train/ (stored 0%)\n",
            "  adding: data/models/1D/noise-y-train/model_best_Hist-sigma_0.48275862068965514.hdf5 (deflated 11%)\n",
            "  adding: data/models/1D/noise-y-train/model_best_Hist-sigma_0.9310344827586207.hdf5 (deflated 11%)\n",
            "  adding: data/models/1D/noise-y-train/model_best_Hist-sigma_0.20689655172413793.hdf5 (deflated 11%)\n",
            "  adding: data/models/1D/noise-y-train/model_best_Hist-sigma_1.0.hdf5 (deflated 11%)\n",
            "  adding: data/models/1D/noise-y-train/model_best_Hist-sigma_0.8620689655172413.hdf5 (deflated 11%)\n",
            "  adding: data/models/1D/noise-y-train/model_best_Hist-sigma_0.8275862068965517.hdf5 (deflated 11%)\n",
            "  adding: data/models/1D/noise-y-train/model_best_Hist-sigma_0.6551724137931034.hdf5 (deflated 11%)\n",
            "  adding: data/models/1D/noise-y-train/model_best_Hist-sigma_0.7931034482758621.hdf5 (deflated 11%)\n",
            "  adding: data/models/1D/noise-y-train/model_best_Hist-sigma_0.10344827586206896.hdf5 (deflated 11%)\n",
            "  adding: data/models/1D/noise-y-train/model_best_Hist-sigma_0.896551724137931.hdf5 (deflated 11%)\n",
            "  adding: data/models/1D/noise-y-train/model_best_Hist-sigma_0.27586206896551724.hdf5 (deflated 11%)\n",
            "  adding: data/models/1D/noise-y-train/model_best_Hist-sigma_0.06896551724137931.hdf5 (deflated 11%)\n",
            "  adding: data/models/1D/noise-y-train/model_best_Hist-sigma_0.7586206896551724.hdf5 (deflated 11%)\n",
            "  adding: data/models/1D/noise-y-train/model_best_Hist-sigma_0.6896551724137931.hdf5 (deflated 11%)\n",
            "  adding: data/models/1D/noise-y-train/model_best_Hist-sigma_0.24137931034482757.hdf5 (deflated 11%)\n",
            "  adding: data/models/1D/noise-y-train/model_best_Hist-sigma_0.3103448275862069.hdf5 (deflated 11%)\n",
            "  adding: data/models/1D/noise-y-train/model_best_Hist-sigma_0.034482758620689655.hdf5 (deflated 11%)\n",
            "  adding: data/models/1D/noise-y-train/model_best_Hist-sigma_0.9655172413793103.hdf5 (deflated 11%)\n",
            "  adding: data/models/1D/noise-y-train/model_best_Hist-sigma_0.5517241379310345.hdf5 (deflated 11%)\n",
            "  adding: data/models/1D/noise-y-train/model_best_Hist-sigma_0.4482758620689655.hdf5 (deflated 11%)\n",
            "  adding: data/models/1D/noise-y-train/model_best_Hist-sigma_0.0.hdf5 (deflated 11%)\n",
            "  adding: data/models/1D/noise-y-train/model_best_Hist-sigma_0.41379310344827586.hdf5 (deflated 11%)\n",
            "  adding: data/models/1D/noise-y-train/model_best_Hist-sigma_0.3793103448275862.hdf5 (deflated 11%)\n",
            "  adding: data/models/1D/noise-y-train/model_best_Hist-sigma_0.7241379310344828.hdf5 (deflated 11%)\n",
            "  adding: data/models/1D/noise-y-train/model_best_Hist-sigma_0.1724137931034483.hdf5 (deflated 11%)\n",
            "  adding: data/models/1D/noise-y-train/model_best_Hist-sigma_0.5172413793103449.hdf5 (deflated 11%)\n",
            "  adding: data/models/1D/noise-y-train/model_best_Hist-sigma_0.5862068965517241.hdf5 (deflated 11%)\n",
            "  adding: data/models/1D/noise-y-train/model_best_Hist-sigma_0.3448275862068966.hdf5 (deflated 11%)\n",
            "  adding: data/models/1D/noise-y-train/model_best_Hist-sigma_0.6206896551724138.hdf5 (deflated 11%)\n",
            "  adding: data/models/1D/noise-y-train/model_best_Hist-sigma_0.13793103448275862.hdf5 (deflated 11%)\n"
          ]
        },
        {
          "output_type": "display_data",
          "data": {
            "text/plain": [
              "<IPython.core.display.Javascript object>"
            ],
            "application/javascript": [
              "\n",
              "    async function download(id, filename, size) {\n",
              "      if (!google.colab.kernel.accessAllowed) {\n",
              "        return;\n",
              "      }\n",
              "      const div = document.createElement('div');\n",
              "      const label = document.createElement('label');\n",
              "      label.textContent = `Downloading \"${filename}\": `;\n",
              "      div.appendChild(label);\n",
              "      const progress = document.createElement('progress');\n",
              "      progress.max = size;\n",
              "      div.appendChild(progress);\n",
              "      document.body.appendChild(div);\n",
              "\n",
              "      const buffers = [];\n",
              "      let downloaded = 0;\n",
              "\n",
              "      const channel = await google.colab.kernel.comms.open(id);\n",
              "      // Send a message to notify the kernel that we're ready.\n",
              "      channel.send({})\n",
              "\n",
              "      for await (const message of channel.messages) {\n",
              "        // Send a message to notify the kernel that we're ready.\n",
              "        channel.send({})\n",
              "        if (message.buffers) {\n",
              "          for (const buffer of message.buffers) {\n",
              "            buffers.push(buffer);\n",
              "            downloaded += buffer.byteLength;\n",
              "            progress.value = downloaded;\n",
              "          }\n",
              "        }\n",
              "      }\n",
              "      const blob = new Blob(buffers, {type: 'application/binary'});\n",
              "      const a = document.createElement('a');\n",
              "      a.href = window.URL.createObjectURL(blob);\n",
              "      a.download = filename;\n",
              "      div.appendChild(a);\n",
              "      a.click();\n",
              "      div.remove();\n",
              "    }\n",
              "  "
            ]
          },
          "metadata": {}
        },
        {
          "output_type": "display_data",
          "data": {
            "text/plain": [
              "<IPython.core.display.Javascript object>"
            ],
            "application/javascript": [
              "download(\"download_efd66e3b-61cd-4bc6-976d-9189e68d4d93\", \"models-sigma-y-train.zip\", 25883636)"
            ]
          },
          "metadata": {}
        }
      ],
      "source": [
        "if isColab:\n",
        "  !zip -r models-sigma-y-train.zip \"$datapath\"models/1D/noise-y-train/\n",
        "  files.download(\"models-sigma-y-train.zip\")"
      ]
    },
    {
      "cell_type": "markdown",
      "id": "993lxcZEg737",
      "metadata": {
        "id": "993lxcZEg737"
      },
      "source": [
        "### Training Hist models with noise in the x_train"
      ]
    },
    {
      "cell_type": "markdown",
      "id": "9749e84e",
      "metadata": {
        "id": "9749e84e"
      },
      "source": [
        "Define the model"
      ]
    },
    {
      "cell_type": "code",
      "execution_count": 46,
      "id": "fb7edb28",
      "metadata": {
        "id": "fb7edb28"
      },
      "outputs": [],
      "source": [
        "from src.custom_layers import MyHistogramLayer_Sigmoid\n",
        "\n",
        "nbins = 700\n",
        "taumax = 100\n",
        "width = taumax/nbins\n",
        "\n",
        "\n",
        "def create_model_Hist():\n",
        "  # Set the model\n",
        "  activation = \"relu\"\n",
        "  droprate = 0.\n",
        "  modelHist = keras.models.Sequential(\n",
        "  [\n",
        "  MyHistogramLayer_Sigmoid(nbins, taumax, trainable = False),\n",
        "  keras.layers.Dense(100, activation=activation),\n",
        "   keras.layers.Dropout(droprate),\n",
        "  keras.layers.Dense(50, activation=activation),\n",
        "   keras.layers.Dropout(droprate),\n",
        "     keras.layers.Dense(30, activation=activation),\n",
        "   keras.layers.Dropout(droprate),\n",
        "      keras.layers.Dense(1)\n",
        "   ]\n",
        "  )\n",
        "  return modelHist"
      ]
    },
    {
      "cell_type": "markdown",
      "id": "1a2b5b1a",
      "metadata": {
        "id": "1a2b5b1a"
      },
      "source": [
        "Define $\\sigma$ interval"
      ]
    },
    {
      "cell_type": "code",
      "execution_count": 47,
      "id": "cd7677cf",
      "metadata": {
        "id": "cd7677cf"
      },
      "outputs": [],
      "source": [
        "sigma_min = 0.;sigma_max = 1.;nsigma = 30; sigma_list = np.linspace(0,sigma_max,nsigma)"
      ]
    },
    {
      "cell_type": "markdown",
      "id": "9d5f6e96",
      "metadata": {
        "id": "9d5f6e96"
      },
      "source": [
        "Setup the training"
      ]
    },
    {
      "cell_type": "code",
      "execution_count": 48,
      "id": "5LD3Camug737",
      "metadata": {
        "id": "5LD3Camug737"
      },
      "outputs": [],
      "source": [
        "epochs = 10\n",
        "batch_size = 1280\n",
        "#optimizer = tf.keras.optimizers.legacy.Adam(  learning_rate=0.0001)\n",
        "optimizer = \"adam\"\n",
        "loss = tf.keras.losses.MeanSquaredLogarithmicError()\n",
        "metrics = [\"MeanSquaredError\"]"
      ]
    },
    {
      "cell_type": "markdown",
      "id": "5998e086",
      "metadata": {
        "id": "5998e086"
      },
      "source": [
        "Define Callback to save the model of the best epoch during training"
      ]
    },
    {
      "cell_type": "code",
      "execution_count": 49,
      "id": "alC5DRe1g737",
      "metadata": {
        "id": "alC5DRe1g737"
      },
      "outputs": [],
      "source": [
        "file_dir = datapath+\"models/1D/noise-x-train/\"\n",
        "\n",
        "if not os.path.exists(file_dir):\n",
        "  os.makedirs(file_dir)\n",
        "\n",
        "def Create_Callback(sigma):\n",
        "  filepath= file_dir+ 'model_best_Hist-sigma_'+str(sigma)+'.hdf5'\n",
        "\n",
        "  checkpoint = keras.callbacks.ModelCheckpoint(filepath=filepath,\n",
        "                              monitor='val_loss',\n",
        "                              verbose=0,\n",
        "                              save_best_only=True,\n",
        "                              mode='min')\n",
        "\n",
        "  callbacks = [checkpoint]\n",
        "  return callbacks"
      ]
    },
    {
      "cell_type": "markdown",
      "id": "6BtsWdZhg737",
      "metadata": {
        "id": "6BtsWdZhg737"
      },
      "source": [
        "Loop over $\\sigma$"
      ]
    },
    {
      "cell_type": "code",
      "execution_count": 50,
      "id": "83550e6b",
      "metadata": {
        "colab": {
          "base_uri": "https://localhost:8080/"
        },
        "id": "83550e6b",
        "outputId": "03cc5f11-5dda-4145-dfb2-d3c6b3de04a1"
      },
      "outputs": [
        {
          "output_type": "stream",
          "name": "stderr",
          "text": [
            "100%|██████████| 30/30 [01:47<00:00,  3.59s/it]\n"
          ]
        }
      ],
      "source": [
        "# Clean the \"data/models/noise-x-train\" folder\n",
        "! rm -r \"$datapath\"models/1D/noise-x-train\n",
        "\n",
        "\n",
        "tf.keras.backend.clear_session()\n",
        "strategy = setup_strategy()\n",
        "\n",
        "with strategy.scope():\n",
        "  modelHist = create_model_Hist()\n",
        "  modelHist.compile(optimizer= optimizer, loss=loss, metrics=[metrics])\n",
        "\n",
        "with strategy.scope():\n",
        "  model_Prev = tf.keras.models.clone_model(modelHist)\n",
        "  model_Prev.compile(optimizer= optimizer, loss=loss, metrics=[metrics])\n",
        "\n",
        "# First do a very quick training to initialize the weights for later training\n",
        "sigma = 0.\n",
        "model_Prev.fit(X_train.astype(np.float32),\n",
        "                      y_train.astype(np.float32),\n",
        "                      epochs=2,\n",
        "                      callbacks=Create_Callback(sigma),\n",
        "                        batch_size = batch_size, validation_data=(X_valid.astype(np.float32), y_valid.astype(np.float32)), validation_freq=1,\n",
        "                        verbose = False)\n",
        "\n",
        "# Now loop over sigma\n",
        "history_list = []\n",
        "for sigma in tqdm(sigma_list):\n",
        "\n",
        "  # First we create a model cloning the partially trained one\n",
        "  with strategy.scope():\n",
        "    model = tf.keras.models.clone_model(model_Prev)\n",
        "    model.compile(optimizer= optimizer, loss=loss, metrics=[metrics])\n",
        "\n",
        "  # Add noise to x- data (delays)\n",
        "  noise = np.random.normal(loc=0., scale=sigma, size=tau_list.shape)\n",
        "  tau_list_noise = (tau_list + noise).clip(min=0.001)\n",
        "  #Proper shape to x-data\n",
        "  X_train_full_Hist = tau_list_noise\n",
        "  lenTrain=int(0.8*len(X_train_full))\n",
        "  X_train_Hist, X_valid_Hist = X_train_full_Hist[:lenTrain], X_train_full_Hist[lenTrain:]\n",
        "\n",
        "  # Fit the model with noisy data\n",
        "  history = model.fit(X_train_Hist.astype(np.float32),\n",
        "                  y_train.astype(np.float32),\n",
        "                  epochs=epochs,\n",
        "                  callbacks=Create_Callback(sigma),\n",
        "                    batch_size = batch_size, validation_data=(X_valid_Hist.astype(np.float32), y_valid.astype(np.float32)), validation_freq=1,\n",
        "                    verbose = False)\n",
        "\n",
        "    # Store the history of the training\n",
        "  history_list.append(history)"
      ]
    },
    {
      "cell_type": "code",
      "execution_count": 51,
      "id": "_qKjhuLOueBR",
      "metadata": {
        "id": "_qKjhuLOueBR"
      },
      "outputs": [],
      "source": [
        "histories = [pd.DataFrame(result.history) for result in history_list]\n",
        "val_loss_list = np.array([history.val_loss for history in histories])"
      ]
    },
    {
      "cell_type": "code",
      "execution_count": 52,
      "id": "roE0DPJ6ugT2",
      "metadata": {
        "colab": {
          "base_uri": "https://localhost:8080/",
          "height": 430
        },
        "id": "roE0DPJ6ugT2",
        "outputId": "2933c131-b15e-47ce-8b18-668f6c38233a"
      },
      "outputs": [
        {
          "output_type": "display_data",
          "data": {
            "text/plain": [
              "<Figure size 640x480 with 1 Axes>"
            ],
            "image/png": "[encoded data removed]"
          },
          "metadata": {}
        }
      ],
      "source": [
        "plt.plot(sigma_list,val_loss_list[:,-1],'-o')\n",
        "plt.plot(sigma_list,np.min(val_loss_list,axis=1),'-ro')\n",
        "#plt.yscale('log')\n",
        "#plt.xscale('log')\n",
        "plt.show()"
      ]
    },
    {
      "cell_type": "code",
      "execution_count": 53,
      "id": "2UV963BgJ1uF",
      "metadata": {
        "colab": {
          "base_uri": "https://localhost:8080/",
          "height": 555
        },
        "id": "2UV963BgJ1uF",
        "outputId": "dd109bff-ec7b-47fe-9171-db80bb8fa146"
      },
      "outputs": [
        {
          "output_type": "stream",
          "name": "stdout",
          "text": [
            "  adding: data/models/1D/noise-x-train/ (stored 0%)\n",
            "  adding: data/models/1D/noise-x-train/model_best_Hist-sigma_0.48275862068965514.hdf5 (deflated 12%)\n",
            "  adding: data/models/1D/noise-x-train/model_best_Hist-sigma_0.9310344827586207.hdf5 (deflated 11%)\n",
            "  adding: data/models/1D/noise-x-train/model_best_Hist-sigma_0.20689655172413793.hdf5 (deflated 11%)\n",
            "  adding: data/models/1D/noise-x-train/model_best_Hist-sigma_1.0.hdf5 (deflated 11%)\n",
            "  adding: data/models/1D/noise-x-train/model_best_Hist-sigma_0.8620689655172413.hdf5 (deflated 11%)\n",
            "  adding: data/models/1D/noise-x-train/model_best_Hist-sigma_0.8275862068965517.hdf5 (deflated 11%)\n",
            "  adding: data/models/1D/noise-x-train/model_best_Hist-sigma_0.6551724137931034.hdf5 (deflated 11%)\n",
            "  adding: data/models/1D/noise-x-train/model_best_Hist-sigma_0.7931034482758621.hdf5 (deflated 11%)\n",
            "  adding: data/models/1D/noise-x-train/model_best_Hist-sigma_0.10344827586206896.hdf5 (deflated 11%)\n",
            "  adding: data/models/1D/noise-x-train/model_best_Hist-sigma_0.896551724137931.hdf5 (deflated 11%)\n",
            "  adding: data/models/1D/noise-x-train/model_best_Hist-sigma_0.27586206896551724.hdf5 (deflated 70%)\n",
            "  adding: data/models/1D/noise-x-train/model_best_Hist-sigma_0.06896551724137931.hdf5 (deflated 11%)\n",
            "  adding: data/models/1D/noise-x-train/model_best_Hist-sigma_0.7586206896551724.hdf5 (deflated 11%)\n",
            "  adding: data/models/1D/noise-x-train/model_best_Hist-sigma_0.6896551724137931.hdf5 (deflated 11%)\n",
            "  adding: data/models/1D/noise-x-train/model_best_Hist-sigma_0.24137931034482757.hdf5 (deflated 11%)\n",
            "  adding: data/models/1D/noise-x-train/model_best_Hist-sigma_0.3103448275862069.hdf5 (deflated 11%)\n",
            "  adding: data/models/1D/noise-x-train/model_best_Hist-sigma_0.034482758620689655.hdf5 (deflated 11%)\n",
            "  adding: data/models/1D/noise-x-train/model_best_Hist-sigma_0.9655172413793103.hdf5 (deflated 11%)\n",
            "  adding: data/models/1D/noise-x-train/model_best_Hist-sigma_0.5517241379310345.hdf5 (deflated 11%)\n",
            "  adding: data/models/1D/noise-x-train/model_best_Hist-sigma_0.4482758620689655.hdf5 (deflated 11%)\n",
            "  adding: data/models/1D/noise-x-train/model_best_Hist-sigma_0.0.hdf5 (deflated 11%)\n",
            "  adding: data/models/1D/noise-x-train/model_best_Hist-sigma_0.41379310344827586.hdf5 (deflated 12%)\n",
            "  adding: data/models/1D/noise-x-train/model_best_Hist-sigma_0.3793103448275862.hdf5 (deflated 11%)\n",
            "  adding: data/models/1D/noise-x-train/model_best_Hist-sigma_0.7241379310344828.hdf5 (deflated 11%)\n",
            "  adding: data/models/1D/noise-x-train/model_best_Hist-sigma_0.1724137931034483.hdf5 (deflated 11%)\n",
            "  adding: data/models/1D/noise-x-train/model_best_Hist-sigma_0.5172413793103449.hdf5 (deflated 11%)\n",
            "  adding: data/models/1D/noise-x-train/model_best_Hist-sigma_0.5862068965517241.hdf5 (deflated 11%)\n",
            "  adding: data/models/1D/noise-x-train/model_best_Hist-sigma_0.3448275862068966.hdf5 (deflated 11%)\n",
            "  adding: data/models/1D/noise-x-train/model_best_Hist-sigma_0.6206896551724138.hdf5 (deflated 11%)\n",
            "  adding: data/models/1D/noise-x-train/model_best_Hist-sigma_0.13793103448275862.hdf5 (deflated 11%)\n"
          ]
        },
        {
          "output_type": "display_data",
          "data": {
            "text/plain": [
              "<IPython.core.display.Javascript object>"
            ],
            "application/javascript": [
              "\n",
              "    async function download(id, filename, size) {\n",
              "      if (!google.colab.kernel.accessAllowed) {\n",
              "        return;\n",
              "      }\n",
              "      const div = document.createElement('div');\n",
              "      const label = document.createElement('label');\n",
              "      label.textContent = `Downloading \"${filename}\": `;\n",
              "      div.appendChild(label);\n",
              "      const progress = document.createElement('progress');\n",
              "      progress.max = size;\n",
              "      div.appendChild(progress);\n",
              "      document.body.appendChild(div);\n",
              "\n",
              "      const buffers = [];\n",
              "      let downloaded = 0;\n",
              "\n",
              "      const channel = await google.colab.kernel.comms.open(id);\n",
              "      // Send a message to notify the kernel that we're ready.\n",
              "      channel.send({})\n",
              "\n",
              "      for await (const message of channel.messages) {\n",
              "        // Send a message to notify the kernel that we're ready.\n",
              "        channel.send({})\n",
              "        if (message.buffers) {\n",
              "          for (const buffer of message.buffers) {\n",
              "            buffers.push(buffer);\n",
              "            downloaded += buffer.byteLength;\n",
              "            progress.value = downloaded;\n",
              "          }\n",
              "        }\n",
              "      }\n",
              "      const blob = new Blob(buffers, {type: 'application/binary'});\n",
              "      const a = document.createElement('a');\n",
              "      a.href = window.URL.createObjectURL(blob);\n",
              "      a.download = filename;\n",
              "      div.appendChild(a);\n",
              "      a.click();\n",
              "      div.remove();\n",
              "    }\n",
              "  "
            ]
          },
          "metadata": {}
        },
        {
          "output_type": "display_data",
          "data": {
            "text/plain": [
              "<IPython.core.display.Javascript object>"
            ],
            "application/javascript": [
              "download(\"download_d199d50d-5631-49e3-8202-a9eec085d3d3\", \"models-sigma-x-train.zip\", 25255492)"
            ]
          },
          "metadata": {}
        }
      ],
      "source": [
        "!zip -r models-sigma-x-train.zip \"$datapath\"models/1D/noise-x-train/\n",
        "\n",
        "from google.colab import files\n",
        "files.download(\"models-sigma-x-train.zip\")"
      ]
    },
    {
      "cell_type": "markdown",
      "id": "4fd3c9f9",
      "metadata": {
        "id": "4fd3c9f9"
      },
      "source": [
        "## Training 2D Models <a id='1D'> </a>"
      ]
    },
    {
      "cell_type": "markdown",
      "id": "dfac7ab3",
      "metadata": {
        "id": "dfac7ab3"
      },
      "source": [
        "### Load data <a id='load'></a>"
      ]
    },
    {
      "cell_type": "markdown",
      "id": "20ffc5b5",
      "metadata": {
        "id": "20ffc5b5"
      },
      "source": [
        "#### Training data: 2D  estimation [$\\Delta$,$\\Omega$]"
      ]
    },
    {
      "cell_type": "markdown",
      "id": "20e0b7ed",
      "metadata": {
        "id": "20e0b7ed"
      },
      "source": [
        "- If this notebook is run online in Google Colab, we download the data from the online repo and the necessary src files.\n",
        "- Otherwise, we accesss to the local data in `data/training`"
      ]
    },
    {
      "cell_type": "code",
      "execution_count": 56,
      "id": "3a5ffcd0",
      "metadata": {
        "id": "3a5ffcd0"
      },
      "outputs": [],
      "source": [
        "path_tau= datapath+\"training-trajectories/2D-delta-omega/taus-2D.npy\"\n",
        "path_param= datapath+\"/training-trajectories/2D-delta-omega/param_rand_list-2D.npy\""
      ]
    },
    {
      "cell_type": "code",
      "execution_count": 57,
      "id": "a5a410c5",
      "metadata": {
        "id": "a5a410c5"
      },
      "outputs": [],
      "source": [
        "tau_list = np.load(path_tau)\n",
        "param_list = np.load(path_param)"
      ]
    },
    {
      "cell_type": "markdown",
      "id": "3a63b722",
      "metadata": {
        "id": "3a63b722"
      },
      "source": [
        "Select number of trajectories that we will use for the training"
      ]
    },
    {
      "cell_type": "code",
      "execution_count": 59,
      "id": "ef505e33",
      "metadata": {
        "id": "ef505e33"
      },
      "outputs": [],
      "source": [
        "ntraj_select = 4000\n",
        "tau_list = tau_list[:ntraj_select].astype(np.float32)\n",
        "param_list = param_list[:ntraj_select].astype(np.float32)"
      ]
    },
    {
      "cell_type": "markdown",
      "id": "2463326c",
      "metadata": {
        "id": "2463326c"
      },
      "source": [
        "- We split the data set: 80% training, 20% validation.\n",
        "\n",
        "- We do not shuffle the data since the trajectories were already generated randomly"
      ]
    },
    {
      "cell_type": "code",
      "execution_count": 60,
      "id": "d7dace8d",
      "metadata": {
        "id": "d7dace8d"
      },
      "outputs": [],
      "source": [
        "njumps = tau_list.shape[1]\n",
        "\n",
        "# Set data generated from Monte Carlo\n",
        "X_train_full, y_train_full = tau_list, param_list\n",
        "\n",
        "lenTrain=int(0.8*len(X_train_full))\n",
        "X_train, X_valid = X_train_full[:lenTrain], X_train_full[lenTrain:]\n",
        "y_train, y_valid = y_train_full[:lenTrain], y_train_full[lenTrain:]"
      ]
    },
    {
      "cell_type": "markdown",
      "id": "f9cef7ab",
      "metadata": {
        "id": "f9cef7ab"
      },
      "source": [
        "### Model: Hist-Dense Architecture"
      ]
    },
    {
      "cell_type": "code",
      "execution_count": 61,
      "id": "4562e189",
      "metadata": {
        "id": "4562e189"
      },
      "outputs": [],
      "source": [
        "from src.custom_layers import MyHistogramLayer_Sigmoid"
      ]
    },
    {
      "cell_type": "markdown",
      "id": "2a6a38a0",
      "metadata": {
        "id": "2a6a38a0"
      },
      "source": [
        "Define the model"
      ]
    },
    {
      "cell_type": "code",
      "execution_count": 62,
      "id": "14a492e3",
      "metadata": {
        "id": "14a492e3"
      },
      "outputs": [],
      "source": [
        "# Custom-made histogram function\n",
        "nbins = 700\n",
        "taumax = 100\n",
        "width = taumax/nbins\n",
        "\n",
        "def create_model_Hist2D():\n",
        "  # Set the model\n",
        "  activation = \"relu\"\n",
        "  droprate = 0\n",
        "  modelHist = keras.models.Sequential(\n",
        "  [\n",
        "  MyHistogramLayer_Sigmoid(nbins, taumax, trainable = False),\n",
        "  keras.layers.Dense(100, activation=activation),\n",
        "   keras.layers.Dropout(droprate),\n",
        "  keras.layers.Dense(50, activation=activation),\n",
        "   keras.layers.Dropout(droprate),\n",
        "     keras.layers.Dense(30, activation=activation),\n",
        "   keras.layers.Dropout(droprate),\n",
        "   keras.layers.Dense(20, activation=activation),\n",
        "   keras.layers.Dropout(droprate),\n",
        "   keras.layers.Dense(10, activation=activation),\n",
        "   keras.layers.Dropout(droprate),\n",
        "     keras.layers.Dense(2)\n",
        "   ]\n",
        "  )\n",
        "  return modelHist"
      ]
    },
    {
      "cell_type": "markdown",
      "id": "257bc1fd",
      "metadata": {
        "id": "257bc1fd"
      },
      "source": [
        "Setup training"
      ]
    },
    {
      "cell_type": "code",
      "execution_count": 63,
      "id": "10385204",
      "metadata": {
        "id": "10385204"
      },
      "outputs": [],
      "source": [
        "epochs = 1200\n",
        "epochs = 50\n",
        "batch_size = 12800\n",
        "optimizer = \"adam\"\n",
        "loss = tf.keras.losses.MeanSquaredLogarithmicError()\n",
        "metrics = [\"MeanSquaredError\"]"
      ]
    },
    {
      "cell_type": "markdown",
      "id": "8838450d",
      "metadata": {
        "id": "8838450d"
      },
      "source": [
        "Train"
      ]
    },
    {
      "cell_type": "code",
      "execution_count": 64,
      "id": "0fb7fade",
      "metadata": {
        "colab": {
          "base_uri": "https://localhost:8080/"
        },
        "id": "0fb7fade",
        "outputId": "9182f704-ec76-4eec-a0bd-0bc8e1c7b931"
      },
      "outputs": [
        {
          "output_type": "stream",
          "name": "stdout",
          "text": [
            "Epoch 1/50\n",
            "1/1 [==============================] - 4s 4s/step - loss: 1.2300 - mean_squared_error: 6.4823 - val_loss: 1.1954 - val_mean_squared_error: 6.1721\n",
            "Epoch 2/50\n",
            "1/1 [==============================] - 0s 73ms/step - loss: 1.1690 - mean_squared_error: 5.8652 - val_loss: 1.0663 - val_mean_squared_error: 5.6909\n",
            "Epoch 3/50\n",
            "1/1 [==============================] - 0s 63ms/step - loss: 1.0351 - mean_squared_error: 5.3830 - val_loss: 0.9426 - val_mean_squared_error: 5.3587\n",
            "Epoch 4/50\n",
            "1/1 [==============================] - 0s 65ms/step - loss: 0.9103 - mean_squared_error: 5.0462 - val_loss: 0.8523 - val_mean_squared_error: 5.1087\n",
            "Epoch 5/50\n",
            "1/1 [==============================] - 0s 74ms/step - loss: 0.8185 - mean_squared_error: 4.7923 - val_loss: 0.7672 - val_mean_squared_error: 4.8521\n",
            "Epoch 6/50\n",
            "1/1 [==============================] - 0s 68ms/step - loss: 0.7346 - mean_squared_error: 4.5398 - val_loss: 0.6835 - val_mean_squared_error: 4.5762\n",
            "Epoch 7/50\n",
            "1/1 [==============================] - 0s 79ms/step - loss: 0.6526 - mean_squared_error: 4.2699 - val_loss: 0.6027 - val_mean_squared_error: 4.2817\n",
            "Epoch 8/50\n",
            "1/1 [==============================] - 0s 69ms/step - loss: 0.5732 - mean_squared_error: 3.9816 - val_loss: 0.5264 - val_mean_squared_error: 3.9713\n",
            "Epoch 9/50\n",
            "1/1 [==============================] - 0s 63ms/step - loss: 0.4985 - mean_squared_error: 3.6792 - val_loss: 0.4573 - val_mean_squared_error: 3.6545\n",
            "Epoch 10/50\n",
            "1/1 [==============================] - 0s 77ms/step - loss: 0.4309 - mean_squared_error: 3.3707 - val_loss: 0.3976 - val_mean_squared_error: 3.3437\n",
            "Epoch 11/50\n",
            "1/1 [==============================] - 0s 65ms/step - loss: 0.3726 - mean_squared_error: 3.0688 - val_loss: 0.3492 - val_mean_squared_error: 3.0548\n",
            "Epoch 12/50\n",
            "1/1 [==============================] - 0s 78ms/step - loss: 0.3257 - mean_squared_error: 2.7902 - val_loss: 0.3137 - val_mean_squared_error: 2.8079\n",
            "Epoch 13/50\n",
            "1/1 [==============================] - 0s 75ms/step - loss: 0.2916 - mean_squared_error: 2.5548 - val_loss: 0.2910 - val_mean_squared_error: 2.6190\n",
            "Epoch 14/50\n",
            "1/1 [==============================] - 0s 74ms/step - loss: 0.2705 - mean_squared_error: 2.3791 - val_loss: 0.2794 - val_mean_squared_error: 2.4943\n",
            "Epoch 15/50\n",
            "1/1 [==============================] - 0s 69ms/step - loss: 0.2604 - mean_squared_error: 2.2688 - val_loss: 0.2760 - val_mean_squared_error: 2.4273\n",
            "Epoch 16/50\n",
            "1/1 [==============================] - 0s 63ms/step - loss: 0.2585 - mean_squared_error: 2.2168 - val_loss: 0.2775 - val_mean_squared_error: 2.4025\n",
            "Epoch 17/50\n",
            "1/1 [==============================] - 0s 78ms/step - loss: 0.2614 - mean_squared_error: 2.2066 - val_loss: 0.2814 - val_mean_squared_error: 2.4045\n",
            "Epoch 18/50\n",
            "1/1 [==============================] - 0s 76ms/step - loss: 0.2664 - mean_squared_error: 2.2207 - val_loss: 0.2858 - val_mean_squared_error: 2.4210\n",
            "Epoch 19/50\n",
            "1/1 [==============================] - 0s 66ms/step - loss: 0.2715 - mean_squared_error: 2.2457 - val_loss: 0.2888 - val_mean_squared_error: 2.4326\n",
            "Epoch 20/50\n",
            "1/1 [==============================] - 0s 74ms/step - loss: 0.2749 - mean_squared_error: 2.2631 - val_loss: 0.2887 - val_mean_squared_error: 2.4220\n",
            "Epoch 21/50\n",
            "1/1 [==============================] - 0s 69ms/step - loss: 0.2751 - mean_squared_error: 2.2561 - val_loss: 0.2853 - val_mean_squared_error: 2.3849\n",
            "Epoch 22/50\n",
            "1/1 [==============================] - 0s 64ms/step - loss: 0.2718 - mean_squared_error: 2.2204 - val_loss: 0.2790 - val_mean_squared_error: 2.3267\n",
            "Epoch 23/50\n",
            "1/1 [==============================] - 0s 63ms/step - loss: 0.2655 - mean_squared_error: 2.1616 - val_loss: 0.2707 - val_mean_squared_error: 2.2562\n",
            "Epoch 24/50\n",
            "1/1 [==============================] - 0s 61ms/step - loss: 0.2570 - mean_squared_error: 2.0893 - val_loss: 0.2613 - val_mean_squared_error: 2.1840\n",
            "Epoch 25/50\n",
            "1/1 [==============================] - 0s 64ms/step - loss: 0.2475 - mean_squared_error: 2.0147 - val_loss: 0.2519 - val_mean_squared_error: 2.1199\n",
            "Epoch 26/50\n",
            "1/1 [==============================] - 0s 80ms/step - loss: 0.2379 - mean_squared_error: 1.9477 - val_loss: 0.2433 - val_mean_squared_error: 2.0719\n",
            "Epoch 27/50\n",
            "1/1 [==============================] - 0s 59ms/step - loss: 0.2291 - mean_squared_error: 1.8957 - val_loss: 0.2363 - val_mean_squared_error: 2.0427\n",
            "Epoch 28/50\n",
            "1/1 [==============================] - 0s 76ms/step - loss: 0.2218 - mean_squared_error: 1.8619 - val_loss: 0.2309 - val_mean_squared_error: 2.0296\n",
            "Epoch 29/50\n",
            "1/1 [==============================] - 0s 83ms/step - loss: 0.2160 - mean_squared_error: 1.8443 - val_loss: 0.2268 - val_mean_squared_error: 2.0270\n",
            "Epoch 30/50\n",
            "1/1 [==============================] - 0s 62ms/step - loss: 0.2117 - mean_squared_error: 1.8375 - val_loss: 0.2237 - val_mean_squared_error: 2.0281\n",
            "Epoch 31/50\n",
            "1/1 [==============================] - 0s 73ms/step - loss: 0.2082 - mean_squared_error: 1.8350 - val_loss: 0.2209 - val_mean_squared_error: 2.0271\n",
            "Epoch 32/50\n",
            "1/1 [==============================] - 0s 78ms/step - loss: 0.2052 - mean_squared_error: 1.8310 - val_loss: 0.2181 - val_mean_squared_error: 2.0202\n",
            "Epoch 33/50\n",
            "1/1 [==============================] - 0s 77ms/step - loss: 0.2022 - mean_squared_error: 1.8222 - val_loss: 0.2152 - val_mean_squared_error: 2.0070\n",
            "Epoch 34/50\n",
            "1/1 [==============================] - 0s 68ms/step - loss: 0.1992 - mean_squared_error: 1.8080 - val_loss: 0.2122 - val_mean_squared_error: 1.9883\n",
            "Epoch 35/50\n",
            "1/1 [==============================] - 0s 65ms/step - loss: 0.1962 - mean_squared_error: 1.7890 - val_loss: 0.2090 - val_mean_squared_error: 1.9642\n",
            "Epoch 36/50\n",
            "1/1 [==============================] - 0s 72ms/step - loss: 0.1930 - mean_squared_error: 1.7646 - val_loss: 0.2054 - val_mean_squared_error: 1.9326\n",
            "Epoch 37/50\n",
            "1/1 [==============================] - 0s 74ms/step - loss: 0.1896 - mean_squared_error: 1.7343 - val_loss: 0.2014 - val_mean_squared_error: 1.8932\n",
            "Epoch 38/50\n",
            "1/1 [==============================] - 0s 77ms/step - loss: 0.1858 - mean_squared_error: 1.6976 - val_loss: 0.1969 - val_mean_squared_error: 1.8470\n",
            "Epoch 39/50\n",
            "1/1 [==============================] - 0s 64ms/step - loss: 0.1816 - mean_squared_error: 1.6548 - val_loss: 0.1923 - val_mean_squared_error: 1.7959\n",
            "Epoch 40/50\n",
            "1/1 [==============================] - 0s 64ms/step - loss: 0.1774 - mean_squared_error: 1.6076 - val_loss: 0.1878 - val_mean_squared_error: 1.7421\n",
            "Epoch 41/50\n",
            "1/1 [==============================] - 0s 79ms/step - loss: 0.1732 - mean_squared_error: 1.5581 - val_loss: 0.1835 - val_mean_squared_error: 1.6881\n",
            "Epoch 42/50\n",
            "1/1 [==============================] - 0s 68ms/step - loss: 0.1693 - mean_squared_error: 1.5088 - val_loss: 0.1797 - val_mean_squared_error: 1.6365\n",
            "Epoch 43/50\n",
            "1/1 [==============================] - 0s 77ms/step - loss: 0.1659 - mean_squared_error: 1.4617 - val_loss: 0.1763 - val_mean_squared_error: 1.5886\n",
            "Epoch 44/50\n",
            "1/1 [==============================] - 0s 60ms/step - loss: 0.1629 - mean_squared_error: 1.4182 - val_loss: 0.1734 - val_mean_squared_error: 1.5452\n",
            "Epoch 45/50\n",
            "1/1 [==============================] - 0s 72ms/step - loss: 0.1602 - mean_squared_error: 1.3788 - val_loss: 0.1707 - val_mean_squared_error: 1.5059\n",
            "Epoch 46/50\n",
            "1/1 [==============================] - 0s 75ms/step - loss: 0.1578 - mean_squared_error: 1.3431 - val_loss: 0.1681 - val_mean_squared_error: 1.4702\n",
            "Epoch 47/50\n",
            "1/1 [==============================] - 0s 76ms/step - loss: 0.1554 - mean_squared_error: 1.3107 - val_loss: 0.1654 - val_mean_squared_error: 1.4377\n",
            "Epoch 48/50\n",
            "1/1 [==============================] - 0s 75ms/step - loss: 0.1530 - mean_squared_error: 1.2810 - val_loss: 0.1626 - val_mean_squared_error: 1.4082\n",
            "Epoch 49/50\n",
            "1/1 [==============================] - 0s 82ms/step - loss: 0.1504 - mean_squared_error: 1.2539 - val_loss: 0.1597 - val_mean_squared_error: 1.3818\n",
            "Epoch 50/50\n",
            "1/1 [==============================] - 0s 81ms/step - loss: 0.1476 - mean_squared_error: 1.2294 - val_loss: 0.1567 - val_mean_squared_error: 1.3584\n"
          ]
        }
      ],
      "source": [
        "tf.keras.backend.clear_session()\n",
        "strategy = setup_strategy()\n",
        "\n",
        "with strategy.scope():\n",
        "  modelHist = create_model_Hist2D()\n",
        "  modelHist.compile(\n",
        "      optimizer= optimizer,\n",
        "      loss=loss,\n",
        "            metrics=[metrics]\n",
        "      )\n",
        "\n",
        "history=modelHist.fit(\n",
        "    X_train, y_train,\n",
        "    epochs=epochs,\n",
        "    batch_size = batch_size,\n",
        "    validation_data=(X_valid, y_valid))\n"
      ]
    },
    {
      "cell_type": "code",
      "execution_count": 65,
      "id": "EgRNShfIc9Yx",
      "metadata": {
        "colab": {
          "base_uri": "https://localhost:8080/",
          "height": 17
        },
        "id": "EgRNShfIc9Yx",
        "outputId": "88d78e31-6ca3-4e9e-e0d0-d32cff3b0c24"
      },
      "outputs": [
        {
          "output_type": "display_data",
          "data": {
            "text/plain": [
              "<IPython.core.display.Javascript object>"
            ],
            "application/javascript": [
              "\n",
              "    async function download(id, filename, size) {\n",
              "      if (!google.colab.kernel.accessAllowed) {\n",
              "        return;\n",
              "      }\n",
              "      const div = document.createElement('div');\n",
              "      const label = document.createElement('label');\n",
              "      label.textContent = `Downloading \"${filename}\": `;\n",
              "      div.appendChild(label);\n",
              "      const progress = document.createElement('progress');\n",
              "      progress.max = size;\n",
              "      div.appendChild(progress);\n",
              "      document.body.appendChild(div);\n",
              "\n",
              "      const buffers = [];\n",
              "      let downloaded = 0;\n",
              "\n",
              "      const channel = await google.colab.kernel.comms.open(id);\n",
              "      // Send a message to notify the kernel that we're ready.\n",
              "      channel.send({})\n",
              "\n",
              "      for await (const message of channel.messages) {\n",
              "        // Send a message to notify the kernel that we're ready.\n",
              "        channel.send({})\n",
              "        if (message.buffers) {\n",
              "          for (const buffer of message.buffers) {\n",
              "            buffers.push(buffer);\n",
              "            downloaded += buffer.byteLength;\n",
              "            progress.value = downloaded;\n",
              "          }\n",
              "        }\n",
              "      }\n",
              "      const blob = new Blob(buffers, {type: 'application/binary'});\n",
              "      const a = document.createElement('a');\n",
              "      a.href = window.URL.createObjectURL(blob);\n",
              "      a.download = filename;\n",
              "      div.appendChild(a);\n",
              "      a.click();\n",
              "      div.remove();\n",
              "    }\n",
              "  "
            ]
          },
          "metadata": {}
        },
        {
          "output_type": "display_data",
          "data": {
            "text/plain": [
              "<IPython.core.display.Javascript object>"
            ],
            "application/javascript": [
              "download(\"download_fbf52422-65fe-4698-9f75-4918160797b4\", \"model-Hist-Dense-2D.h5\", 88064)"
            ]
          },
          "metadata": {}
        }
      ],
      "source": [
        "modelTrainName = f'model-Hist-Dense-2D.h5'\n",
        "\n",
        "\n",
        "save_dir = datapath+\"models/2D/\"\n",
        "save_path = save_dir + modelTrainName\n",
        "if not os.path.exists(save_dir):\n",
        "  os.makedirs(save_dir)\n",
        "\n",
        "modelRNN.save(save_path)\n",
        "\n",
        "if isColab:\n",
        "    from google.colab import files\n",
        "    files.download(save_path)"
      ]
    }
  ],
  "metadata": {
    "accelerator": "GPU",
    "colab": {
      "gpuClass": "premium",
      "provenance": [],
      "gpuType": "V100",
      "include_colab_link": true
    },
    "kernelspec": {
      "display_name": "Python 3",
      "name": "python3"
    },
    "language_info": {
      "codemirror_mode": {
        "name": "ipython",
        "version": 3
      },
      "file_extension": ".py",
      "mimetype": "text/x-python",
      "name": "python",
      "nbconvert_exporter": "python",
      "pygments_lexer": "ipython3",
      "version": "3.9.16"
    },
    "vscode": {
      "interpreter": {
        "hash": "75aefa5846c38e7f60223833655848743344b3a73c3cb35f865bf977ed2321b0"
      }
    }
  },
  "nbformat": 4,
  "nbformat_minor": 5
}