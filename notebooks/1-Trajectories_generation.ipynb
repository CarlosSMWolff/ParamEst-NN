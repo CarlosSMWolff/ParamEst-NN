{
  "cells": [
    {
      "cell_type": "markdown",
      "id": "b536e7f9",
      "metadata": {
        "id": "b536e7f9"
      },
      "source": [
        "<a href=\"https://colab.research.google.com/github/CarlosSMWolff/ParamEst-NN/blob/main/1-Trajectories_generation.ipynb\" target=\"_parent\"><img src=\"https://colab.research.google.com/assets/colab-badge.svg\" alt=\"Open In Colab\"/></a>"
      ]
    },
    {
      "cell_type": "markdown",
      "id": "armed-characterization",
      "metadata": {
        "id": "armed-characterization"
      },
      "source": [
        "# Generation of data using Monte Carlo method of quantum trajectories"
      ]
    },
    {
      "cell_type": "markdown",
      "id": "0be10cfd",
      "metadata": {
        "id": "0be10cfd"
      },
      "source": [
        "## Goal"
      ]
    },
    {
      "cell_type": "markdown",
      "id": "60d43a9e",
      "metadata": {
        "id": "60d43a9e"
      },
      "source": [
        "In this notebook, we populate the folder `[datapath]\\training-trajectories` and  `[datapath]\\validation-trajectories` with data of photon-counting quantum trajectories simulated with Qutip.\n",
        "- Training trajectrories are used to populate the folder `[datapath]\\training-trajectories` and are used to train models based in neural networks for the problem of quantum parameter estimation.\n",
        "- Validation trajectories populate the folder `[datapath]\\trajectories\\training-trajectories` and are used to benchmark the trained models against other approaches based on Bayesian inference."
      ]
    },
    {
      "cell_type": "markdown",
      "id": "75290b01",
      "metadata": {
        "id": "75290b01"
      },
      "source": [
        "## Imports"
      ]
    },
    {
      "cell_type": "code",
      "execution_count": 2,
      "id": "68f9adab",
      "metadata": {
        "id": "68f9adab"
      },
      "outputs": [],
      "source": [
        "import numpy as np\n",
        "import matplotlib.pyplot as plt\n",
        "from numpy.random import *\n",
        "from tqdm import tqdm"
      ]
    },
    {
      "cell_type": "markdown",
      "id": "907d0493",
      "metadata": {
        "id": "907d0493"
      },
      "source": [
        "## Setup and Requirements"
      ]
    },
    {
      "cell_type": "markdown",
      "id": "e4cd4c39",
      "metadata": {
        "id": "e4cd4c39"
      },
      "source": [
        "### Colab setup"
      ]
    },
    {
      "cell_type": "markdown",
      "id": "b77c8981",
      "metadata": {
        "id": "b77c8981"
      },
      "source": [
        "If this notebook is run online in Google Colab, we:\n",
        "- Download the repository from GitHub.\n",
        "- Install the custom pacakge"
      ]
    },
    {
      "cell_type": "code",
      "execution_count": 3,
      "id": "02a6c4e3",
      "metadata": {
        "id": "02a6c4e3",
        "outputId": "fd142917-11f1-4432-ca6d-2fd1a06aa017",
        "colab": {
          "base_uri": "https://localhost:8080/"
        }
      },
      "outputs": [
        {
          "output_type": "stream",
          "name": "stdout",
          "text": [
            "We are running in Colab. Cloning repository.\n",
            "Cloning into 'ParamEst-NN'...\n",
            "remote: Enumerating objects: 201, done.\u001b[K\n",
            "remote: Counting objects: 100% (201/201), done.\u001b[K\n",
            "remote: Compressing objects: 100% (133/133), done.\u001b[K\n",
            "remote: Total 201 (delta 106), reused 138 (delta 57), pack-reused 0\u001b[K\n",
            "Receiving objects: 100% (201/201), 2.21 MiB | 21.77 MiB/s, done.\n",
            "Resolving deltas: 100% (106/106), done.\n",
            "Repository downloaded.\n",
            "Installing paramest_nn package\n",
            "  Preparing metadata (setup.py) ... \u001b[?25l\u001b[?25hdone\n",
            "\u001b[2K     \u001b[90m━━━━━━━━━━━━━━━━━━━━━━━━━━━━━━━━━━━━━━━━\u001b[0m \u001b[32m16.3/16.3 MB\u001b[0m \u001b[31m71.1 MB/s\u001b[0m eta \u001b[36m0:00:00\u001b[0m\n",
            "\u001b[2K     \u001b[90m━━━━━━━━━━━━━━━━━━━━━━━━━━━━━━━━━━━━━━━━\u001b[0m \u001b[32m1.7/1.7 MB\u001b[0m \u001b[31m75.3 MB/s\u001b[0m eta \u001b[36m0:00:00\u001b[0m\n",
            "\u001b[2K     \u001b[90m━━━━━━━━━━━━━━━━━━━━━━━━━━━━━━━━━━━━━━\u001b[0m \u001b[32m269.3/269.3 kB\u001b[0m \u001b[31m21.5 MB/s\u001b[0m eta \u001b[36m0:00:00\u001b[0m\n",
            "\u001b[2K     \u001b[90m━━━━━━━━━━━━━━━━━━━━━━━━━━━━━━━━━━━━━━━━\u001b[0m \u001b[32m88.3/88.3 kB\u001b[0m \u001b[31m9.0 MB/s\u001b[0m eta \u001b[36m0:00:00\u001b[0m\n",
            "\u001b[?25h  Preparing metadata (setup.py) ... \u001b[?25l\u001b[?25hdone\n",
            "\u001b[2K     \u001b[90m━━━━━━━━━━━━━━━━━━━━━━━━━━━━━━━━━━━━━━━━\u001b[0m \u001b[32m21.5/21.5 MB\u001b[0m \u001b[31m60.8 MB/s\u001b[0m eta \u001b[36m0:00:00\u001b[0m\n",
            "\u001b[?25h  Installing build dependencies ... \u001b[?25l\u001b[?25hdone\n",
            "  Getting requirements to build wheel ... \u001b[?25l\u001b[?25hdone\n",
            "  Installing backend dependencies ... \u001b[?25l\u001b[?25hdone\n",
            "  Preparing metadata (pyproject.toml) ... \u001b[?25l\u001b[?25hdone\n",
            "\u001b[2K     \u001b[90m━━━━━━━━━━━━━━━━━━━━━━━━━━━━━━━━━━━━━━\u001b[0m \u001b[32m121.9/121.9 kB\u001b[0m \u001b[31m12.6 MB/s\u001b[0m eta \u001b[36m0:00:00\u001b[0m\n",
            "\u001b[2K     \u001b[90m━━━━━━━━━━━━━━━━━━━━━━━━━━━━━━━━━━━━━━\u001b[0m \u001b[32m732.8/732.8 kB\u001b[0m \u001b[31m37.3 MB/s\u001b[0m eta \u001b[36m0:00:00\u001b[0m\n",
            "\u001b[2K     \u001b[90m━━━━━━━━━━━━━━━━━━━━━━━━━━━━━━━━━━━━━━━━\u001b[0m \u001b[32m45.8/45.8 kB\u001b[0m \u001b[31m4.5 MB/s\u001b[0m eta \u001b[36m0:00:00\u001b[0m\n",
            "\u001b[?25h  Preparing metadata (setup.py) ... \u001b[?25l\u001b[?25hdone\n",
            "\u001b[2K     \u001b[90m━━━━━━━━━━━━━━━━━━━━━━━━━━━━━━━━━━━━━━━━\u001b[0m \u001b[32m93.4/93.4 kB\u001b[0m \u001b[31m10.2 MB/s\u001b[0m eta \u001b[36m0:00:00\u001b[0m\n",
            "\u001b[2K     \u001b[90m━━━━━━━━━━━━━━━━━━━━━━━━━━━━━━━━━━━━━━━━\u001b[0m \u001b[32m1.6/1.6 MB\u001b[0m \u001b[31m67.7 MB/s\u001b[0m eta \u001b[36m0:00:00\u001b[0m\n",
            "\u001b[?25h  Building wheel for fire (setup.py) ... \u001b[?25l\u001b[?25hdone\n",
            "  Building wheel for ultranest (pyproject.toml) ... \u001b[?25l\u001b[?25hdone\n",
            "  Building wheel for nflows (setup.py) ... \u001b[?25l\u001b[?25hdone\n"
          ]
        }
      ],
      "source": [
        "# Find out if this notebook is running in Google Colab\n",
        "isColab= 'google.colab' in str(get_ipython())\n",
        "\n",
        "# Download repository if we are in Colab and install \"paramest_nn\" package\n",
        "if isColab:\n",
        "  print('We are running in Colab. Cloning repository.')\n",
        "  # Download the repository (necessary to access functions in /src folder)\n",
        "  ! git clone https://github.com/CarlosSMWolff/ParamEst-NN\n",
        "\n",
        "  print('Repository downloaded.')\n",
        "  ! mv ParamEst-NN/* . && rm -r ParamEst-NN\n",
        "\n",
        "  print('Installing paramest_nn package')\n",
        "  ! pip install -q -e ."
      ]
    },
    {
      "cell_type": "markdown",
      "id": "1dfe9686",
      "metadata": {
        "id": "1dfe9686"
      },
      "source": [
        "### Import custom packages + Qutip"
      ]
    },
    {
      "cell_type": "code",
      "execution_count": 4,
      "id": "e7e8e4bd",
      "metadata": {
        "id": "e7e8e4bd"
      },
      "outputs": [],
      "source": [
        "from paramest_nn.quantum_tools import *\n",
        "from qutip import *"
      ]
    },
    {
      "cell_type": "markdown",
      "id": "33dc492b",
      "metadata": {
        "id": "33dc492b"
      },
      "source": [
        "### Data path"
      ]
    },
    {
      "cell_type": "code",
      "execution_count": 5,
      "id": "81c877a8",
      "metadata": {
        "id": "81c877a8"
      },
      "outputs": [],
      "source": [
        "# specify the data path\n",
        "datapath = '../data/'\n",
        "\n",
        "# if running in Colab, remove the \"../\"\n",
        "if isColab:\n",
        "    datapath = datapath.split(\"../\")[1]"
      ]
    },
    {
      "cell_type": "markdown",
      "id": "3671f40a",
      "metadata": {
        "id": "3671f40a"
      },
      "source": [
        "Create data folder in the datapath if not already present"
      ]
    },
    {
      "cell_type": "code",
      "execution_count": 6,
      "id": "be0050cd",
      "metadata": {
        "id": "be0050cd",
        "outputId": "554638e2-3c46-432c-f366-81ba7b5b1a39",
        "colab": {
          "base_uri": "https://localhost:8080/"
        }
      },
      "outputs": [
        {
          "output_type": "stream",
          "name": "stdout",
          "text": [
            "Directory data/ not found: creating...\n"
          ]
        }
      ],
      "source": [
        "create_directory(datapath)"
      ]
    },
    {
      "cell_type": "markdown",
      "id": "d446a09f",
      "metadata": {
        "id": "d446a09f"
      },
      "source": [
        "### Number of CPUs (Qutip)"
      ]
    },
    {
      "cell_type": "markdown",
      "id": "81e0ca0b",
      "metadata": {
        "id": "81e0ca0b"
      },
      "source": [
        "In order to benefit from parallelization, we set up the number of available CPUs for Qutip to use"
      ]
    },
    {
      "cell_type": "code",
      "execution_count": 7,
      "id": "e18f68e3",
      "metadata": {
        "colab": {
          "base_uri": "https://localhost:8080/"
        },
        "id": "e18f68e3",
        "outputId": "a37a8830-2887-4c7f-d33f-c28500b68b60"
      },
      "outputs": [
        {
          "output_type": "stream",
          "name": "stdout",
          "text": [
            "Number of CPUs available for Qutip: 1\n"
          ]
        }
      ],
      "source": [
        "import multiprocessing\n",
        "num_cpus = multiprocessing.cpu_count()\n",
        "\n",
        "# We set the maximum number of cpus available to Qutip as the total number-1\n",
        "max_cpus=num_cpus-1\n",
        "qutip.settings.num_cpus = max_cpus\n",
        "print(f\"Number of CPUs available for Qutip: {max_cpus}\")"
      ]
    },
    {
      "cell_type": "markdown",
      "id": "behavioral-spice",
      "metadata": {
        "id": "behavioral-spice"
      },
      "source": [
        "## Generation of training data for 1D case (estimation of $\\Delta$)"
      ]
    },
    {
      "cell_type": "markdown",
      "id": "525e2d7b",
      "metadata": {
        "id": "525e2d7b"
      },
      "source": [
        "Set up parameter to create the model of the system in Qutip"
      ]
    },
    {
      "cell_type": "code",
      "execution_count": 8,
      "id": "2c8f2917",
      "metadata": {
        "id": "2c8f2917"
      },
      "outputs": [],
      "source": [
        "N=2\n",
        "omega=1\n",
        "gamma=1"
      ]
    },
    {
      "cell_type": "markdown",
      "id": "be181900",
      "metadata": {
        "id": "be181900"
      },
      "source": [
        "- I will generate randomly the parameters, and only one trajectory per parameter, in order to avoid any weird information leaking.\n",
        "- Number of clicks per trajectory: `njumpsMC`\n",
        "- Total number of trajectories generated for training: `ndeltas`"
      ]
    },
    {
      "cell_type": "code",
      "execution_count": null,
      "id": "c1b402ca",
      "metadata": {
        "id": "c1b402ca"
      },
      "outputs": [],
      "source": [
        "# Number of clicks per trajectory\n",
        "njumpsMC=48\n",
        "\n",
        "# Number of total trajectories to generate\n",
        "ndeltas = 4000000\n",
        "\n",
        "# Generation of a list of random values of Delta\n",
        "deltamin = 0\n",
        "deltamax = 5.\n",
        "delta_rand_list = deltamin + (deltamax-deltamin)*rand(ndeltas)\n",
        "omega_list = omega*np.ones(ndeltas)\n",
        "\n",
        "param_rand_list = list(zip(delta_rand_list,omega_list))"
      ]
    },
    {
      "cell_type": "code",
      "execution_count": null,
      "id": "8fcdbaa0",
      "metadata": {
        "colab": {
          "base_uri": "https://localhost:8080/"
        },
        "id": "8fcdbaa0",
        "outputId": "2d48a4c5-d6d2-46cd-fe9f-1ef7e2b9b61d"
      },
      "outputs": [
        {
          "name": "stdout",
          "output_type": "stream",
          "text": [
            "10.0%. Run time:   2.95s. Est. time left: 00:00:00:26\n",
            "20.0%. Run time:   4.50s. Est. time left: 00:00:00:17\n",
            "30.0%. Run time:   5.74s. Est. time left: 00:00:00:13\n",
            "40.0%. Run time:   8.95s. Est. time left: 00:00:00:13\n",
            "50.0%. Run time:  11.85s. Est. time left: 00:00:00:11\n",
            "60.0%. Run time:  16.08s. Est. time left: 00:00:00:10\n",
            "70.0%. Run time:  18.82s. Est. time left: 00:00:00:08\n",
            "80.0%. Run time:  19.92s. Est. time left: 00:00:00:04\n",
            "90.0%. Run time:  20.89s. Est. time left: 00:00:00:02\n",
            "100.0%. Run time:  21.26s. Est. time left: 00:00:00:00\n",
            "Total run time:  21.27s\n"
          ]
        }
      ],
      "source": [
        "trajectories = np.asarray(parallel_map(generate_clicks_TLS, param_rand_list, task_kwargs=dict(njumpsMC = njumpsMC, gamma=gamma), progress_bar = True))"
      ]
    },
    {
      "cell_type": "markdown",
      "id": "d7b1fd1a",
      "metadata": {
        "id": "d7b1fd1a"
      },
      "source": [
        "The trajectories created have the form of time delays"
      ]
    },
    {
      "cell_type": "code",
      "execution_count": null,
      "id": "62edefec",
      "metadata": {
        "colab": {
          "base_uri": "https://localhost:8080/"
        },
        "id": "62edefec",
        "outputId": "5cdb7f80-4e70-4a8a-953a-3705324a9e65"
      },
      "outputs": [
        {
          "data": {
            "text/plain": [
              "(40, 48)"
            ]
          },
          "execution_count": 21,
          "metadata": {},
          "output_type": "execute_result"
        }
      ],
      "source": [
        "trajectories.shape"
      ]
    },
    {
      "cell_type": "code",
      "execution_count": null,
      "id": "24eee2be",
      "metadata": {
        "colab": {
          "base_uri": "https://localhost:8080/"
        },
        "id": "24eee2be",
        "outputId": "a9c842ff-556c-4d6a-c9f0-0a06334df13b"
      },
      "outputs": [
        {
          "data": {
            "text/plain": [
              "array([ 4.43402513,  2.3886161 ,  4.8817266 ,  0.62577689, 37.68466402,\n",
              "       10.84851649,  0.63805102,  2.58503013,  5.38243978,  6.32973579,\n",
              "       18.25509825, 16.83327603, 40.60946179, 15.65403671, 10.2685811 ,\n",
              "       19.52126509,  0.80203617,  2.49113429, 40.8429149 ,  3.93519161,\n",
              "       27.72043287, 12.32049623,  6.56572356,  9.48338546,  0.82344364,\n",
              "        0.8083468 , 20.93628793, 48.41338955, 11.07159081,  6.26323702,\n",
              "        4.53217603, 10.66269477, 41.18669043,  0.30280435,  7.61444605,\n",
              "       73.31877339,  9.75086728, 39.6282455 , 25.9679248 ,  8.50707961,\n",
              "        2.05307298, 24.72837637, 28.57366745, 10.25831667, 18.74943281,\n",
              "       11.6136214 ,  9.76640426,  0.85582315])"
            ]
          },
          "execution_count": 22,
          "metadata": {},
          "output_type": "execute_result"
        }
      ],
      "source": [
        "trajectories[0]"
      ]
    },
    {
      "cell_type": "markdown",
      "id": "df702011",
      "metadata": {
        "id": "df702011"
      },
      "source": [
        "Save the trajetories into the `[datapath]/training-trajectories/1D-delta` folder"
      ]
    },
    {
      "cell_type": "code",
      "execution_count": null,
      "id": "3e0efc30",
      "metadata": {
        "colab": {
          "base_uri": "https://localhost:8080/"
        },
        "id": "3e0efc30",
        "outputId": "a68e5621-ac8e-4741-e425-04abd0642064"
      },
      "outputs": [
        {
          "name": "stdout",
          "output_type": "stream",
          "text": [
            "Directory data/training-trajectories/1D-delta/ not found: creating...\n"
          ]
        }
      ],
      "source": [
        "filedir = datapath+'training-trajectories/1D-delta/'\n",
        "create_directory(filedir)\n",
        "\n",
        "filename = filedir+'taus-Delta-1D'\n",
        "filenameDeltas = filedir+'delta_rand_list-Delta-1D'\n",
        "\n",
        "np.save(filename,trajectories)\n",
        "np.save(filenameDeltas,delta_rand_list)"
      ]
    },
    {
      "cell_type": "markdown",
      "id": "7fe828c6",
      "metadata": {
        "id": "7fe828c6"
      },
      "source": [
        "## Generation of training data for 2D case (estimation of $\\Delta$ and $\\Omega$)"
      ]
    },
    {
      "cell_type": "markdown",
      "id": "794c59d8",
      "metadata": {
        "id": "794c59d8"
      },
      "source": [
        "We sample the parameters randomly, and create only one trajectory per parameter"
      ]
    },
    {
      "cell_type": "code",
      "execution_count": null,
      "id": "547632c1",
      "metadata": {
        "id": "547632c1"
      },
      "outputs": [],
      "source": [
        "nparams = 4000000\n",
        "\n",
        "deltamin = 0.\n",
        "deltamax = 3.\n",
        "\n",
        "omegamin =0.25\n",
        "omegamax = 5.\n",
        "\n",
        "omega_rand_list = omegamin + (omegamax-omegamin)*rand(nparams)\n",
        "delta_rand_list = deltamin + (deltamax-deltamin)*rand(nparams)"
      ]
    },
    {
      "cell_type": "code",
      "execution_count": null,
      "id": "d15a9018",
      "metadata": {
        "id": "d15a9018"
      },
      "outputs": [],
      "source": [
        "param_rand_list = list(zip(delta_rand_list,omega_rand_list))\n",
        "param_rand_array = np.array(param_rand_list)"
      ]
    },
    {
      "cell_type": "markdown",
      "id": "ba1a10c7",
      "metadata": {
        "id": "ba1a10c7"
      },
      "source": [
        "Visualization of the distribution of parameters sampled for training"
      ]
    },
    {
      "cell_type": "code",
      "execution_count": null,
      "id": "85f6195f",
      "metadata": {
        "colab": {
          "base_uri": "https://localhost:8080/",
          "height": 449
        },
        "id": "85f6195f",
        "outputId": "10b2fe85-8f51-4197-bf70-e347030c32d5"
      },
      "outputs": [
        {
          "data": {
            "image/png": "[encoded data removed]",
            "text/plain": [
              "<Figure size 640x480 with 1 Axes>"
            ]
          },
          "metadata": {},
          "output_type": "display_data"
        }
      ],
      "source": [
        "plt.hexbin(delta_rand_list,omega_rand_list)\n",
        "plt.xlabel('$\\Delta$'); plt.ylabel('$\\Omega$')\n",
        "plt.show()"
      ]
    },
    {
      "cell_type": "code",
      "execution_count": null,
      "id": "a9c01db1",
      "metadata": {
        "colab": {
          "base_uri": "https://localhost:8080/"
        },
        "id": "a9c01db1",
        "outputId": "86a4040a-a909-4c34-8474-c22f30b05117"
      },
      "outputs": [
        {
          "name": "stdout",
          "output_type": "stream",
          "text": [
            "10.0%. Run time:   1.20s. Est. time left: 00:00:00:10\n",
            "20.0%. Run time:   3.36s. Est. time left: 00:00:00:13\n",
            "30.0%. Run time:   4.63s. Est. time left: 00:00:00:10\n",
            "40.0%. Run time:   5.79s. Est. time left: 00:00:00:08\n",
            "50.0%. Run time:   6.28s. Est. time left: 00:00:00:06\n",
            "60.0%. Run time:   6.69s. Est. time left: 00:00:00:04\n",
            "70.0%. Run time:   8.00s. Est. time left: 00:00:00:03\n",
            "80.0%. Run time:   8.57s. Est. time left: 00:00:00:02\n",
            "90.0%. Run time:   9.18s. Est. time left: 00:00:00:01\n",
            "100.0%. Run time:   9.77s. Est. time left: 00:00:00:00\n",
            "Total run time:   9.78s\n"
          ]
        }
      ],
      "source": [
        "trajectories = np.array(parallel_map(generate_clicks_TLS, param_rand_list,num_processes=19, progress_bar = True))"
      ]
    },
    {
      "cell_type": "markdown",
      "id": "aed14e81",
      "metadata": {
        "id": "aed14e81"
      },
      "source": [
        "Save the trajetories into the `data/training/2D-delta-omega` folder"
      ]
    },
    {
      "cell_type": "code",
      "execution_count": null,
      "id": "728812bc",
      "metadata": {
        "colab": {
          "base_uri": "https://localhost:8080/"
        },
        "id": "728812bc",
        "outputId": "6cd4dabe-a3d7-4ada-acbb-76c23720b4bd"
      },
      "outputs": [
        {
          "name": "stdout",
          "output_type": "stream",
          "text": [
            "Directory data/training-trajectories/2D-delta-omega/ not found: creating...\n"
          ]
        }
      ],
      "source": [
        "# Save files to disk\n",
        "\n",
        "filedir = datapath+'training-trajectories/2D-delta-omega/'\n",
        "create_directory(filedir)\n",
        "\n",
        "filename = filedir+'taus2D'\n",
        "filenameParams = filedir+'param_rand_list-2D'\n",
        "\n",
        "np.save(filename,trajectories)\n",
        "np.save(filenameParams,param_rand_array)"
      ]
    },
    {
      "cell_type": "markdown",
      "id": "ea675c2e",
      "metadata": {
        "id": "ea675c2e"
      },
      "source": [
        "## Generation of validation clicks for 1D case"
      ]
    },
    {
      "cell_type": "markdown",
      "id": "c8f04d75",
      "metadata": {
        "id": "c8f04d75"
      },
      "source": [
        "Setup Qutip operators"
      ]
    },
    {
      "cell_type": "code",
      "execution_count": null,
      "id": "77f08484",
      "metadata": {
        "id": "77f08484"
      },
      "outputs": [],
      "source": [
        "N=2\n",
        "a=destroy(N)\n",
        "psi0=basis(N,0)\n",
        "c_ops=[]\n",
        "gamma=1\n",
        "c_ops.append(np.sqrt(gamma)*a)"
      ]
    },
    {
      "cell_type": "markdown",
      "id": "67072322",
      "metadata": {
        "id": "67072322"
      },
      "source": [
        "\n",
        "Notice that for the validation, we will generate many trajectories for the same value of the parameter, unlike in the training data.\n",
        "\n",
        "- Number of points in the grid of $\\Delta$ values considered for the validation: `ndelta`\n",
        "\n",
        "- Number of trajectories for each value of the grid of parameters: `ntraj`\n",
        "\n"
      ]
    },
    {
      "cell_type": "code",
      "execution_count": null,
      "id": "b01dec67",
      "metadata": {
        "id": "b01dec67"
      },
      "outputs": [],
      "source": [
        "ndelta = 40\n",
        "ntraj = 10000\n",
        "\n",
        "omega=1\n",
        "deltaMax = 2.1\n",
        "t0=0\n",
        "\n",
        "njumpsMC=48 # to keep\n",
        "njumpsSim = 60 # to actually run, we choose much larger than the number of clicks we plan to keep\n",
        "\n",
        "deltagrid = np.linspace(0.,deltaMax,ndelta)\n",
        "jumpArray = np.zeros((ndelta,ntraj,njumpsMC))"
      ]
    },
    {
      "cell_type": "code",
      "execution_count": null,
      "id": "57771ece",
      "metadata": {
        "colab": {
          "base_uri": "https://localhost:8080/"
        },
        "id": "57771ece",
        "outputId": "ededacfc-f37e-4eb7-88b6-f21a045ec602"
      },
      "outputs": [
        {
          "name": "stderr",
          "output_type": "stream",
          "text": [
            "100%|██████████| 40/40 [00:30<00:00,  1.33it/s]\n"
          ]
        }
      ],
      "source": [
        "for idx_delta in tqdm(range(ndelta)):\n",
        "    delta = deltagrid[idx_delta]\n",
        "    # Estimate the final time to have, on average, njumpsSim jumps\n",
        "    tf=njumpsSim*(4*delta**2+8*omega**2+gamma**2)/(4*gamma*omega**2)\n",
        "    H=delta*a.dag()*a+omega*a+omega*a.dag()\n",
        "    tlist=[t0,tf] #\n",
        "\n",
        "    ntrajRemaining = ntraj\n",
        "    jumpList = []\n",
        "    trajs_to_complete = [[] for i in range(ntraj)]\n",
        "    trajs_completed   = []\n",
        "\n",
        "    while ntrajRemaining > 0:\n",
        "        mc=mcsolve(H,psi0,tlist,c_ops,[],ntrajRemaining,progress_bar=False)\n",
        "        time_array = mc.col_times\n",
        "\n",
        "        # Append the results into the trajectories in trajs_to_complete\n",
        "        # WARNING: Appending different trajectories into a single one is only valid for the TLS, which gets reseted after each jump\n",
        "        for idx, times in enumerate(time_array):\n",
        "            trajs_to_complete[idx]+= list(to_time_delay(times))\n",
        "\n",
        "        sizes = np.array([len(traj) for traj in trajs_to_complete])\n",
        "        good_indexes = np.arange(ntrajRemaining)[sizes>=njumpsMC]\n",
        "        bad_indexes = np.arange(ntrajRemaining)[sizes<njumpsMC]\n",
        "        n_good_traj = len(good_indexes)\n",
        "        ntrajRemaining = ntrajRemaining - n_good_traj\n",
        "\n",
        "        # Trajectories with njumpsMC jumps are moved into trajs_completed\n",
        "        for idx in good_indexes:\n",
        "            trajs_completed += [trajs_to_complete[idx][:njumpsMC]]\n",
        "\n",
        "        # Remove completed trajectory from trajs_to_complete\n",
        "        trajs_to_complete = [trajs_to_complete[idx] for idx in bad_indexes]\n",
        "\n",
        "\n",
        "    jumpArray[idx_delta,:,:] = np.asarray(trajs_completed)"
      ]
    },
    {
      "cell_type": "code",
      "execution_count": null,
      "id": "8057cc58",
      "metadata": {
        "colab": {
          "base_uri": "https://localhost:8080/"
        },
        "id": "8057cc58",
        "outputId": "d6d0b419-e357-445f-8770-1f1943ecc810"
      },
      "outputs": [
        {
          "name": "stdout",
          "output_type": "stream",
          "text": [
            "Directory data/validation-trajectories/1D-delta/ not found: creating...\n"
          ]
        }
      ],
      "source": [
        "filedir = datapath+'validation-trajectories/1D-delta/'\n",
        "create_directory(filedir)\n",
        "\n",
        "filenameJumps = filedir+f'validation-trajectories-1D-delta-nsets-{ntraj}'\n",
        "filenameParams = filedir+f'validation-deltas-1D-delta-nsets-{ntraj}'\n",
        "\n",
        "np.save(filenameJumps,jumpArray)\n",
        "np.save(filenameParams,deltagrid)"
      ]
    },
    {
      "cell_type": "markdown",
      "id": "960930a3",
      "metadata": {
        "id": "960930a3"
      },
      "source": [
        "## Generation of validation clicks for 2D case"
      ]
    },
    {
      "cell_type": "markdown",
      "id": "ca19c20e",
      "metadata": {
        "id": "ca19c20e"
      },
      "source": [
        "Setup Qutip operators"
      ]
    },
    {
      "cell_type": "code",
      "execution_count": null,
      "id": "f8796b1c",
      "metadata": {
        "id": "f8796b1c"
      },
      "outputs": [],
      "source": [
        "N=2\n",
        "a=destroy(N)\n",
        "psi0=basis(N,0)\n",
        "c_ops=[]\n",
        "gamma=1\n",
        "c_ops.append(np.sqrt(gamma)*a)"
      ]
    },
    {
      "cell_type": "markdown",
      "id": "5749662e",
      "metadata": {
        "id": "5749662e"
      },
      "source": [
        "\n",
        "Notice that for the validation, we will generate many trajectories for the same value of the parameter pairs, unlike in the training data.\n",
        "\n",
        "- Number of points in the grid of $\\Delta$ values considered for the validation: `ndelta`\n",
        "- Number of points in the grid of $\\Omega$ values considered for the validation: `nomega`\n",
        "- Number of trajectories for each value of the square grid of parameters: `ntraj`\n",
        "\n"
      ]
    },
    {
      "cell_type": "code",
      "execution_count": null,
      "id": "e33548a2",
      "metadata": {
        "id": "e33548a2"
      },
      "outputs": [],
      "source": [
        "ndelta = 40\n",
        "nomega = 40\n",
        "\n",
        "ntraj = 10000\n",
        "deltamin = 0.\n",
        "deltamax = 2.1\n",
        "\n",
        "omegamin =0.25\n",
        "omegamax = 2.1\n",
        "\n",
        "njumpsMC=48 # to keep\n",
        "njumpsSim = 60 # to actually run, we choose much larger than the number of clicks we plan to keep\n",
        "\n",
        "\n",
        "deltagrid = np.linspace(deltamin,deltamax,ndelta)\n",
        "omegagrid = np.linspace(omegamin,omegamax,nomega)\n",
        "\n",
        "def gen_param_list(array1,array2):\n",
        "    return np.array(np.meshgrid(array1,array2)).T.reshape(-1,2)\n",
        "\n",
        "param_grid = gen_param_list(deltagrid,omegagrid)\n",
        "nparams = ndelta*nomega\n",
        "\n",
        "jumpArray = np.zeros((nparams,ntraj,njumpsMC))"
      ]
    },
    {
      "cell_type": "code",
      "execution_count": null,
      "id": "3ee69821",
      "metadata": {
        "colab": {
          "base_uri": "https://localhost:8080/"
        },
        "id": "3ee69821",
        "outputId": "a700ec84-47df-4b9a-c1af-99391d1d5cca"
      },
      "outputs": [
        {
          "name": "stderr",
          "output_type": "stream",
          "text": [
            "100%|██████████| 1600/1600 [02:34<00:00, 10.37it/s]\n"
          ]
        }
      ],
      "source": [
        "for idx_param in tqdm(range(nparams)):\n",
        "    delta = param_grid[idx_param][0]\n",
        "    omega = param_grid[idx_param][1]\n",
        "    tf=njumpsSim*(4*delta**2+8*omega**2+gamma**2)/(4*gamma*omega**2)\n",
        "    H=delta*a.dag()*a+omega*a+omega*a.dag()\n",
        "    tlist=[0.,tf] #\n",
        "\n",
        "    ntrajRemaining = ntraj\n",
        "    jumpList = []\n",
        "    trajs_to_complete = [[] for i in range(ntraj)]\n",
        "    trajs_completed   = []\n",
        "\n",
        "    while ntrajRemaining > 0:\n",
        "        mc=mcsolve(H,psi0,tlist,c_ops,[],ntrajRemaining,progress_bar=False)\n",
        "        time_array = mc.col_times\n",
        "\n",
        "        # Append the results into the trajectories in trajs_to_complete\n",
        "        # WARNING: Appending different trajectories into a single one is only valid for the TLS, which gets reseted after each jump\n",
        "        for idx, times in enumerate(time_array):\n",
        "            trajs_to_complete[idx]+= list(to_time_delay(times))\n",
        "\n",
        "        sizes = np.array([len(traj) for traj in trajs_to_complete])\n",
        "        good_indexes = np.arange(ntrajRemaining)[sizes>=njumpsMC]\n",
        "        bad_indexes = np.arange(ntrajRemaining)[sizes<njumpsMC]\n",
        "        n_good_traj = len(good_indexes)\n",
        "        ntrajRemaining = ntrajRemaining - n_good_traj\n",
        "\n",
        "        # Trajectories with njumpsMC jumps are moved into trajs_completed\n",
        "        for idx in good_indexes:\n",
        "            trajs_completed += [trajs_to_complete[idx][:njumpsMC]]\n",
        "\n",
        "        # Remove completed trajectory from trajs_to_complete\n",
        "        trajs_to_complete = [trajs_to_complete[idx] for idx in bad_indexes]\n",
        "\n",
        "\n",
        "    jumpArray[idx_param,:,:] = np.asarray(trajs_completed)"
      ]
    },
    {
      "cell_type": "code",
      "execution_count": null,
      "id": "7a686fb1",
      "metadata": {
        "colab": {
          "base_uri": "https://localhost:8080/"
        },
        "id": "7a686fb1",
        "outputId": "152d4b50-8ffd-4735-cfa3-f8348502819b"
      },
      "outputs": [
        {
          "name": "stdout",
          "output_type": "stream",
          "text": [
            "Directory data/validation-trajectories/2D-delta-omega/ not found: creating...\n"
          ]
        }
      ],
      "source": [
        "filedir = datapath+'validation-trajectories/2D-delta-omega/'\n",
        "create_directory(filedir)\n",
        "\n",
        "filenameJumps = filedir+f'validation-trajectories-2D-delta-omega-nsets-{ntraj}'\n",
        "filenameParams = filedir+f'validation-deltas-2D-delta-omega-nsets-{ntraj}'\n",
        "\n",
        "np.save(filenameJumps,jumpArray)\n",
        "np.save(filenameParams,param_grid)"
      ]
    },
    {
      "cell_type": "markdown",
      "id": "6f0a3c50",
      "metadata": {
        "id": "6f0a3c50"
      },
      "source": [
        "Given the high volume of trajectories, subsequent analysis can benefit from a splitted dataset.\n",
        "\n",
        "Here, we split the datasets in 10 batches"
      ]
    },
    {
      "cell_type": "code",
      "execution_count": null,
      "id": "b6cf106d",
      "metadata": {
        "id": "b6cf106d"
      },
      "outputs": [],
      "source": [
        "nbatches = 10\n",
        "ntraj_per_batch = int(ntraj/nbatches)"
      ]
    },
    {
      "cell_type": "code",
      "execution_count": null,
      "id": "d22e02b8",
      "metadata": {
        "id": "d22e02b8"
      },
      "outputs": [],
      "source": [
        "jumpArray2 = np.reshape(jumpArray,(1600,nbatches,ntraj_per_batch,48))"
      ]
    },
    {
      "cell_type": "code",
      "execution_count": null,
      "id": "c3b93627",
      "metadata": {
        "id": "c3b93627"
      },
      "outputs": [],
      "source": [
        "for i in range(nbatches):\n",
        "    np.save(filedir+f\"validation-trajectories-10ktrajs-batch-{i}.npy\",jumpArray2[:,i,:,:])"
      ]
    }
  ],
  "metadata": {
    "colab": {
      "provenance": []
    },
    "kernelspec": {
      "display_name": "Python 3",
      "name": "python3"
    },
    "language_info": {
      "codemirror_mode": {
        "name": "ipython",
        "version": 3
      },
      "file_extension": ".py",
      "mimetype": "text/x-python",
      "name": "python",
      "nbconvert_exporter": "python",
      "pygments_lexer": "ipython3",
      "version": "3.9.16"
    },
    "vscode": {
      "interpreter": {
        "hash": "b68a6f85bcbc04633b7b962edcf9ea7bb288bc87794cf93dbb5a87b5dde368c4"
      }
    }
  },
  "nbformat": 4,
  "nbformat_minor": 5
}