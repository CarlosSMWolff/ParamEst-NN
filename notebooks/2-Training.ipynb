{
  "cells": [
    {
      "cell_type": "markdown",
      "metadata": {
        "colab_type": "text",
        "id": "view-in-github"
      },
      "source": [
        "<a href=\"https://colab.research.google.com/github/CarlosSMWolff/ParamEst-NN/blob/main/notebooks/2-Training.ipynb\" target=\"_parent\"><img src=\"https://colab.research.google.com/assets/colab-badge.svg\" alt=\"Open In Colab\"/></a>"
      ]
    },
    {
      "cell_type": "markdown",
      "id": "8537ee71",
      "metadata": {
        "id": "8537ee71"
      },
      "source": [
        "# Training of Neural Networks"
      ]
    },
    {
      "cell_type": "markdown",
      "id": "1401c37c",
      "metadata": {
        "id": "1401c37c"
      },
      "source": [
        "##  Goal"
      ]
    },
    {
      "cell_type": "markdown",
      "id": "9b620be7",
      "metadata": {
        "id": "9b620be7"
      },
      "source": [
        "In this notebook, we train neural networks (NNs) on simulated photon-counting data for the task of parameter estimation.\n",
        "\n",
        "This notebook requires a populated `[datapath]\\training-trajectories` folder, and will populate a `[datapath]\\models` folder.\n",
        "\n",
        "\n",
        "Each row in the training data $x$ consists on lists of time delays between photo-detection events of the form $D=[\\tau_1,\\ldots,\\tau_N]$.\n",
        "\n",
        "The target data $y$ consist of the true values of the parameters to be estimated (i.e., the parameters used to simulate the photon-counting data).\n",
        "\n",
        "This corresponds to $\\Delta$ in the 1D parameter estimation case, or a vector with the values $[\\Delta,\\Omega]$ in the 2D parameter estimation case."
      ]
    },
    {
      "cell_type": "markdown",
      "id": "X_APxnGME3yW",
      "metadata": {
        "id": "X_APxnGME3yW"
      },
      "source": [
        "## Imports"
      ]
    },
    {
      "cell_type": "code",
      "execution_count": 2,
      "id": "Tx8wA3ZVE6Ob",
      "metadata": {
        "id": "Tx8wA3ZVE6Ob"
      },
      "outputs": [],
      "source": [
        "import tensorflow as tf\n",
        "from tensorflow import keras\n",
        "import matplotlib.pyplot as plt\n",
        "import pandas as pd\n",
        "import numpy as np\n",
        "from random import *\n",
        "\n",
        "from tqdm import tqdm\n",
        "from tqdm.keras import TqdmCallback\n",
        "\n",
        "# Find out if this notebook is running in Google Colab\n",
        "isColab= 'google.colab' in str(get_ipython())\n",
        "if isColab:\n",
        "  from google.colab import files\n",
        "\n",
        "# We fix the random seed to ensure reproducibility\n",
        "\n",
        "my_seed_number = 42\n",
        "# Set the random seed for TensorFlow\n",
        "tf.random.set_seed(my_seed_number)\n",
        "\n",
        "# Set the random seed for NumPy (used by TensorFlow for certain operations)\n",
        "np.random.seed(my_seed_number)"
      ]
    },
    {
      "cell_type": "markdown",
      "id": "108b21b1",
      "metadata": {
        "id": "108b21b1"
      },
      "source": [
        "## Setup and requirements"
      ]
    },
    {
      "cell_type": "markdown",
      "id": "327c02cb",
      "metadata": {
        "id": "327c02cb"
      },
      "source": [
        "### Colab setup"
      ]
    },
    {
      "cell_type": "markdown",
      "id": "03f3cb5b",
      "metadata": {
        "id": "03f3cb5b"
      },
      "source": [
        "If this notebook is run online in Google Colab, we:\n",
        "- Download the repository from GitHub.\n",
        "- Install the custom pacakge"
      ]
    },
    {
      "cell_type": "code",
      "execution_count": null,
      "id": "17b3eec6",
      "metadata": {
        "colab": {
          "base_uri": "https://localhost:8080/"
        },
        "id": "17b3eec6",
        "outputId": "4509c94b-cdfb-4c09-cbc0-93ef64fdd804"
      },
      "outputs": [],
      "source": [
        "# Find out if this notebook is running in Google Colab\n",
        "isColab= 'google.colab' in str(get_ipython())\n",
        "\n",
        "# Download repository if we are in Colab and install \"paramest_nn\" package\n",
        "if isColab:\n",
        "  print('We are running in Colab. Cloning repository.')\n",
        "  # Download the repository (necessary to access functions in /src folder)\n",
        "  ! git clone https://github.com/CarlosSMWolff/ParamEst-NN\n",
        "\n",
        "  print('Repository downloaded.')\n",
        "  ! mv ParamEst-NN/* . && rm -r ParamEst-NN\n",
        "\n",
        "  print('Installing paramest_nn package')\n",
        "  ! pip install -e ."
      ]
    },
    {
      "cell_type": "markdown",
      "id": "3c0d7b36",
      "metadata": {
        "id": "3c0d7b36"
      },
      "source": [
        "### Import custom packages"
      ]
    },
    {
      "cell_type": "code",
      "execution_count": 4,
      "id": "8a4ab01e",
      "metadata": {
        "id": "8a4ab01e"
      },
      "outputs": [],
      "source": [
        "from paramest_nn.quantum_tools import *"
      ]
    },
    {
      "cell_type": "markdown",
      "id": "2Vh45Yqv2aoG",
      "metadata": {
        "id": "2Vh45Yqv2aoG"
      },
      "source": [
        "### Data path"
      ]
    },
    {
      "cell_type": "code",
      "execution_count": 5,
      "id": "9-K-U6Y42chF",
      "metadata": {
        "id": "9-K-U6Y42chF"
      },
      "outputs": [],
      "source": [
        "# specify the data path\n",
        "datapath = '../data/'\n",
        "\n",
        "# if running in Colab, remove the \"../\"\n",
        "if isColab:\n",
        "    datapath = datapath.split(\"../\")[1]"
      ]
    },
    {
      "cell_type": "markdown",
      "id": "yz-z6KA_3fvG",
      "metadata": {
        "id": "yz-z6KA_3fvG"
      },
      "source": [
        "Create data folder in the datapath if not already present"
      ]
    },
    {
      "cell_type": "code",
      "execution_count": null,
      "id": "6sdFul0m3eUp",
      "metadata": {
        "colab": {
          "base_uri": "https://localhost:8080/"
        },
        "id": "6sdFul0m3eUp",
        "outputId": "be02c4ef-4ce5-4c41-d892-f5e17aebf22a"
      },
      "outputs": [],
      "source": [
        "create_directory(datapath)"
      ]
    },
    {
      "cell_type": "markdown",
      "id": "12bc8d1a",
      "metadata": {
        "id": "12bc8d1a"
      },
      "source": [
        "### Populate data folder with required data"
      ]
    },
    {
      "cell_type": "markdown",
      "id": "03031519",
      "metadata": {
        "id": "03031519"
      },
      "source": [
        "This notebook requires the following populated folder\n",
        "\n",
        "- `[datapath]/training-trajectories`."
      ]
    },
    {
      "cell_type": "markdown",
      "id": "de1bb57f",
      "metadata": {
        "id": "de1bb57f"
      },
      "source": [
        "#### Option #1: Downloading the data"
      ]
    },
    {
      "cell_type": "markdown",
      "id": "c8edb240",
      "metadata": {
        "id": "c8edb240"
      },
      "source": [
        "The data that was used for the results shown in the paper can be downloaded from [Zenodo](https://zenodo.org/).\n",
        "You can choose to download this data automatically by setting\n",
        "\n",
        " ```python\n",
        " download_required = True\n",
        " ```\n",
        "\n",
        "  in the following cell.\n",
        "This will be done automatically if this notebook is run in Google Colab.\n"
      ]
    },
    {
      "cell_type": "code",
      "execution_count": 7,
      "id": "ad07698c",
      "metadata": {
        "id": "ad07698c"
      },
      "outputs": [],
      "source": [
        "download_required = True\n",
        "\n",
        "if isColab:\n",
        "    download_required = True"
      ]
    },
    {
      "cell_type": "markdown",
      "id": "e3f77229",
      "metadata": {
        "id": "e3f77229"
      },
      "source": [
        "##### Download link (Mirror 1 - Dropbox)"
      ]
    },
    {
      "cell_type": "code",
      "execution_count": 8,
      "id": "37d18f41",
      "metadata": {
        "id": "37d18f41"
      },
      "outputs": [],
      "source": [
        "url_download_training_trajs = \"https://www.dropbox.com/scl/fi/xqsofxal5zyoxojudexmi/training-trajectories.zip?rlkey=zbgkc2jd83bwdtl5kj7rli22e&dl=0\""
      ]
    },
    {
      "cell_type": "markdown",
      "id": "c2194169",
      "metadata": {
        "id": "c2194169"
      },
      "source": [
        "##### Download link (Mirror 2 - Zotero)\n",
        "\n",
        "Uncomment the following cell if the Dropbox links in Mirror 1 are not operative.\n",
        "\n",
        "Hosting of this data in Zenodo is guaranteed, although download times might be slower"
      ]
    },
    {
      "cell_type": "code",
      "execution_count": 9,
      "id": "b5e97158",
      "metadata": {
        "id": "b5e97158"
      },
      "outputs": [],
      "source": [
        "# url_download_training_trajs = \"https://www.dropbox.com/scl/fi/xqsofxal5zyoxojudexmi/training-trajectories.zip?rlkey=zbgkc2jd83bwdtl5kj7rli22e&dl=0\""
      ]
    },
    {
      "cell_type": "markdown",
      "id": "6021525d",
      "metadata": {
        "id": "6021525d"
      },
      "source": [
        "##### Download data\n",
        "You may want to go and grab a coffee ☕️"
      ]
    },
    {
      "cell_type": "code",
      "execution_count": null,
      "id": "33e434fb",
      "metadata": {
        "colab": {
          "base_uri": "https://localhost:8080/"
        },
        "id": "33e434fb",
        "outputId": "b08379cd-b8d6-4f94-d264-ed1f32e1c6e3"
      },
      "outputs": [],
      "source": [
        "if download_required == True:\n",
        "    ! wget -q -O training-trajectories.zip --show-progress \"$url_download_training_trajs\" && unzip -q training-trajectories.zip -d \"$datapath\" &&  rm training-trajectories.zip"
      ]
    },
    {
      "cell_type": "markdown",
      "id": "88d7f5da",
      "metadata": {
        "id": "88d7f5da"
      },
      "source": [
        "#### Option #2: Generate data"
      ]
    },
    {
      "cell_type": "markdown",
      "id": "0622fe33",
      "metadata": {
        "id": "0622fe33"
      },
      "source": [
        "The folders can be populated with your own data as follows.\n",
        "\n",
        "- `[datapath]/training-trajectories/`:     Populated by running the notebook [1-Trajectories_generation.ipynb](https://colab.research.google.com/github/CarlosSMWolff/ParamEst-NN/blob/main/1-Trajectories_generation.ipynb)"
      ]
    },
    {
      "cell_type": "markdown",
      "id": "lie8jVx6B9e8",
      "metadata": {
        "id": "lie8jVx6B9e8"
      },
      "source": [
        "### Training strategy"
      ]
    },
    {
      "cell_type": "markdown",
      "id": "-K_DnBvtCIxw",
      "metadata": {
        "id": "-K_DnBvtCIxw"
      },
      "source": [
        "We check if there is a TPU available (running in Colab) and set the corresponding strategy to run on TPU. Otherwise, we use the default distribution strategy based on your hardware and environment."
      ]
    },
    {
      "cell_type": "code",
      "execution_count": null,
      "id": "IQxV-rIYA3tb",
      "metadata": {
        "colab": {
          "base_uri": "https://localhost:8080/"
        },
        "id": "IQxV-rIYA3tb",
        "outputId": "9860df55-b10e-4bd4-b7e2-30a1720f5704"
      },
      "outputs": [],
      "source": [
        "if 'COLAB_TPU_ADDR' in os.environ:\n",
        "    print(\"Tensorflow running in TPU\")\n",
        "elif tf.config.experimental.list_physical_devices('GPU'):\n",
        "    print(\"Tensorflow running in GPU\")\n",
        "else:\n",
        "    print(\"Tensorflow running in CPU\")\n",
        "\n",
        "def setup_strategy():\n",
        "    if 'COLAB_TPU_ADDR' in os.environ:\n",
        "        # TPU setup\n",
        "        resolver = tf.distribute.cluster_resolver.TPUClusterResolver('grpc://' + os.environ['COLAB_TPU_ADDR'])\n",
        "        tf.config.experimental_connect_to_cluster(resolver)\n",
        "        tf.tpu.experimental.initialize_tpu_system(resolver)\n",
        "        print(\"Running on TPU\")\n",
        "        strategy = tf.distribute.TPUStrategy(resolver)\n",
        "    else:\n",
        "        strategy = tf.distribute.get_strategy()  # Get the default strategy\n",
        "    return strategy"
      ]
    },
    {
      "cell_type": "markdown",
      "id": "e1bc8d3d",
      "metadata": {
        "id": "e1bc8d3d"
      },
      "source": [
        "## Training 1D Models <a id='1D'> </a>"
      ]
    },
    {
      "cell_type": "markdown",
      "id": "yPRXtXjZS2E6",
      "metadata": {
        "id": "yPRXtXjZS2E6"
      },
      "source": [
        "### Load training data (1D $\\Delta$ estimation) <a id='load'></a>"
      ]
    },
    {
      "cell_type": "code",
      "execution_count": 12,
      "id": "43lYZHZMS2E7",
      "metadata": {
        "id": "43lYZHZMS2E7"
      },
      "outputs": [],
      "source": [
        "path_tau= datapath + \"training-trajectories/1D-delta/taus-Delta-1D.npy\"\n",
        "path_param= datapath +\"training-trajectories/1D-delta/delta_rand_list-Delta-1D.npy\""
      ]
    },
    {
      "cell_type": "code",
      "execution_count": null,
      "id": "zPPWDvvBYnRd",
      "metadata": {
        "colab": {
          "base_uri": "https://localhost:8080/"
        },
        "id": "zPPWDvvBYnRd",
        "outputId": "bb12c4cf-f107-4f39-bd66-9a52ff430394"
      },
      "outputs": [],
      "source": [
        "tau_list = np.load(path_tau)\n",
        "Delta_list = np.load(path_param)\n",
        "\n",
        "ntraj = len(tau_list)\n",
        "\n",
        "if len(tau_list)!=len(Delta_list):\n",
        "  print(\"ERROR: Dimensions of X (tau_list) and Y (Delta_list) do not match!\")\n",
        "else:\n",
        "  print(f\"{ntraj} trajectories loaded\")"
      ]
    },
    {
      "cell_type": "markdown",
      "id": "r0stn6jga4Du",
      "metadata": {
        "id": "r0stn6jga4Du"
      },
      "source": [
        "Select the number of trajectories that we want to use for the training (equal or smaller to number of trajectories loaded)"
      ]
    },
    {
      "cell_type": "code",
      "execution_count": 14,
      "id": "Laza9HBajKaF",
      "metadata": {
        "id": "Laza9HBajKaF"
      },
      "outputs": [],
      "source": [
        "ntraj_select = 4000000\n",
        "\n",
        "tau_list = tau_list[:ntraj_select].astype(np.float32)\n",
        "Delta_list = Delta_list[:ntraj_select].astype(np.float32)"
      ]
    },
    {
      "cell_type": "markdown",
      "id": "069220f7",
      "metadata": {
        "id": "069220f7"
      },
      "source": [
        "- We split the data set: 80% training, 20% validation.\n",
        "\n",
        "- We do not shuffle the data since the trajectories were already generated randomly"
      ]
    },
    {
      "cell_type": "code",
      "execution_count": 15,
      "id": "A_HXjDFbca00",
      "metadata": {
        "id": "A_HXjDFbca00"
      },
      "outputs": [],
      "source": [
        "njumps = tau_list.shape[1]\n",
        "\n",
        "# Set data generated from Monte Carlo\n",
        "X_train_full, y_train_full = tau_list, Delta_list\n",
        "\n",
        "lenTrain=int(0.8*len(X_train_full))\n",
        "X_train, X_valid = X_train_full[:lenTrain], X_train_full[lenTrain:]\n",
        "y_train, y_valid = y_train_full[:lenTrain], y_train_full[lenTrain:]"
      ]
    },
    {
      "cell_type": "markdown",
      "id": "t0SxFJysNGTH",
      "metadata": {
        "id": "t0SxFJysNGTH"
      },
      "source": [
        "### Model #1: RNN architecture\n",
        "<a id='RNN'></a>"
      ]
    },
    {
      "cell_type": "markdown",
      "id": "xp65bxd0S2E7",
      "metadata": {
        "id": "xp65bxd0S2E7"
      },
      "source": [
        "Define and train the network"
      ]
    },
    {
      "cell_type": "code",
      "execution_count": null,
      "id": "6QHNCtumS2E7",
      "metadata": {
        "id": "6QHNCtumS2E7"
      },
      "outputs": [],
      "source": [
        "def create_model():\n",
        "  # Set the RNN\n",
        "  dropout = 0.\n",
        "  activation = \"relu\"\n",
        "  modelRNN = keras.models.Sequential(\n",
        "  [keras.layers.LSTM(17,input_shape=[None,1],return_sequences=True, activation=activation,dropout=dropout),\n",
        "  keras.layers.LSTM(17, return_sequences=False, activation=activation,dropout=dropout),\n",
        "  keras.layers.Dense(1)]\n",
        "  )\n",
        "  return modelRNN"
      ]
    },
    {
      "cell_type": "markdown",
      "id": "62b980e6",
      "metadata": {
        "id": "62b980e6"
      },
      "source": [
        "Training details"
      ]
    },
    {
      "cell_type": "code",
      "execution_count": null,
      "id": "C2EYI-f-S2E8",
      "metadata": {
        "id": "C2EYI-f-S2E8"
      },
      "outputs": [],
      "source": [
        "epochs = 1200\n",
        "batch_size = 12800\n",
        "optimizer = \"adam\"\n",
        "loss =  tf.keras.losses.MeanSquaredLogarithmicError()\n",
        "metrics = [\"MeanSquaredError\"]"
      ]
    },
    {
      "cell_type": "markdown",
      "id": "b5e346e3",
      "metadata": {
        "id": "b5e346e3"
      },
      "source": [
        "Perform training\n",
        "- If the notebook is run in Colab, it tries to use TPU.\n",
        "- Otherwise, train in local machine."
      ]
    },
    {
      "cell_type": "code",
      "execution_count": null,
      "id": "dqMDtDJkCoRA",
      "metadata": {
        "colab": {
          "base_uri": "https://localhost:8080/"
        },
        "id": "dqMDtDJkCoRA",
        "outputId": "a0219475-ef5a-45e7-b37b-6813d3f11963"
      },
      "outputs": [],
      "source": [
        "tf.keras.backend.clear_session()\n",
        "strategy = setup_strategy()\n",
        "\n",
        "with strategy.scope():\n",
        "  modelRNN = create_model()\n",
        "  modelRNN.compile(\n",
        "      optimizer= optimizer,\n",
        "      loss=loss,\n",
        "            metrics=[metrics]\n",
        "      )\n",
        "\n",
        "  historyRNN=modelRNN.fit(np.expand_dims(X_train,axis=-1), y_train,\n",
        "      epochs=epochs,\n",
        "      batch_size = batch_size,\n",
        "      validation_data=(np.expand_dims(X_valid,axis=-1), y_valid),\n",
        "      validation_freq=1\n",
        "      #,  verbose=0 ,  callbacks=[TqdmCallback(verbose=0)]\n",
        "      )"
      ]
    },
    {
      "cell_type": "code",
      "execution_count": null,
      "id": "HvQ5etZES2E8",
      "metadata": {
        "colab": {
          "base_uri": "https://localhost:8080/",
          "height": 487
        },
        "id": "HvQ5etZES2E8",
        "outputId": "ca3a8752-4eca-467c-9a53-4b6dfe8a7cbe"
      },
      "outputs": [],
      "source": [
        "pd.DataFrame(historyRNN.history).plot(figsize=(8, 5))\n",
        "plt.xlabel(\"Epochs\")\n",
        "plt.title(\"Training\")\n",
        "plt.grid(True)\n",
        "plt.yscale(\"log\")\n",
        "plt.show()"
      ]
    },
    {
      "cell_type": "markdown",
      "id": "83e81505",
      "metadata": {
        "id": "83e81505"
      },
      "source": [
        "\n",
        "Visualize the predictions made by the model in the validation set"
      ]
    },
    {
      "cell_type": "code",
      "execution_count": null,
      "id": "LiYDCo3RlGXm",
      "metadata": {
        "colab": {
          "base_uri": "https://localhost:8080/",
          "height": 696
        },
        "id": "LiYDCo3RlGXm",
        "outputId": "303d02bc-0cf2-4780-8397-6706f708f363"
      },
      "outputs": [
        {
          "data": {
            "image/png": "[encoded data removed]",
            "text/plain": [
              "<Figure size 500x800 with 2 Axes>"
            ]
          },
          "metadata": {},
          "output_type": "display_data"
        }
      ],
      "source": [
        "nsel = 1000\n",
        "x_values = X_valid[np.argsort(y_valid[:nsel])]\n",
        "output = modelRNN(x_values)[:,0]\n",
        "\n",
        "input = np.sort(y_valid[:nsel])\n",
        "\n",
        "fig, axes = plt.subplots(nrows = 2, figsize = (5,8))\n",
        "ax = axes[0]\n",
        "ax.hexbin(input,output, gridsize=50, cmap = 'magma')\n",
        "ax.plot(input,input,'--',color=\"gray\",alpha=0.8)\n",
        "ax.set_xlabel(\"$\\Delta$\"); ax.set_ylabel(\"Estimation $\\hat \\Delta$\")\n",
        "\n",
        "ax = axes[1]\n",
        "ax.hist(input,bins = 50, alpha = 0.5, label = \"Input data\")\n",
        "ax.hist(output,bins = 50, alpha = 0.5, label = \"Output data\")\n",
        "ax.set_xlabel(\"$\\Delta$\"); ax.set_ylabel(\"Counts\")\n",
        "ax.legend()\n",
        "plt.show()"
      ]
    },
    {
      "cell_type": "markdown",
      "id": "HdPMqneOS2E8",
      "metadata": {
        "id": "HdPMqneOS2E8"
      },
      "source": [
        "Save the model"
      ]
    },
    {
      "cell_type": "code",
      "execution_count": null,
      "id": "hKCE2LZFS2E8",
      "metadata": {
        "colab": {
          "base_uri": "https://localhost:8080/",
          "height": 34
        },
        "id": "hKCE2LZFS2E8",
        "outputId": "2a8e7eb0-61c6-43da-f69b-affca6f1aedb"
      },
      "outputs": [
        {
          "name": "stdout",
          "output_type": "stream",
          "text": [
            "Directory data/models/1D/ not found: creating...\n"
          ]
        },
        {
          "data": {
            "application/javascript": "\n    async function download(id, filename, size) {\n      if (!google.colab.kernel.accessAllowed) {\n        return;\n      }\n      const div = document.createElement('div');\n      const label = document.createElement('label');\n      label.textContent = `Downloading \"${filename}\": `;\n      div.appendChild(label);\n      const progress = document.createElement('progress');\n      progress.max = size;\n      div.appendChild(progress);\n      document.body.appendChild(div);\n\n      const buffers = [];\n      let downloaded = 0;\n\n      const channel = await google.colab.kernel.comms.open(id);\n      // Send a message to notify the kernel that we're ready.\n      channel.send({})\n\n      for await (const message of channel.messages) {\n        // Send a message to notify the kernel that we're ready.\n        channel.send({})\n        if (message.buffers) {\n          for (const buffer of message.buffers) {\n            buffers.push(buffer);\n            downloaded += buffer.byteLength;\n            progress.value = downloaded;\n          }\n        }\n      }\n      const blob = new Blob(buffers, {type: 'application/binary'});\n      const a = document.createElement('a');\n      a.href = window.URL.createObjectURL(blob);\n      a.download = filename;\n      div.appendChild(a);\n      a.click();\n      div.remove();\n    }\n  ",
            "text/plain": [
              "<IPython.core.display.Javascript object>"
            ]
          },
          "metadata": {},
          "output_type": "display_data"
        },
        {
          "data": {
            "application/javascript": "download(\"download_fb0f1b39-6c4f-42ad-bee0-8c0eadbfc93a\", \"model-RNN.h5\", 88064)",
            "text/plain": [
              "<IPython.core.display.Javascript object>"
            ]
          },
          "metadata": {},
          "output_type": "display_data"
        }
      ],
      "source": [
        "modelTrainName = f'model-RNN.h5'\n",
        "\n",
        "save_dir = datapath+\"models/1D/\"\n",
        "create_directory(save_dir)\n",
        "save_path = save_dir + modelTrainName\n",
        "\n",
        "\n",
        "modelRNN.save(save_path)\n",
        "\n",
        "if isColab:\n",
        "    from google.colab import files\n",
        "    files.download(save_path)"
      ]
    },
    {
      "cell_type": "markdown",
      "id": "Dx-6hR__cHbM",
      "metadata": {
        "id": "Dx-6hR__cHbM"
      },
      "source": [
        "### Model #2: Hist-Dense architecture\n",
        "<a id='Hist'></a>"
      ]
    },
    {
      "cell_type": "markdown",
      "id": "TuLcWjHJcVE7",
      "metadata": {
        "id": "TuLcWjHJcVE7"
      },
      "source": [
        "Define the model\n"
      ]
    },
    {
      "cell_type": "code",
      "execution_count": 22,
      "id": "WaNB202IcHbO",
      "metadata": {
        "id": "WaNB202IcHbO"
      },
      "outputs": [],
      "source": [
        "from paramest_nn.custom_layers import MyHistogramLayer_Sigmoid\n",
        "\n",
        "nbins = 700\n",
        "taumax = 100\n",
        "width = taumax/nbins\n",
        "\n",
        "\n",
        "def create_model_Hist():\n",
        "  # Set the model\n",
        "  activation = \"relu\"\n",
        "  droprate = 0.\n",
        "  modelHist = keras.models.Sequential(\n",
        "  [\n",
        "  MyHistogramLayer_Sigmoid(nbins, taumax, trainable = False),\n",
        "  keras.layers.Dense(100, activation=activation),\n",
        "   keras.layers.Dropout(droprate),\n",
        "  keras.layers.Dense(50, activation=activation),\n",
        "   keras.layers.Dropout(droprate),\n",
        "     keras.layers.Dense(30, activation=activation),\n",
        "   keras.layers.Dropout(droprate),\n",
        "      keras.layers.Dense(1)\n",
        "   ]\n",
        "  )\n",
        "  return modelHist"
      ]
    },
    {
      "cell_type": "markdown",
      "id": "1f73a83d",
      "metadata": {
        "id": "1f73a83d"
      },
      "source": [
        "Setup the training"
      ]
    },
    {
      "cell_type": "code",
      "execution_count": 23,
      "id": "d2ZSk8wZcHbO",
      "metadata": {
        "id": "d2ZSk8wZcHbO"
      },
      "outputs": [],
      "source": [
        "  epochs = 1200\n",
        "  batch_size = 12800\n",
        "  optimizer = \"adam\"\n",
        "  loss = tf.keras.losses.MeanSquaredLogarithmicError()\n",
        "  metrics = [\"MeanSquaredError\"]"
      ]
    },
    {
      "cell_type": "markdown",
      "id": "c9feb436",
      "metadata": {
        "id": "c9feb436"
      },
      "source": [
        "Training"
      ]
    },
    {
      "cell_type": "code",
      "execution_count": null,
      "id": "emoXkrAWdwUs",
      "metadata": {
        "colab": {
          "base_uri": "https://localhost:8080/"
        },
        "id": "emoXkrAWdwUs",
        "outputId": "40e7cdb9-8bd0-4ad6-fe96-af12fe629dc1"
      },
      "outputs": [],
      "source": [
        "tf.keras.backend.clear_session()\n",
        "strategy = setup_strategy()\n",
        "\n",
        "with strategy.scope():\n",
        "  modelHist = create_model_Hist()\n",
        "  modelHist.compile(\n",
        "      optimizer= optimizer,\n",
        "      loss=loss,\n",
        "            metrics=[metrics]\n",
        "      )\n",
        "\n",
        "history=modelHist.fit(\n",
        "    X_train, y_train,\n",
        "    epochs=epochs,\n",
        "    batch_size = batch_size,\n",
        "    validation_data=(X_valid, y_valid),\n",
        "    validation_freq=1)"
      ]
    },
    {
      "cell_type": "code",
      "execution_count": null,
      "id": "pV87W28ecHbO",
      "metadata": {
        "colab": {
          "base_uri": "https://localhost:8080/",
          "height": 487
        },
        "id": "pV87W28ecHbO",
        "outputId": "bff4a202-4736-4fd7-a8ea-f63cf5eff41a"
      },
      "outputs": [],
      "source": [
        "pd.DataFrame(history.history).plot(figsize=(8, 5))\n",
        "plt.xlabel(\"Epochs\")\n",
        "plt.title(\"Training History\")\n",
        "plt.grid(True)\n",
        "plt.yscale(\"log\")\n",
        "plt.show()"
      ]
    },
    {
      "cell_type": "code",
      "execution_count": 26,
      "id": "ecffe3b7",
      "metadata": {
        "colab": {
          "base_uri": "https://localhost:8080/",
          "height": 696
        },
        "id": "ecffe3b7",
        "outputId": "c5c1d54a-6770-4760-e830-eb1c99c22861"
      },
      "outputs": [
        {
          "data": {
            "image/png": "[encoded data removed]",
            "text/plain": [
              "<Figure size 500x800 with 2 Axes>"
            ]
          },
          "metadata": {},
          "output_type": "display_data"
        }
      ],
      "source": [
        "nsel = 1000\n",
        "x_values = X_valid[np.argsort(y_valid[:nsel])]\n",
        "output = modelHist.predict(x_values, verbose=False)[:,0]\n",
        "\n",
        "input = np.sort(y_valid[:nsel])\n",
        "\n",
        "fig, axes = plt.subplots(nrows = 2, figsize = (5,8))\n",
        "ax = axes[0]\n",
        "ax.hexbin(input,output, gridsize=50, cmap = 'magma')\n",
        "ax.plot(input,input,'--',color=\"gray\",alpha=0.8)\n",
        "ax.set_xlabel(\"$\\Delta$\"); ax.set_ylabel(\"Estimation $\\hat \\Delta$\")\n",
        "\n",
        "ax = axes[1]\n",
        "ax.hist(input,bins = 50, alpha = 0.5, label = \"Input data\")\n",
        "ax.hist(output,bins = 50, alpha = 0.5, label = \"Output data\")\n",
        "ax.set_xlabel(\"$\\Delta$\"); ax.set_ylabel(\"Counts\")\n",
        "ax.legend()\n",
        "plt.show()"
      ]
    },
    {
      "cell_type": "markdown",
      "id": "39e423be",
      "metadata": {
        "id": "39e423be"
      },
      "source": [
        "Save the model"
      ]
    },
    {
      "cell_type": "code",
      "execution_count": null,
      "id": "425d5e85",
      "metadata": {
        "colab": {
          "base_uri": "https://localhost:8080/",
          "height": 34
        },
        "id": "425d5e85",
        "outputId": "11fd913a-4b78-456a-845c-fe967393d788"
      },
      "outputs": [],
      "source": [
        "modelTrainName = f'model-Hist.h5'\n",
        "\n",
        "save_dir = datapath+\"models/1D/\"\n",
        "create_directory(save_dir)\n",
        "save_path = save_dir + modelTrainName\n",
        "\n",
        "\n",
        "modelHist.save(save_path)\n",
        "\n",
        "if isColab:\n",
        "    from google.colab import files\n",
        "    files.download(save_path)"
      ]
    },
    {
      "cell_type": "markdown",
      "id": "EiqaJjc5g736",
      "metadata": {
        "id": "EiqaJjc5g736"
      },
      "source": [
        "### Training Hist-Dense models with noise in the y_train"
      ]
    },
    {
      "cell_type": "markdown",
      "id": "46729fb0",
      "metadata": {
        "id": "46729fb0"
      },
      "source": [
        "Define the model"
      ]
    },
    {
      "cell_type": "code",
      "execution_count": null,
      "id": "16344ca4",
      "metadata": {
        "colab": {
          "base_uri": "https://localhost:8080/",
          "height": 384
        },
        "id": "16344ca4",
        "outputId": "37686906-05d1-4083-d849-8878e0604ad9"
      },
      "outputs": [],
      "source": [
        "from paramest_nn.custom_layers import MyHistogramLayer_Sigmoid\n",
        "\n",
        "nbins = 700\n",
        "taumax = 100\n",
        "width = taumax/nbins\n",
        "\n",
        "\n",
        "def create_model_Hist():\n",
        "  # Set the model\n",
        "  activation = \"relu\"\n",
        "  droprate = 0.\n",
        "  modelHist = keras.models.Sequential(\n",
        "  [\n",
        "  MyHistogramLayer_Sigmoid(nbins, taumax, trainable = False),\n",
        "  keras.layers.Dense(100, activation=activation),\n",
        "   keras.layers.Dropout(droprate),\n",
        "  keras.layers.Dense(50, activation=activation),\n",
        "   keras.layers.Dropout(droprate),\n",
        "     keras.layers.Dense(30, activation=activation),\n",
        "   keras.layers.Dropout(droprate),\n",
        "      keras.layers.Dense(1)\n",
        "   ]\n",
        "  )\n",
        "  return modelHist"
      ]
    },
    {
      "cell_type": "markdown",
      "id": "dcd478a2",
      "metadata": {
        "id": "dcd478a2"
      },
      "source": [
        "Define $\\sigma$ interval"
      ]
    },
    {
      "cell_type": "code",
      "execution_count": 16,
      "id": "f81f15a9",
      "metadata": {
        "id": "f81f15a9"
      },
      "outputs": [],
      "source": [
        "sigma_min = 0.;sigma_max = 1.;nsigma = 30; sigma_list = np.linspace(sigma_min,sigma_max,nsigma)"
      ]
    },
    {
      "cell_type": "markdown",
      "id": "20392adb",
      "metadata": {
        "id": "20392adb"
      },
      "source": [
        "Setup the training"
      ]
    },
    {
      "cell_type": "code",
      "execution_count": null,
      "id": "d9738e36",
      "metadata": {
        "id": "d9738e36"
      },
      "outputs": [],
      "source": [
        "  epochs = 20\n",
        "  optimizer = \"adam\"\n",
        "  loss = tf.keras.losses.MeanSquaredLogarithmicError()\n",
        "  metrics = [\"MeanSquaredError\"]"
      ]
    },
    {
      "cell_type": "markdown",
      "id": "84df75f6",
      "metadata": {
        "id": "84df75f6"
      },
      "source": [
        "Create callback to save the model of the best epoch during training"
      ]
    },
    {
      "cell_type": "code",
      "execution_count": null,
      "id": "cd3603fe",
      "metadata": {
        "id": "cd3603fe"
      },
      "outputs": [],
      "source": [
        "file_dir = datapath+\"models/1D/noise-y-train/\"\n",
        "create_directory(file_dir)\n",
        "\n",
        "def Create_Callback(sigma):\n",
        "  filepath= file_dir+ 'model_best_Hist-sigma_'+str(sigma)+'.hdf5'\n",
        "\n",
        "  checkpoint = keras.callbacks.ModelCheckpoint(filepath=filepath,\n",
        "                              monitor='val_loss',\n",
        "                              verbose=0,\n",
        "                              save_best_only=True,\n",
        "                              mode='min')\n",
        "\n",
        "  callbacks = [checkpoint]\n",
        "  return callbacks"
      ]
    },
    {
      "cell_type": "markdown",
      "id": "35f93cf4",
      "metadata": {
        "id": "35f93cf4"
      },
      "source": [
        "Loop over $\\sigma$"
      ]
    },
    {
      "cell_type": "code",
      "execution_count": null,
      "id": "d660bca0",
      "metadata": {
        "colab": {
          "base_uri": "https://localhost:8080/"
        },
        "id": "d660bca0",
        "outputId": "a2424d59-72df-49f2-99c9-eac05cd3518f"
      },
      "outputs": [
        {
          "name": "stdout",
          "output_type": "stream",
          "text": [
            "rm: cannot remove 'data/models/1D/noise-y-train/*': No such file or directory\n"
          ]
        },
        {
          "name": "stderr",
          "output_type": "stream",
          "text": [
            "100%|██████████| 30/30 [02:26<00:00,  4.90s/it]\n"
          ]
        }
      ],
      "source": [
        "! rm -r \"$datapath\"models/1D/noise-y-train/*\n",
        "\n",
        "tf.keras.backend.clear_session()\n",
        "strategy = setup_strategy()\n",
        "\n",
        "with strategy.scope():\n",
        "  modelHist = create_model_Hist()\n",
        "  modelHist.compile(optimizer= optimizer, loss=loss, metrics=[metrics])\n",
        "\n",
        "with strategy.scope():\n",
        "  model_Prev = tf.keras.models.clone_model(modelHist)\n",
        "  model_Prev.compile(optimizer= optimizer, loss=loss, metrics=[metrics])\n",
        "\n",
        "# First do a very quick training to initialize the weights for later training\n",
        "sigma = 0.\n",
        "noise = np.random.normal(loc=0., scale=sigma, size=len(y_train))\n",
        "y_train_noise = np.abs(y_train + noise)\n",
        "noise_valid = np.random.normal(loc=0., scale=sigma, size=len(y_valid))\n",
        "y_valid_noise = np.abs(y_valid + noise_valid)\n",
        "\n",
        "model_Prev.fit(X_train.astype(np.float32),\n",
        "                      y_train_noise.astype(np.float32),\n",
        "                      epochs=2,\n",
        "                      callbacks=Create_Callback(sigma),\n",
        "                        batch_size = 1280, validation_data=(X_valid.astype(np.float32), y_valid_noise.astype(np.float32)), validation_freq=1,\n",
        "                        verbose = False)\n",
        "\n",
        "# Now loop over sigma\n",
        "history_list = []\n",
        "for sigma in tqdm(sigma_list):\n",
        "\n",
        "    # First we create a model cloning the partially trained one\n",
        "    with strategy.scope():\n",
        "      model = tf.keras.models.clone_model(model_Prev)\n",
        "      model.compile(optimizer= optimizer, loss=loss, metrics=[metrics])\n",
        "\n",
        "      # Add noise to data\n",
        "      noise = np.random.normal(loc=0., scale=sigma, size=len(y_train))\n",
        "      y_train_noise = np.abs(y_train + noise)\n",
        "      noise_valid = np.random.normal(loc=0., scale=sigma, size=len(y_valid))\n",
        "      y_valid_noise = np.abs(y_valid + noise_valid)\n",
        "\n",
        "      # Fit the model with noisy data\n",
        "      history = model.fit(X_train.astype(np.float32),\n",
        "                      y_train_noise.astype(np.float32),\n",
        "                      epochs=epochs,\n",
        "                      callbacks=Create_Callback(sigma),\n",
        "                        batch_size = 1280, validation_data=(X_valid.astype(np.float32), y_valid_noise.astype(np.float32)), validation_freq=1,\n",
        "                        verbose = False)\n",
        "\n",
        "      # Store the history of the training\n",
        "      history_list.append(history)"
      ]
    },
    {
      "cell_type": "code",
      "execution_count": null,
      "id": "Am9xOncyg736",
      "metadata": {
        "colab": {
          "base_uri": "https://localhost:8080/",
          "height": 449
        },
        "id": "Am9xOncyg736",
        "outputId": "122291be-0645-4d27-a0f5-9a7fb273ccfc"
      },
      "outputs": [],
      "source": [
        "histories = [pd.DataFrame(result.history) for result in history_list]\n",
        "val_loss_list = np.array([history.val_loss for history in histories])\n",
        "\n",
        "plt.plot(sigma_list,val_loss_list[:,-1],'-o', label = \"Loss (last epoch)\")\n",
        "plt.plot(sigma_list,np.min(val_loss_list,axis=1),'-ro', label = \"Loss (best epoch)\")\n",
        "plt.legend()\n",
        "plt.xlabel(\"$\\sigma$\"); plt.ylabel(\"\")\n",
        "plt.show()"
      ]
    },
    {
      "cell_type": "markdown",
      "id": "xg2DyLb2Irx4",
      "metadata": {
        "id": "xg2DyLb2Irx4"
      },
      "source": [
        "If we are in Colab, we zip and download the files"
      ]
    },
    {
      "cell_type": "code",
      "execution_count": null,
      "id": "iq7yLHT1lya0",
      "metadata": {
        "colab": {
          "base_uri": "https://localhost:8080/",
          "height": 555
        },
        "id": "iq7yLHT1lya0",
        "outputId": "4ad946d8-eedd-415e-d6e3-f857a4dae145"
      },
      "outputs": [],
      "source": [
        "if isColab:\n",
        "  !zip -rq models-sigma-y-train.zip \"$datapath\"models/1D/noise-y-train/\n",
        "  files.download(\"models-sigma-y-train.zip\")"
      ]
    },
    {
      "cell_type": "markdown",
      "id": "993lxcZEg737",
      "metadata": {
        "id": "993lxcZEg737"
      },
      "source": [
        "### Training Hist models with noise in the x_train"
      ]
    },
    {
      "cell_type": "markdown",
      "id": "9749e84e",
      "metadata": {
        "id": "9749e84e"
      },
      "source": [
        "Define the model"
      ]
    },
    {
      "cell_type": "code",
      "execution_count": null,
      "id": "fb7edb28",
      "metadata": {
        "id": "fb7edb28"
      },
      "outputs": [],
      "source": [
        "from paramest_nn.custom_layers import MyHistogramLayer_Sigmoid\n",
        "\n",
        "nbins = 700\n",
        "taumax = 100\n",
        "width = taumax/nbins\n",
        "\n",
        "\n",
        "def create_model_Hist():\n",
        "  # Set the model\n",
        "  activation = \"relu\"\n",
        "  droprate = 0.\n",
        "  modelHist = keras.models.Sequential(\n",
        "  [\n",
        "  MyHistogramLayer_Sigmoid(nbins, taumax, trainable = False),\n",
        "  keras.layers.Dense(100, activation=activation),\n",
        "   keras.layers.Dropout(droprate),\n",
        "  keras.layers.Dense(50, activation=activation),\n",
        "   keras.layers.Dropout(droprate),\n",
        "     keras.layers.Dense(30, activation=activation),\n",
        "   keras.layers.Dropout(droprate),\n",
        "      keras.layers.Dense(1)\n",
        "   ]\n",
        "  )\n",
        "  return modelHist"
      ]
    },
    {
      "cell_type": "markdown",
      "id": "1a2b5b1a",
      "metadata": {
        "id": "1a2b5b1a"
      },
      "source": [
        "Define $\\sigma$ interval"
      ]
    },
    {
      "cell_type": "code",
      "execution_count": null,
      "id": "cd7677cf",
      "metadata": {
        "id": "cd7677cf"
      },
      "outputs": [],
      "source": [
        "sigma_min = 0.;sigma_max = 1.;nsigma = 30; sigma_list = np.linspace(0,sigma_max,nsigma)"
      ]
    },
    {
      "cell_type": "markdown",
      "id": "9d5f6e96",
      "metadata": {
        "id": "9d5f6e96"
      },
      "source": [
        "Setup the training"
      ]
    },
    {
      "cell_type": "code",
      "execution_count": null,
      "id": "5LD3Camug737",
      "metadata": {
        "id": "5LD3Camug737"
      },
      "outputs": [],
      "source": [
        "epochs = 20\n",
        "batch_size = 1280\n",
        "optimizer = \"adam\"\n",
        "loss = tf.keras.losses.MeanSquaredLogarithmicError()\n",
        "metrics = [\"MeanSquaredError\"]"
      ]
    },
    {
      "cell_type": "markdown",
      "id": "5998e086",
      "metadata": {
        "id": "5998e086"
      },
      "source": [
        "Define Callback to save the model of the best epoch during training"
      ]
    },
    {
      "cell_type": "code",
      "execution_count": null,
      "id": "alC5DRe1g737",
      "metadata": {
        "id": "alC5DRe1g737"
      },
      "outputs": [],
      "source": [
        "file_dir = datapath+\"models/1D/noise-x-train/\"\n",
        "create_directory(file_dir)\n",
        "\n",
        "def Create_Callback(sigma):\n",
        "  filepath= file_dir+ 'model_best_Hist-sigma_'+str(sigma)+'.hdf5'\n",
        "\n",
        "  checkpoint = keras.callbacks.ModelCheckpoint(filepath=filepath,\n",
        "                              monitor='val_loss',\n",
        "                              verbose=0,\n",
        "                              save_best_only=True,\n",
        "                              mode='min')\n",
        "\n",
        "  callbacks = [checkpoint]\n",
        "  return callbacks"
      ]
    },
    {
      "cell_type": "markdown",
      "id": "6BtsWdZhg737",
      "metadata": {
        "id": "6BtsWdZhg737"
      },
      "source": [
        "Loop over $\\sigma$"
      ]
    },
    {
      "cell_type": "code",
      "execution_count": null,
      "id": "83550e6b",
      "metadata": {
        "colab": {
          "base_uri": "https://localhost:8080/"
        },
        "id": "83550e6b",
        "outputId": "03cc5f11-5dda-4145-dfb2-d3c6b3de04a1"
      },
      "outputs": [],
      "source": [
        "# Clean the \"data/models/noise-x-train\" folder\n",
        "! rm -r \"$datapath\"models/1D/noise-x-train\n",
        "\n",
        "\n",
        "tf.keras.backend.clear_session()\n",
        "strategy = setup_strategy()\n",
        "\n",
        "with strategy.scope():\n",
        "  modelHist = create_model_Hist()\n",
        "  modelHist.compile(optimizer= optimizer, loss=loss, metrics=[metrics])\n",
        "\n",
        "with strategy.scope():\n",
        "  model_Prev = tf.keras.models.clone_model(modelHist)\n",
        "  model_Prev.compile(optimizer= optimizer, loss=loss, metrics=[metrics])\n",
        "\n",
        "# First do a very quick training to initialize the weights for later training\n",
        "sigma = 0.\n",
        "model_Prev.fit(X_train.astype(np.float32),\n",
        "                      y_train.astype(np.float32),\n",
        "                      epochs=2,\n",
        "                      callbacks=Create_Callback(sigma),\n",
        "                        batch_size = batch_size, validation_data=(X_valid.astype(np.float32), y_valid.astype(np.float32)), validation_freq=1,\n",
        "                        verbose = False)\n",
        "\n",
        "# Now loop over sigma\n",
        "history_list = []\n",
        "for sigma in tqdm(sigma_list):\n",
        "\n",
        "  # First we create a model cloning the partially trained one\n",
        "  with strategy.scope():\n",
        "    model = tf.keras.models.clone_model(model_Prev)\n",
        "    model.compile(optimizer= optimizer, loss=loss, metrics=[metrics])\n",
        "\n",
        "  # Add noise to x- data (delays)\n",
        "  noise = np.random.normal(loc=0., scale=sigma, size=tau_list.shape)\n",
        "  tau_list_noise = (tau_list + noise).clip(min=0.001)\n",
        "  #Proper shape to x-data\n",
        "  X_train_full_Hist = tau_list_noise\n",
        "  lenTrain=int(0.8*len(X_train_full))\n",
        "  X_train_Hist, X_valid_Hist = X_train_full_Hist[:lenTrain], X_train_full_Hist[lenTrain:]\n",
        "\n",
        "  # Fit the model with noisy data\n",
        "  history = model.fit(X_train_Hist.astype(np.float32),\n",
        "                  y_train.astype(np.float32),\n",
        "                  epochs=epochs,\n",
        "                  callbacks=Create_Callback(sigma),\n",
        "                    batch_size = batch_size, validation_data=(X_valid_Hist.astype(np.float32), y_valid.astype(np.float32)), validation_freq=1,\n",
        "                    verbose = False)\n",
        "\n",
        "    # Store the history of the training\n",
        "  history_list.append(history)"
      ]
    },
    {
      "cell_type": "code",
      "execution_count": null,
      "id": "_qKjhuLOueBR",
      "metadata": {
        "id": "_qKjhuLOueBR"
      },
      "outputs": [],
      "source": [
        "histories = [pd.DataFrame(result.history) for result in history_list]\n",
        "val_loss_list = np.array([history.val_loss for history in histories])"
      ]
    },
    {
      "cell_type": "code",
      "execution_count": null,
      "id": "roE0DPJ6ugT2",
      "metadata": {
        "colab": {
          "base_uri": "https://localhost:8080/",
          "height": 430
        },
        "id": "roE0DPJ6ugT2",
        "outputId": "2933c131-b15e-47ce-8b18-668f6c38233a"
      },
      "outputs": [],
      "source": [
        "plt.plot(sigma_list,val_loss_list[:,-1],'-o')\n",
        "plt.plot(sigma_list,np.min(val_loss_list,axis=1),'-ro')\n",
        "#plt.yscale('log')\n",
        "#plt.xscale('log')\n",
        "plt.show()"
      ]
    },
    {
      "cell_type": "code",
      "execution_count": null,
      "id": "2UV963BgJ1uF",
      "metadata": {
        "colab": {
          "base_uri": "https://localhost:8080/",
          "height": 555
        },
        "id": "2UV963BgJ1uF",
        "outputId": "dd109bff-ec7b-47fe-9171-db80bb8fa146"
      },
      "outputs": [],
      "source": [
        "!zip -rq models-sigma-x-train.zip \"$datapath\"models/1D/noise-x-train/\n",
        "\n",
        "from google.colab import files\n",
        "files.download(\"models-sigma-x-train.zip\")"
      ]
    },
    {
      "cell_type": "markdown",
      "id": "4fd3c9f9",
      "metadata": {
        "id": "4fd3c9f9"
      },
      "source": [
        "## Training 2D Models <a id='1D'> </a>"
      ]
    },
    {
      "cell_type": "markdown",
      "id": "dfac7ab3",
      "metadata": {
        "id": "dfac7ab3"
      },
      "source": [
        "### Load data <a id='load'></a>"
      ]
    },
    {
      "cell_type": "markdown",
      "id": "20ffc5b5",
      "metadata": {
        "id": "20ffc5b5"
      },
      "source": [
        "#### Training data: 2D  estimation [$\\Delta$,$\\Omega$]"
      ]
    },
    {
      "cell_type": "markdown",
      "id": "20e0b7ed",
      "metadata": {
        "id": "20e0b7ed"
      },
      "source": [
        "- If this notebook is run online in Google Colab, we download the data from the online repo and the necessary src files.\n",
        "- Otherwise, we accesss to the local data in `data/training`"
      ]
    },
    {
      "cell_type": "code",
      "execution_count": null,
      "id": "3a5ffcd0",
      "metadata": {
        "id": "3a5ffcd0"
      },
      "outputs": [],
      "source": [
        "path_tau= datapath+\"training-trajectories/2D-delta-omega/taus-2D.npy\"\n",
        "path_param= datapath+\"/training-trajectories/2D-delta-omega/param_rand_list-2D.npy\""
      ]
    },
    {
      "cell_type": "code",
      "execution_count": null,
      "id": "a5a410c5",
      "metadata": {
        "id": "a5a410c5"
      },
      "outputs": [],
      "source": [
        "tau_list = np.load(path_tau)\n",
        "param_list = np.load(path_param)"
      ]
    },
    {
      "cell_type": "markdown",
      "id": "3a63b722",
      "metadata": {
        "id": "3a63b722"
      },
      "source": [
        "Select number of trajectories that we will use for the training"
      ]
    },
    {
      "cell_type": "code",
      "execution_count": null,
      "id": "ef505e33",
      "metadata": {
        "id": "ef505e33"
      },
      "outputs": [],
      "source": [
        "ntraj_select = 4000000\n",
        "tau_list = tau_list[:ntraj_select].astype(np.float32)\n",
        "param_list = param_list[:ntraj_select].astype(np.float32)"
      ]
    },
    {
      "cell_type": "markdown",
      "id": "2463326c",
      "metadata": {
        "id": "2463326c"
      },
      "source": [
        "- We split the data set: 80% training, 20% validation.\n",
        "\n",
        "- We do not shuffle the data since the trajectories were already generated randomly"
      ]
    },
    {
      "cell_type": "code",
      "execution_count": null,
      "id": "d7dace8d",
      "metadata": {
        "id": "d7dace8d"
      },
      "outputs": [],
      "source": [
        "njumps = tau_list.shape[1]\n",
        "\n",
        "# Set data generated from Monte Carlo\n",
        "X_train_full, y_train_full = tau_list, param_list\n",
        "\n",
        "lenTrain=int(0.8*len(X_train_full))\n",
        "X_train, X_valid = X_train_full[:lenTrain], X_train_full[lenTrain:]\n",
        "y_train, y_valid = y_train_full[:lenTrain], y_train_full[lenTrain:]"
      ]
    },
    {
      "cell_type": "markdown",
      "id": "f9cef7ab",
      "metadata": {
        "id": "f9cef7ab"
      },
      "source": [
        "### Model: Hist-Dense Architecture"
      ]
    },
    {
      "cell_type": "code",
      "execution_count": null,
      "id": "4562e189",
      "metadata": {
        "id": "4562e189"
      },
      "outputs": [],
      "source": [
        "from paramest_nn.custom_layers import MyHistogramLayer_Sigmoid"
      ]
    },
    {
      "cell_type": "markdown",
      "id": "2a6a38a0",
      "metadata": {
        "id": "2a6a38a0"
      },
      "source": [
        "Define the model"
      ]
    },
    {
      "cell_type": "code",
      "execution_count": null,
      "id": "14a492e3",
      "metadata": {
        "id": "14a492e3"
      },
      "outputs": [],
      "source": [
        "# Custom-made histogram function\n",
        "nbins = 700\n",
        "taumax = 100\n",
        "width = taumax/nbins\n",
        "\n",
        "def create_model_Hist2D():\n",
        "  # Set the model\n",
        "  activation = \"relu\"\n",
        "  droprate = 0\n",
        "  modelHist = keras.models.Sequential(\n",
        "  [\n",
        "  MyHistogramLayer_Sigmoid(nbins, taumax, trainable = False),\n",
        "  keras.layers.Dense(100, activation=activation),\n",
        "   keras.layers.Dropout(droprate),\n",
        "  keras.layers.Dense(50, activation=activation),\n",
        "   keras.layers.Dropout(droprate),\n",
        "     keras.layers.Dense(30, activation=activation),\n",
        "   keras.layers.Dropout(droprate),\n",
        "   keras.layers.Dense(20, activation=activation),\n",
        "   keras.layers.Dropout(droprate),\n",
        "   keras.layers.Dense(10, activation=activation),\n",
        "   keras.layers.Dropout(droprate),\n",
        "     keras.layers.Dense(2)\n",
        "   ]\n",
        "  )\n",
        "  return modelHist"
      ]
    },
    {
      "cell_type": "markdown",
      "id": "257bc1fd",
      "metadata": {
        "id": "257bc1fd"
      },
      "source": [
        "Setup training"
      ]
    },
    {
      "cell_type": "code",
      "execution_count": null,
      "id": "10385204",
      "metadata": {
        "id": "10385204"
      },
      "outputs": [],
      "source": [
        "epochs = 1200\n",
        "batch_size = 12800\n",
        "optimizer = \"adam\"\n",
        "loss = tf.keras.losses.MeanSquaredLogarithmicError()\n",
        "metrics = [\"MeanSquaredError\"]"
      ]
    },
    {
      "cell_type": "markdown",
      "id": "8838450d",
      "metadata": {
        "id": "8838450d"
      },
      "source": [
        "Train"
      ]
    },
    {
      "cell_type": "code",
      "execution_count": null,
      "id": "0fb7fade",
      "metadata": {
        "colab": {
          "base_uri": "https://localhost:8080/"
        },
        "id": "0fb7fade",
        "outputId": "2af11754-a903-4029-b16a-650ca3e5722d"
      },
      "outputs": [],
      "source": [
        "tf.keras.backend.clear_session()\n",
        "strategy = setup_strategy()\n",
        "\n",
        "with strategy.scope():\n",
        "  modelHist = create_model_Hist2D()\n",
        "  modelHist.compile(\n",
        "      optimizer= optimizer,\n",
        "      loss=loss,\n",
        "            metrics=[metrics]\n",
        "      )\n",
        "\n",
        "history=modelHist.fit(\n",
        "    X_train, y_train,\n",
        "    epochs=epochs,\n",
        "    batch_size = batch_size,\n",
        "    validation_data=(X_valid, y_valid))\n"
      ]
    },
    {
      "cell_type": "code",
      "execution_count": null,
      "id": "c01b4d07",
      "metadata": {
        "colab": {
          "base_uri": "https://localhost:8080/",
          "height": 487
        },
        "id": "c01b4d07",
        "outputId": "78dc177e-e0d0-4aea-d302-a53d6523b64a"
      },
      "outputs": [],
      "source": [
        "pd.DataFrame(history.history).plot(figsize=(8, 5))\n",
        "plt.xlabel(\"Epochs\")\n",
        "plt.title(\"Training History\")\n",
        "plt.grid(True)\n",
        "plt.yscale(\"log\")\n",
        "plt.show()"
      ]
    },
    {
      "cell_type": "code",
      "execution_count": null,
      "id": "EgRNShfIc9Yx",
      "metadata": {
        "colab": {
          "base_uri": "https://localhost:8080/",
          "height": 495
        },
        "id": "EgRNShfIc9Yx",
        "outputId": "c561e6e0-7c30-405f-987f-c95a159b21df"
      },
      "outputs": [],
      "source": [
        "modelTrainName = f'model-Hist-Dense-2D.h5'\n",
        "\n",
        "\n",
        "save_dir = datapath+\"models/2D/\"\n",
        "create_directory(save_dir)\n",
        "save_path = save_dir + modelTrainName\n",
        "\n",
        "\n",
        "modelRNN.save(save_path)\n",
        "\n",
        "if isColab:\n",
        "    from google.colab import files\n",
        "    files.download(save_path)"
      ]
    }
  ],
  "metadata": {
    "accelerator": "TPU",
    "colab": {
      "gpuClass": "premium",
      "include_colab_link": true,
      "machine_shape": "hm",
      "provenance": []
    },
    "kernelspec": {
      "display_name": "Python 3",
      "name": "python3"
    },
    "language_info": {
      "codemirror_mode": {
        "name": "ipython",
        "version": 3
      },
      "file_extension": ".py",
      "mimetype": "text/x-python",
      "name": "python",
      "nbconvert_exporter": "python",
      "pygments_lexer": "ipython3",
      "version": "3.9.16"
    },
    "vscode": {
      "interpreter": {
        "hash": "75aefa5846c38e7f60223833655848743344b3a73c3cb35f865bf977ed2321b0"
      }
    }
  },
  "nbformat": 4,
  "nbformat_minor": 5
}
