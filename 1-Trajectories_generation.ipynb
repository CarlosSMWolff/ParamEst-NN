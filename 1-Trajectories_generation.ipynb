{
  "cells": [
    {
      "cell_type": "markdown",
      "id": "b536e7f9",
      "metadata": {
        "id": "b536e7f9"
      },
      "source": [
        "<a href=\"https://colab.research.google.com/github/CarlosSMWolff/ParamEst-NN/blob/main/1-Trajectories_generation.ipynb\" target=\"_parent\"><img src=\"https://colab.research.google.com/assets/colab-badge.svg\" alt=\"Open In Colab\"/></a>"
      ]
    },
    {
      "cell_type": "markdown",
      "id": "armed-characterization",
      "metadata": {
        "id": "armed-characterization"
      },
      "source": [
        "# Generation of data using Monte Carlo method of quantum trajectories"
      ]
    },
    {
      "cell_type": "markdown",
      "id": "0be10cfd",
      "metadata": {
        "id": "0be10cfd"
      },
      "source": [
        "## Goal"
      ]
    },
    {
      "cell_type": "markdown",
      "id": "60d43a9e",
      "metadata": {
        "id": "60d43a9e"
      },
      "source": [
        "In this notebook, we populate the folder `data\\trajectories` with data of photon-counting quantum trajectories simulated with Qutip.\n",
        "- Training populate the folder `data\\trajectories\\training-trajectories` and are used to train models based in neural networks for the problem of quantum parameter estimation.\n",
        "- Validation trajectories populate the folder `data\\trajectories\\training-trajectories` and are used to benchmark the trained models against other approaches based on Bayesian inference."
      ]
    },
    {
      "cell_type": "markdown",
      "id": "910bbd2b",
      "metadata": {
        "id": "910bbd2b"
      },
      "source": [
        "## Colab setup"
      ]
    },
    {
      "cell_type": "markdown",
      "id": "9c7743f0",
      "metadata": {
        "id": "9c7743f0"
      },
      "source": [
        "If this notebook is run online in Google Colab, we download the repository from GitHub to have access to our custom functions in the `src` folder.\n",
        "\n",
        "We must also download Qutip."
      ]
    },
    {
      "cell_type": "code",
      "execution_count": 3,
      "id": "d8cd6d2d",
      "metadata": {
        "colab": {
          "base_uri": "https://localhost:8080/"
        },
        "id": "d8cd6d2d",
        "outputId": "96946cbe-48ae-49a5-ccc5-6f74601297d9"
      },
      "outputs": [
        {
          "name": "stdout",
          "output_type": "stream",
          "text": [
            "We are running in Colab. Downloading repository.\n",
            "Cloning into 'ParamEst-NN'...\n",
            "remote: Enumerating objects: 352, done.\u001b[K\n",
            "remote: Counting objects: 100% (255/255), done.\u001b[K\n",
            "remote: Compressing objects: 100% (177/177), done.\u001b[K\n",
            "remote: Total 352 (delta 151), reused 162 (delta 71), pack-reused 97\u001b[K\n",
            "Receiving objects: 100% (352/352), 133.04 MiB | 17.70 MiB/s, done.\n",
            "Resolving deltas: 100% (181/181), done.\n",
            "Repository downloaded.\n",
            "mv: cannot move 'ParamEst-NN/data' to './data': Directory not empty\n",
            "mv: cannot move 'ParamEst-NN/src' to './src': Directory not empty\n",
            "Downloading Qutip.\n",
            "Collecting qutip\n",
            "  Downloading qutip-4.7.3-cp310-cp310-manylinux_2_17_x86_64.manylinux2014_x86_64.whl (16.3 MB)\n",
            "\u001b[2K     \u001b[90m━━━━━━━━━━━━━━━━━━━━━━━━━━━━━━━━━━━━━━━━\u001b[0m \u001b[32m16.3/16.3 MB\u001b[0m \u001b[31m36.6 MB/s\u001b[0m eta \u001b[36m0:00:00\u001b[0m\n",
            "\u001b[?25hRequirement already satisfied: numpy>=1.16.6 in /usr/local/lib/python3.10/dist-packages (from qutip) (1.23.5)\n",
            "Requirement already satisfied: scipy>=1.0 in /usr/local/lib/python3.10/dist-packages (from qutip) (1.10.1)\n",
            "Requirement already satisfied: packaging in /usr/local/lib/python3.10/dist-packages (from qutip) (23.1)\n",
            "Installing collected packages: qutip\n",
            "Successfully installed qutip-4.7.3\n"
          ]
        }
      ],
      "source": [
        "# Find out if this notebook is running in Google Colab\n",
        "import os\n",
        "isColab= 'google.colab' in str(get_ipython())\n",
        "\n",
        "if isColab:\n",
        "  print('We are running in Colab. Downloading repository.')\n",
        "  ! git clone https://github.com/CarlosSMWolff/ParamEst-NN\n",
        "  print('Repository downloaded.')\n",
        "  ! mv ParamEst-NN/* . && rm -r ParamEst-NN\n",
        "  print('Downloading Qutip.')\n",
        "  ! pip install qutip\n"
      ]
    },
    {
      "cell_type": "markdown",
      "id": "a1decc78",
      "metadata": {
        "id": "a1decc78"
      },
      "source": [
        "## Imports"
      ]
    },
    {
      "cell_type": "code",
      "execution_count": 4,
      "id": "respiratory-royalty",
      "metadata": {
        "id": "respiratory-royalty"
      },
      "outputs": [],
      "source": [
        "import numpy as np\n",
        "import matplotlib.pyplot as plt\n",
        "from numpy.random import *\n",
        "from qutip import *\n",
        "from tqdm import tqdm\n",
        "from src.quantum_tools import *"
      ]
    },
    {
      "cell_type": "markdown",
      "id": "81e0ca0b",
      "metadata": {
        "id": "81e0ca0b"
      },
      "source": [
        "In order to benefit from parallelization, we set up the number of available CPUs for Qutip to use"
      ]
    },
    {
      "cell_type": "code",
      "execution_count": 5,
      "id": "e18f68e3",
      "metadata": {
        "id": "e18f68e3"
      },
      "outputs": [],
      "source": [
        "max_cpus=19\n",
        "qutip.settings.num_cpus = max_cpus"
      ]
    },
    {
      "cell_type": "markdown",
      "id": "behavioral-spice",
      "metadata": {
        "id": "behavioral-spice"
      },
      "source": [
        "## Generation of training data for 1D case (estimation of $\\Delta$)"
      ]
    },
    {
      "cell_type": "markdown",
      "id": "525e2d7b",
      "metadata": {
        "id": "525e2d7b"
      },
      "source": [
        "Set up parameter to create the model of the system in Qutip"
      ]
    },
    {
      "cell_type": "code",
      "execution_count": 6,
      "id": "2c8f2917",
      "metadata": {
        "id": "2c8f2917"
      },
      "outputs": [],
      "source": [
        "N=2\n",
        "omega=1\n",
        "gamma=1"
      ]
    },
    {
      "cell_type": "markdown",
      "id": "be181900",
      "metadata": {
        "id": "be181900"
      },
      "source": [
        "- I will generate randomly the parameters, and only one trajectory per parameter, in order to avoid any weird information leaking.\n",
        "- Number of clicks per trajectory: `njumpsMC`\n",
        "- Total number of trajectories generated for training: `ndeltas`"
      ]
    },
    {
      "cell_type": "code",
      "execution_count": 7,
      "id": "c1b402ca",
      "metadata": {
        "id": "c1b402ca"
      },
      "outputs": [],
      "source": [
        "# Number of clicks per trajectory\n",
        "njumpsMC=48\n",
        "\n",
        "# Number of total trajectories to generate\n",
        "ndeltas = 400\n",
        "\n",
        "# Generation of a list of random values of Delta\n",
        "deltamin = 0\n",
        "deltamax = 5.\n",
        "delta_rand_list = deltamin + (deltamax-deltamin)*rand(ndeltas)\n",
        "omega_list = omega*np.ones(ndeltas)\n",
        "\n",
        "param_rand_list = list(zip(delta_rand_list,omega_list))"
      ]
    },
    {
      "cell_type": "code",
      "execution_count": 8,
      "id": "8fcdbaa0",
      "metadata": {
        "colab": {
          "base_uri": "https://localhost:8080/"
        },
        "id": "8fcdbaa0",
        "outputId": "d72c1c0d-7235-47cb-847d-fe0f75fdbe2b"
      },
      "outputs": [
        {
          "name": "stdout",
          "output_type": "stream",
          "text": [
            "10.0%. Run time:   9.06s. Est. time left: 00:00:01:21\n",
            "20.0%. Run time:  19.52s. Est. time left: 00:00:01:18\n",
            "30.0%. Run time:  27.57s. Est. time left: 00:00:01:04\n",
            "40.0%. Run time:  37.98s. Est. time left: 00:00:00:56\n",
            "50.0%. Run time:  47.25s. Est. time left: 00:00:00:47\n",
            "60.0%. Run time:  55.17s. Est. time left: 00:00:00:36\n",
            "70.0%. Run time:  64.44s. Est. time left: 00:00:00:27\n",
            "80.0%. Run time:  70.89s. Est. time left: 00:00:00:17\n",
            "90.0%. Run time:  80.40s. Est. time left: 00:00:00:08\n",
            "100.0%. Run time:  86.63s. Est. time left: 00:00:00:00\n",
            "Total run time:  86.70s\n"
          ]
        }
      ],
      "source": [
        "trajectories = np.asarray(parallel_map(generate_clicks_TLS, param_rand_list, task_kwargs=dict(njumpsMC = njumpsMC, gamma=gamma), progress_bar = True))"
      ]
    },
    {
      "cell_type": "markdown",
      "id": "d7b1fd1a",
      "metadata": {
        "id": "d7b1fd1a"
      },
      "source": [
        "The trajectories created have the form of time delays"
      ]
    },
    {
      "cell_type": "code",
      "execution_count": 9,
      "id": "62edefec",
      "metadata": {
        "colab": {
          "base_uri": "https://localhost:8080/"
        },
        "id": "62edefec",
        "outputId": "1cdedbf6-6080-4ace-eba1-20b118d89e39"
      },
      "outputs": [
        {
          "data": {
            "text/plain": [
              "(400, 48)"
            ]
          },
          "execution_count": 9,
          "metadata": {},
          "output_type": "execute_result"
        }
      ],
      "source": [
        "trajectories.shape"
      ]
    },
    {
      "cell_type": "code",
      "execution_count": 10,
      "id": "24eee2be",
      "metadata": {
        "colab": {
          "base_uri": "https://localhost:8080/"
        },
        "id": "24eee2be",
        "outputId": "be935dbc-7d05-4763-c4d6-34dfb24bd943"
      },
      "outputs": [
        {
          "data": {
            "text/plain": [
              "array([  5.3523989 ,   1.3797291 ,   1.08166421,   1.25242976,\n",
              "         0.77866118,   1.2779573 ,   2.00270508,   3.30765181,\n",
              "         1.23046315,  11.81163944,   8.17499333,  14.18156192,\n",
              "         0.93647225,   1.68664817,   2.74743897,   2.2811057 ,\n",
              "         1.68499065,   1.55774039,   1.81563378,   2.32267705,\n",
              "         7.2196226 ,   0.80587631,   1.85487275,   2.7256364 ,\n",
              "         1.04918763,   1.20191385,   0.87559774,   4.17687354,\n",
              "         2.03455182,   0.15644974,   1.46301084,   4.63853432,\n",
              "         1.89865789,   4.7110974 ,   1.10535377,   1.10355627,\n",
              "         4.43880684,   1.95978836,   0.92885977,   1.30198501,\n",
              "         2.45191591,   4.66886085,   4.76881362,   1.54793497,\n",
              "         2.68651243,   2.38294078, 131.5724977 ,   1.48449646])"
            ]
          },
          "execution_count": 10,
          "metadata": {},
          "output_type": "execute_result"
        }
      ],
      "source": [
        "trajectories[0]"
      ]
    },
    {
      "cell_type": "markdown",
      "id": "df702011",
      "metadata": {
        "id": "df702011"
      },
      "source": [
        "Save the trajetories into the `data/training/1D-delta` folder"
      ]
    },
    {
      "cell_type": "code",
      "execution_count": 13,
      "id": "3e0efc30",
      "metadata": {
        "id": "3e0efc30"
      },
      "outputs": [],
      "source": [
        "filename = f'data/training-trajectories/1D-delta/taus-Delta-1D'\n",
        "filenameDeltas = f'data/training-trajectories/1D-delta/delta_rand_list-Delta-1D'\n",
        "\n",
        "np.save(filename,trajectories)\n",
        "np.save(filenameDeltas,delta_rand_list)"
      ]
    },
    {
      "cell_type": "markdown",
      "id": "7fe828c6",
      "metadata": {
        "id": "7fe828c6"
      },
      "source": [
        "## Generation of training data for 2D case (estimation of $\\Delta$ and $\\Omega$)"
      ]
    },
    {
      "cell_type": "markdown",
      "id": "794c59d8",
      "metadata": {
        "id": "794c59d8"
      },
      "source": [
        "We sample the parameters randomly, and create only one trajectory per parameter"
      ]
    },
    {
      "cell_type": "code",
      "execution_count": 14,
      "id": "547632c1",
      "metadata": {
        "id": "547632c1"
      },
      "outputs": [],
      "source": [
        "nparams = 400\n",
        "\n",
        "deltamin = 0.\n",
        "deltamax = 3.\n",
        "\n",
        "omegamin =0.25\n",
        "omegamax = 5.\n",
        "\n",
        "omega_rand_list = omegamin + (omegamax-omegamin)*rand(nparams)\n",
        "delta_rand_list = deltamin + (deltamax-deltamin)*rand(nparams)"
      ]
    },
    {
      "cell_type": "code",
      "execution_count": 15,
      "id": "d15a9018",
      "metadata": {
        "id": "d15a9018"
      },
      "outputs": [],
      "source": [
        "param_rand_list = list(zip(delta_rand_list,omega_rand_list))\n",
        "param_rand_array = np.array(param_rand_list)"
      ]
    },
    {
      "cell_type": "markdown",
      "id": "ba1a10c7",
      "metadata": {
        "id": "ba1a10c7"
      },
      "source": [
        "Visualization of the distribution of parameters sampled for training"
      ]
    },
    {
      "cell_type": "code",
      "execution_count": 16,
      "id": "85f6195f",
      "metadata": {
        "colab": {
          "base_uri": "https://localhost:8080/",
          "height": 449
        },
        "id": "85f6195f",
        "outputId": "2f91111a-b500-414f-8901-1f7c997dbbc1"
      },
      "outputs": [
        {
          "data": {
            "image/png": "[encoded data removed]",
            "text/plain": [
              "<Figure size 640x480 with 1 Axes>"
            ]
          },
          "metadata": {},
          "output_type": "display_data"
        }
      ],
      "source": [
        "plt.hexbin(delta_rand_list,omega_rand_list)\n",
        "plt.xlabel('$\\Delta$'); plt.ylabel('$\\Omega$')\n",
        "plt.show()"
      ]
    },
    {
      "cell_type": "code",
      "execution_count": 17,
      "id": "a9c01db1",
      "metadata": {
        "colab": {
          "base_uri": "https://localhost:8080/"
        },
        "id": "a9c01db1",
        "outputId": "0d6de17e-87d8-4f7d-a048-06c3e5946c81"
      },
      "outputs": [
        {
          "name": "stdout",
          "output_type": "stream",
          "text": [
            "10.0%. Run time:   5.51s. Est. time left: 00:00:00:49\n",
            "20.0%. Run time:  12.21s. Est. time left: 00:00:00:48\n",
            "30.0%. Run time:  16.58s. Est. time left: 00:00:00:38\n",
            "40.0%. Run time:  21.68s. Est. time left: 00:00:00:32\n",
            "50.0%. Run time:  27.66s. Est. time left: 00:00:00:27\n",
            "60.0%. Run time:  31.35s. Est. time left: 00:00:00:20\n",
            "70.0%. Run time:  35.51s. Est. time left: 00:00:00:15\n",
            "80.0%. Run time:  41.80s. Est. time left: 00:00:00:10\n",
            "90.0%. Run time:  45.75s. Est. time left: 00:00:00:05\n",
            "100.0%. Run time:  49.26s. Est. time left: 00:00:00:00\n",
            "Total run time:  49.35s\n"
          ]
        }
      ],
      "source": [
        "trajectories = np.array(parallel_map(generate_clicks_TLS, param_rand_list,num_processes=19, progress_bar = True))"
      ]
    },
    {
      "cell_type": "markdown",
      "id": "aed14e81",
      "metadata": {
        "id": "aed14e81"
      },
      "source": [
        "Save the trajetories into the `data/training/2D-delta-omega` folder"
      ]
    },
    {
      "cell_type": "code",
      "execution_count": 18,
      "id": "728812bc",
      "metadata": {
        "id": "728812bc"
      },
      "outputs": [],
      "source": [
        "# Save files to disk\n",
        "filename = f'data/training-trajectories/2D-delta-omega/taus-2D'\n",
        "filenameParams = f'data/training-trajectories/2D-delta-omega/param_rand_list-2D'\n",
        "\n",
        "np.save(filename,trajectories)\n",
        "np.save(filenameParams,param_rand_array)"
      ]
    },
    {
      "cell_type": "markdown",
      "id": "ea675c2e",
      "metadata": {
        "id": "ea675c2e"
      },
      "source": [
        "## Generation of validation clicks for 1D case"
      ]
    },
    {
      "cell_type": "markdown",
      "id": "c8f04d75",
      "metadata": {
        "id": "c8f04d75"
      },
      "source": [
        "Setup Qutip operators"
      ]
    },
    {
      "cell_type": "code",
      "execution_count": 19,
      "id": "77f08484",
      "metadata": {
        "id": "77f08484"
      },
      "outputs": [],
      "source": [
        "N=2\n",
        "a=destroy(N)\n",
        "psi0=basis(N,0)\n",
        "c_ops=[]\n",
        "gamma=1\n",
        "c_ops.append(np.sqrt(gamma)*a)"
      ]
    },
    {
      "cell_type": "markdown",
      "id": "67072322",
      "metadata": {
        "id": "67072322"
      },
      "source": [
        "\n",
        "Notice that for the validation, we will generate many trajectories for the same value of the parameter, unlike in the training data.\n",
        "\n",
        "- Number of points in the grid of $\\Delta$ values considered for the validation: `ndelta`\n",
        "\n",
        "- Number of trajectories for each value of the grid of parameters: `ntraj`\n",
        "\n"
      ]
    },
    {
      "cell_type": "code",
      "execution_count": 20,
      "id": "b01dec67",
      "metadata": {
        "id": "b01dec67"
      },
      "outputs": [],
      "source": [
        "ndelta = 40\n",
        "ntraj = 100\n",
        "\n",
        "omega=1\n",
        "deltaMax = 2.1\n",
        "t0=0\n",
        "\n",
        "njumpsMC=48 # to keep\n",
        "njumpsSim = 60 # to actually run, we choose much larger than the number of clicks we plan to keep\n",
        "\n",
        "deltagrid = np.linspace(0.,deltaMax,ndelta)\n",
        "jumpArray = np.zeros((ndelta,ntraj,njumpsMC))"
      ]
    },
    {
      "cell_type": "code",
      "execution_count": null,
      "id": "57771ece",
      "metadata": {
        "colab": {
          "base_uri": "https://localhost:8080/"
        },
        "id": "57771ece",
        "outputId": "24c7391f-d4e0-4798-f153-85665aaa0549"
      },
      "outputs": [
        {
          "name": "stderr",
          "output_type": "stream",
          "text": [
            " 32%|███▎      | 13/40 [01:05<02:29,  5.55s/it]"
          ]
        }
      ],
      "source": [
        "for idx_delta in tqdm(range(ndelta)):\n",
        "    delta = deltagrid[idx_delta]\n",
        "    # Estimate the final time to have, on average, njumpsSim jumps\n",
        "    tf=njumpsSim*(4*delta**2+8*omega**2+gamma**2)/(4*gamma*omega**2)\n",
        "    H=delta*a.dag()*a+omega*a+omega*a.dag()\n",
        "    tlist=[t0,tf] #\n",
        "\n",
        "    ntrajRemaining = ntraj\n",
        "    jumpList = []\n",
        "    trajs_to_complete = [[] for i in range(ntraj)]\n",
        "    trajs_completed   = []\n",
        "\n",
        "    while ntrajRemaining > 0:\n",
        "        mc=mcsolve(H,psi0,tlist,c_ops,[],ntrajRemaining,progress_bar=False)\n",
        "        time_array = mc.col_times\n",
        "\n",
        "        # Append the results into the trajectories in trajs_to_complete\n",
        "        # WARNING: Appending different trajectories into a single one is only valid for the TLS, which gets reseted after each jump\n",
        "        for idx, times in enumerate(time_array):\n",
        "            trajs_to_complete[idx]+= list(to_time_delay(times))\n",
        "\n",
        "        sizes = np.array([len(traj) for traj in trajs_to_complete])\n",
        "        good_indexes = np.arange(ntrajRemaining)[sizes>=njumpsMC]\n",
        "        bad_indexes = np.arange(ntrajRemaining)[sizes<njumpsMC]\n",
        "        n_good_traj = len(good_indexes)\n",
        "        ntrajRemaining = ntrajRemaining - n_good_traj\n",
        "\n",
        "        # Trajectories with njumpsMC jumps are moved into trajs_completed\n",
        "        for idx in good_indexes:\n",
        "            trajs_completed += [trajs_to_complete[idx][:njumpsMC]]\n",
        "\n",
        "        # Remove completed trajectory from trajs_to_complete\n",
        "        trajs_to_complete = [trajs_to_complete[idx] for idx in bad_indexes]\n",
        "\n",
        "\n",
        "    jumpArray[idx_delta,:,:] = np.asarray(trajs_completed)"
      ]
    },
    {
      "cell_type": "code",
      "execution_count": null,
      "id": "8057cc58",
      "metadata": {
        "id": "8057cc58"
      },
      "outputs": [],
      "source": [
        "np.save(f\"data/validation-trajectories/1D-delta/validation-trajectories-1D-delta-nsets-{ntraj}\",jumpArray)\n",
        "np.save(f\"data/validation-trajectories/1D-delta/validation-deltas-1D-delta-nsets-{ntraj}.npy\",deltagrid)"
      ]
    },
    {
      "cell_type": "markdown",
      "id": "960930a3",
      "metadata": {
        "id": "960930a3"
      },
      "source": [
        "## Generation of validation clicks for 2D case"
      ]
    },
    {
      "cell_type": "markdown",
      "id": "ca19c20e",
      "metadata": {
        "id": "ca19c20e"
      },
      "source": [
        "Setup Qutip operators"
      ]
    },
    {
      "cell_type": "code",
      "execution_count": null,
      "id": "f8796b1c",
      "metadata": {
        "id": "f8796b1c"
      },
      "outputs": [],
      "source": [
        "N=2\n",
        "a=destroy(N)\n",
        "psi0=basis(N,0)\n",
        "c_ops=[]\n",
        "gamma=1\n",
        "c_ops.append(np.sqrt(gamma)*a)"
      ]
    },
    {
      "cell_type": "markdown",
      "id": "5749662e",
      "metadata": {
        "id": "5749662e"
      },
      "source": [
        "\n",
        "Notice that for the validation, we will generate many trajectories for the same value of the parameter pairs, unlike in the training data.\n",
        "\n",
        "- Number of points in the grid of $\\Delta$ values considered for the validation: `ndelta`\n",
        "- Number of points in the grid of $\\Omega$ values considered for the validation: `nomega`\n",
        "- Number of trajectories for each value of the square grid of parameters: `ntraj`\n",
        "\n"
      ]
    },
    {
      "cell_type": "code",
      "execution_count": null,
      "id": "e33548a2",
      "metadata": {
        "id": "e33548a2"
      },
      "outputs": [],
      "source": [
        "ndelta = 40\n",
        "nomega = 40\n",
        "\n",
        "ntraj = 10000\n",
        "deltamin = 0.\n",
        "deltamax = 2.1\n",
        "\n",
        "omegamin =0.25\n",
        "omegamax = 2.1\n",
        "\n",
        "njumpsMC=48 # to keep\n",
        "njumpsSim = 60 # to actually run, we choose much larger than the number of clicks we plan to keep\n",
        "\n",
        "\n",
        "deltagrid = np.linspace(deltamin,deltamax,ndelta)\n",
        "omegagrid = np.linspace(omegamin,omegamax,nomega)\n",
        "\n",
        "def gen_param_list(array1,array2):\n",
        "    return np.array(np.meshgrid(array1,array2)).T.reshape(-1,2)\n",
        "\n",
        "param_grid = gen_param_list(deltagrid,omegagrid)\n",
        "nparams = ndelta*nomega\n",
        "\n",
        "jumpArray = np.zeros((nparams,ntraj,njumpsMC))"
      ]
    },
    {
      "cell_type": "code",
      "execution_count": null,
      "id": "3ee69821",
      "metadata": {
        "id": "3ee69821",
        "outputId": "01ea18e4-796c-4108-810f-9663a446f705"
      },
      "outputs": [
        {
          "name": "stderr",
          "output_type": "stream",
          "text": [
            "  0%|          | 0/16 [00:00<?, ?it/s]"
          ]
        },
        {
          "name": "stderr",
          "output_type": "stream",
          "text": [
            "100%|██████████| 16/16 [02:18<00:00,  8.69s/it]\n"
          ]
        }
      ],
      "source": [
        "for idx_param in tqdm(range(nparams)):\n",
        "    delta = param_grid[idx_param][0]\n",
        "    omega = param_grid[idx_param][1]\n",
        "    tf=njumpsSim*(4*delta**2+8*omega**2+gamma**2)/(4*gamma*omega**2)\n",
        "    H=delta*a.dag()*a+omega*a+omega*a.dag()\n",
        "    tlist=[0.,tf] #\n",
        "\n",
        "    ntrajRemaining = ntraj\n",
        "    jumpList = []\n",
        "    trajs_to_complete = [[] for i in range(ntraj)]\n",
        "    trajs_completed   = []\n",
        "\n",
        "    while ntrajRemaining > 0:\n",
        "        mc=mcsolve(H,psi0,tlist,c_ops,[],ntrajRemaining,progress_bar=False)\n",
        "        time_array = mc.col_times\n",
        "\n",
        "        # Append the results into the trajectories in trajs_to_complete\n",
        "        # WARNING: Appending different trajectories into a single one is only valid for the TLS, which gets reseted after each jump\n",
        "        for idx, times in enumerate(time_array):\n",
        "            trajs_to_complete[idx]+= list(to_time_delay(times))\n",
        "\n",
        "        sizes = np.array([len(traj) for traj in trajs_to_complete])\n",
        "        good_indexes = np.arange(ntrajRemaining)[sizes>=njumpsMC]\n",
        "        bad_indexes = np.arange(ntrajRemaining)[sizes<njumpsMC]\n",
        "        n_good_traj = len(good_indexes)\n",
        "        ntrajRemaining = ntrajRemaining - n_good_traj\n",
        "\n",
        "        # Trajectories with njumpsMC jumps are moved into trajs_completed\n",
        "        for idx in good_indexes:\n",
        "            trajs_completed += [trajs_to_complete[idx][:njumpsMC]]\n",
        "\n",
        "        # Remove completed trajectory from trajs_to_complete\n",
        "        trajs_to_complete = [trajs_to_complete[idx] for idx in bad_indexes]\n",
        "\n",
        "\n",
        "    jumpArray[idx_param,:,:] = np.asarray(trajs_completed)"
      ]
    },
    {
      "cell_type": "code",
      "execution_count": null,
      "id": "7a686fb1",
      "metadata": {
        "id": "7a686fb1"
      },
      "outputs": [],
      "source": [
        "np.save(f\"data/validation-trajectories/2D-delta-omega/validation-trajectories-2D-delta-omega-nsets-{ntraj}\",jumpArray)\n",
        "np.save(f\"data/validation-trajectories/2D-delta-omega/validation-deltas-2D-delta-omega-nsets-{ntraj}.npy\",param_grid)"
      ]
    },
    {
      "cell_type": "code",
      "execution_count": null,
      "id": "d22e02b8",
      "metadata": {
        "id": "d22e02b8"
      },
      "outputs": [],
      "source": [
        "jumpArray2 = np.reshape(jumpArray,(1600,10,1000,48))"
      ]
    },
    {
      "cell_type": "code",
      "execution_count": null,
      "id": "c3b93627",
      "metadata": {
        "id": "c3b93627"
      },
      "outputs": [],
      "source": [
        "for i in range(10):\n",
        "    np.save(f\"data/validation-trajectories/2D-delta-omega/validation-trajectories-10ktrajs-batch-{i}.npy\",jumpArray2[:,i,:,:])"
      ]
    }
  ],
  "metadata": {
    "colab": {
      "provenance": []
    },
    "kernelspec": {
      "display_name": "Python 3.9.13 ('ParamEst')",
      "language": "python",
      "name": "python3"
    },
    "language_info": {
      "codemirror_mode": {
        "name": "ipython",
        "version": 3
      },
      "file_extension": ".py",
      "mimetype": "text/x-python",
      "name": "python",
      "nbconvert_exporter": "python",
      "pygments_lexer": "ipython3",
      "version": "3.9.16"
    },
    "vscode": {
      "interpreter": {
        "hash": "b68a6f85bcbc04633b7b962edcf9ea7bb288bc87794cf93dbb5a87b5dde368c4"
      }
    }
  },
  "nbformat": 4,
  "nbformat_minor": 5
}
